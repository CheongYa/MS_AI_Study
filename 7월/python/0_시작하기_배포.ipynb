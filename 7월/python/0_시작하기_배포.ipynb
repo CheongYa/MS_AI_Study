{
  "cells": [
    {
      "cell_type": "code",
      "execution_count": 27,
      "metadata": {
        "id": "H-FX5bBb6cG9"
      },
      "outputs": [],
      "source": [
        "# 미션: 숫자 리스트의 모든 요소를 제곱한 후 새로운 리스트로 반환하기"
      ]
    },
    {
      "cell_type": "code",
      "execution_count": 28,
      "metadata": {
        "id": "8FABTWPE65LD"
      },
      "outputs": [
        {
          "name": "stdout",
          "output_type": "stream",
          "text": [
            "[1, 4, 9, 16, 25]\n"
          ]
        }
      ],
      "source": [
        "numbers = [1, 2, 3, 4, 5]\n",
        "# squared_numbers = # TODO: YOUR CODE HERE\n",
        "squared_numbers = [x ** 2 for x in numbers] # 가능한 1번\n",
        "squared_numbers = list(map(lambda x: x ** 2, numbers)) # 가능한 2번\n",
        "print(squared_numbers)"
      ]
    },
    {
      "cell_type": "code",
      "execution_count": 29,
      "metadata": {
        "id": "1iM_f0bg65Uk"
      },
      "outputs": [],
      "source": [
        "# 미션: 학생들의 이름과 점수가 있는 딕셔너리에서, 점수가 70점 이상인 학생들만 출력"
      ]
    },
    {
      "cell_type": "code",
      "execution_count": 30,
      "metadata": {
        "id": "RYnHlxx47G8c"
      },
      "outputs": [
        {
          "name": "stdout",
          "output_type": "stream",
          "text": [
            "{'Alice': 85, 'Charlie': 72, 'David': 90}\n"
          ]
        }
      ],
      "source": [
        "students = {'Alice': 85, 'Bob': 67, 'Charlie': 72, 'David': 90}\n",
        "# passed_students = # TODO: YOUR CODE HERE\n",
        "passed_students = {name: score for name, score in students.items() if score >= 70}\n",
        "print(passed_students)"
      ]
    },
    {
      "cell_type": "code",
      "execution_count": 31,
      "metadata": {
        "id": "0pfxmUda7L1N"
      },
      "outputs": [],
      "source": [
        "# 미션: 두 숫자의 합을 계산하는 함수를 작성"
      ]
    },
    {
      "cell_type": "code",
      "execution_count": 32,
      "metadata": {
        "id": "DQShaNEw7N4r"
      },
      "outputs": [
        {
          "name": "stdout",
          "output_type": "stream",
          "text": [
            "30\n"
          ]
        }
      ],
      "source": [
        "# TODO: YOUR CODE HERE\n",
        "def add_numbers(a, b):\n",
        "    return a+b\n",
        "\n",
        "result = add_numbers(10, 20)\n",
        "print(result)"
      ]
    },
    {
      "cell_type": "code",
      "execution_count": 33,
      "metadata": {
        "id": "o0X_wyUW7Vl-"
      },
      "outputs": [],
      "source": [
        "# 미션: 텍스트 파일을 읽고, 파일의 각 줄을 역순으로 출력하세요.\n",
        "# 2~3줄의 문장이 들어있는 간단한 sample.txt 파일을 만들어주세요"
      ]
    },
    {
      "cell_type": "code",
      "execution_count": 34,
      "metadata": {
        "id": "3oF3l-lD7XPD"
      },
      "outputs": [
        {
          "name": "stdout",
          "output_type": "stream",
          "text": [
            "ih\n",
            "uoy teem ot ecin\n",
            "eyb\n"
          ]
        }
      ],
      "source": [
        "with open('sample.txt', 'r') as file:\n",
        "    lines = file.readlines()\n",
        "    # reversed_lines = # TODO: YOUR CODE HERE\n",
        "    reversed_lines = [line[::-1] for line in lines]\n",
        "    for line in reversed_lines:\n",
        "        print(line.strip())\n"
      ]
    },
    {
      "cell_type": "code",
      "execution_count": 35,
      "metadata": {
        "id": "cLh17mxv8jxj"
      },
      "outputs": [],
      "source": [
        "# 미션: CSV 파일을 읽고, 'column_name' 열의 평균값을 계산하세요.\n",
        "# 먼저 data.csv파일을 만드는 코드셀을 실행하세요"
      ]
    },
    {
      "cell_type": "code",
      "execution_count": 36,
      "metadata": {
        "id": "Qw3tkjvDKbes"
      },
      "outputs": [
        {
          "name": "stdout",
          "output_type": "stream",
          "text": [
            "data.csv 파일이 성공적으로 생성되었습니다.\n"
          ]
        }
      ],
      "source": [
        "import csv\n",
        "\n",
        "# 데이터 정의\n",
        "data = [\n",
        "    ['column_group', 'column_name', 'other_column'],\n",
        "    ['A', 10, 5],\n",
        "    ['B', 20, 15],\n",
        "    ['D', 30, 25],\n",
        "    ['C', 40, 35],\n",
        "    ['A', 50, 45],\n",
        "    ['C', 60, 55],\n",
        "    ['A', 70, 65],\n",
        "    ['D', 80, 75],\n",
        "    ['B', 90, 85],\n",
        "    ['B', 100, 95]\n",
        "]\n",
        "\n",
        "# 파일 쓰기\n",
        "with open('data.csv', 'w', newline='') as file:\n",
        "    writer = csv.writer(file)\n",
        "    writer.writerows(data)\n",
        "\n",
        "print(\"data.csv 파일이 성공적으로 생성되었습니다.\")"
      ]
    },
    {
      "cell_type": "code",
      "execution_count": 37,
      "metadata": {
        "id": "K8dxRpHB8l1C"
      },
      "outputs": [
        {
          "name": "stdout",
          "output_type": "stream",
          "text": [
            "55.0\n"
          ]
        }
      ],
      "source": [
        "import pandas as pd\n",
        "\n",
        "df = pd.read_csv('data.csv')\n",
        "# average_value = # TODO: YOUR CODE HERE\n",
        "average_value = df['column_name'].mean()\n",
        "print(average_value)"
      ]
    },
    {
      "cell_type": "code",
      "execution_count": 38,
      "metadata": {
        "id": "SNzaeZ728sbq"
      },
      "outputs": [],
      "source": [
        "# 미션: 데이터 프레임에서 특정 조건('column_name'열 중 50초과)을 만족하는 행만 선택하세요."
      ]
    },
    {
      "cell_type": "code",
      "execution_count": 39,
      "metadata": {
        "id": "R5Xo6X4K8ujt"
      },
      "outputs": [
        {
          "name": "stdout",
          "output_type": "stream",
          "text": [
            "  column_group  column_name  other_column\n",
            "5            C           60            55\n",
            "6            A           70            65\n",
            "7            D           80            75\n",
            "8            B           90            85\n",
            "9            B          100            95\n"
          ]
        }
      ],
      "source": [
        "# filtered_df = # TODO: YOUR CODE HERE\n",
        "filtered_df = df[df['column_name'] > 50]\n",
        "print(filtered_df)"
      ]
    },
    {
      "cell_type": "code",
      "execution_count": 40,
      "metadata": {
        "id": "SepQLBHb9a6k"
      },
      "outputs": [],
      "source": [
        "# 미션: 데이터 프레임을 'column_group' 열에 의해 그룹화하고, 그룹별 합계를 계산하세요."
      ]
    },
    {
      "cell_type": "code",
      "execution_count": 41,
      "metadata": {
        "id": "lwJB45go9c0R"
      },
      "outputs": [
        {
          "name": "stdout",
          "output_type": "stream",
          "text": [
            "              column_name  other_column\n",
            "column_group                           \n",
            "A                     130           115\n",
            "B                     210           195\n",
            "C                     100            90\n",
            "D                     110           100\n"
          ]
        }
      ],
      "source": [
        "# grouped_df = # TODO: YOUR CODE HERE\n",
        "grouped_df = df.groupby('column_group').sum()\n",
        "print(grouped_df)"
      ]
    },
    {
      "cell_type": "code",
      "execution_count": 51,
      "metadata": {
        "id": "LAnBLD6UHBbf"
      },
      "outputs": [
        {
          "name": "stdout",
          "output_type": "stream",
          "text": [
            "생성된 로또 번호: [10, 27, 21, 15, 28, 37]\n"
          ]
        }
      ],
      "source": [
        "# 미션: 로또 번호 생성기\n",
        "# 주제: 1부터 45까지의 숫자 중에서 랜덤으로 6개의 로또 번호를 생성하는 프로그램을 작성하세요.\n",
        "# 요구사항: 6개의 숫자가 중복되지 않도록 랜덤으로 생성합니다.\n",
        "\n",
        "import random\n",
        "\n",
        "def getting_lotto_numbers():\n",
        "    # 1부터 45까지의 숫자 생성\n",
        "    numbers = list(range(1, 46))\n",
        "    # 숫자 섞기\n",
        "    random.shuffle(numbers)\n",
        "    # 처음 6개의 숫자 선택\n",
        "    lotto_numbers = numbers[:6]\n",
        "    return lotto_numbers\n",
        "\n",
        "# 로또 번호 생성\n",
        "lotto_numbers = getting_lotto_numbers()\n",
        "print(\"생성된 로또 번호:\", lotto_numbers)\n"
      ]
    },
    {
      "cell_type": "code",
      "execution_count": 45,
      "metadata": {
        "id": "ZEsaIhQdGtvn"
      },
      "outputs": [
        {
          "name": "stdout",
          "output_type": "stream",
          "text": [
            "더 작은 숫자를 입력하세요.\n",
            "더 작은 숫자를 입력하세요.\n",
            "더 작은 숫자를 입력하세요.\n",
            "축하합니다! 숫자 3를 맞추셨습니다!\n"
          ]
        }
      ],
      "source": [
        "# 미션: 숫자 맞추기 게임\n",
        "# 주제: 컴퓨터가 1에서 100 사이의 랜덤 숫자를 선택하고, 사용자가 이를 맞추는 게임을 만드세요.\n",
        "# 요구사항: 사용자가 숫자를 입력하면, 컴퓨터가 더 큰지 작은지를 알려주고, 맞출 때까지 반복합니다.\n",
        "\n",
        "import random\n",
        "\n",
        "def guess_number_game():\n",
        "    # 컴퓨터가 선택한 랜덤 숫자\n",
        "    computer_number = random.randint(1, 100)\n",
        "    \n",
        "    while True:\n",
        "        # 사용자가 추측한 숫자 입력\n",
        "        user_guess = int(input(\"1부터 100 사이의 숫자를 맞추시오: \"))\n",
        "        \n",
        "        # 사용자가 입력한 숫자와 컴퓨터 숫자 비교\n",
        "        if user_guess < computer_number:\n",
        "            print(\"더 큰 숫자를 입력하세요.\")\n",
        "        elif user_guess > computer_number:\n",
        "            print(\"더 작은 숫자를 입력하세요.\")\n",
        "        else:\n",
        "            print(f\"축하합니다! 숫자 {computer_number}를 맞추셨습니다!\")\n",
        "            break\n",
        "\n",
        "# 숫자 맞추기 게임 실행\n",
        "guess_number_game()\n"
      ]
    },
    {
      "cell_type": "code",
      "execution_count": 52,
      "metadata": {
        "id": "e_HCY52GHHc4"
      },
      "outputs": [
        {
          "name": "stdout",
          "output_type": "stream",
          "text": [
            "========== 2단 ==========\n",
            "2 * 1 =  2\n",
            "2 * 2 =  4\n",
            "2 * 3 =  6\n",
            "2 * 4 =  8\n",
            "2 * 5 =  10\n",
            "2 * 6 =  12\n",
            "2 * 7 =  14\n",
            "2 * 8 =  16\n",
            "2 * 9 =  18\n",
            "========== 3단 ==========\n",
            "3 * 1 =  3\n",
            "3 * 2 =  6\n",
            "3 * 3 =  9\n",
            "3 * 4 =  12\n",
            "3 * 5 =  15\n",
            "3 * 6 =  18\n",
            "3 * 7 =  21\n",
            "3 * 8 =  24\n",
            "3 * 9 =  27\n",
            "========== 4단 ==========\n",
            "4 * 1 =  4\n",
            "4 * 2 =  8\n",
            "4 * 3 =  12\n",
            "4 * 4 =  16\n",
            "4 * 5 =  20\n",
            "4 * 6 =  24\n",
            "4 * 7 =  28\n",
            "4 * 8 =  32\n",
            "4 * 9 =  36\n",
            "========== 5단 ==========\n",
            "5 * 1 =  5\n",
            "5 * 2 =  10\n",
            "5 * 3 =  15\n",
            "5 * 4 =  20\n",
            "5 * 5 =  25\n",
            "5 * 6 =  30\n",
            "5 * 7 =  35\n",
            "5 * 8 =  40\n",
            "5 * 9 =  45\n",
            "========== 6단 ==========\n",
            "6 * 1 =  6\n",
            "6 * 2 =  12\n",
            "6 * 3 =  18\n",
            "6 * 4 =  24\n",
            "6 * 5 =  30\n",
            "6 * 6 =  36\n",
            "6 * 7 =  42\n",
            "6 * 8 =  48\n",
            "6 * 9 =  54\n",
            "========== 7단 ==========\n",
            "7 * 1 =  7\n",
            "7 * 2 =  14\n",
            "7 * 3 =  21\n",
            "7 * 4 =  28\n",
            "7 * 5 =  35\n",
            "7 * 6 =  42\n",
            "7 * 7 =  49\n",
            "7 * 8 =  56\n",
            "7 * 9 =  63\n",
            "========== 8단 ==========\n",
            "8 * 1 =  8\n",
            "8 * 2 =  16\n",
            "8 * 3 =  24\n",
            "8 * 4 =  32\n",
            "8 * 5 =  40\n",
            "8 * 6 =  48\n",
            "8 * 7 =  56\n",
            "8 * 8 =  64\n",
            "8 * 9 =  72\n",
            "========== 9단 ==========\n",
            "9 * 1 =  9\n",
            "9 * 2 =  18\n",
            "9 * 3 =  27\n",
            "9 * 4 =  36\n",
            "9 * 5 =  45\n",
            "9 * 6 =  54\n",
            "9 * 7 =  63\n",
            "9 * 8 =  72\n",
            "9 * 9 =  81\n"
          ]
        }
      ],
      "source": [
        "# 미션: 구구단 출력기\n",
        "# 주제: 2단부터 9단까지의 구구단을 출력하는 프로그램을 작성하세요.\n",
        "# 요구사항: 2단부터 9단까지의 곱셈 결과를 출력합니다.\n",
        "\n",
        "def multiply_table():\n",
        "    # 2단부터 9단까지 반복\n",
        "    for i in range(2, 10):\n",
        "        print(f\"========== {i}단 ==========\")\n",
        "        # 1부터 9까지 반복\n",
        "        for y in range(1, 10):\n",
        "            print(f\"{i} * {y} = \", i * y)\n",
        "\n",
        "multiply_table()"
      ]
    }
  ],
  "metadata": {
    "colab": {
      "provenance": []
    },
    "kernelspec": {
      "display_name": "Python 3",
      "name": "python3"
    },
    "language_info": {
      "codemirror_mode": {
        "name": "ipython",
        "version": 3
      },
      "file_extension": ".py",
      "mimetype": "text/x-python",
      "name": "python",
      "nbconvert_exporter": "python",
      "pygments_lexer": "ipython3",
      "version": "3.12.4"
    }
  },
  "nbformat": 4,
  "nbformat_minor": 0
}
