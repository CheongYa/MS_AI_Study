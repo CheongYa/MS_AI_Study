{
 "cells": [
  {
   "cell_type": "code",
   "execution_count": 7,
   "metadata": {},
   "outputs": [],
   "source": [
    "import folium\n",
    "\n",
    "# folium의 Map 객체를 생성하며 [위도 초기값, 경도 초기값]을 설정\n",
    "map = folium.Map(location=[37.4965, 126.9573],\n",
    "                 zoom_start=17,\n",
    "                 width=750,\n",
    "                 height=500)\n",
    "\n",
    "# popup = 설명, tooltip = 마우스포인터 가져다대면 나오는 설명, icon = 보이는 아이콘\n",
    "folium.Marker(location=[37.4965, 126.9573],\n",
    "              popup='숭실대학교',\n",
    "              tooltip='숭실대학교 정문',\n",
    "              icon=folium.Icon(color='red', icon='cat', prefix='fa')).add_to(map)\n",
    "\n",
    "map.save('map.html')"
   ]
  },
  {
   "cell_type": "code",
   "execution_count": 8,
   "metadata": {},
   "outputs": [
    {
     "data": {
      "text/html": [
       "<div>\n",
       "<style scoped>\n",
       "    .dataframe tbody tr th:only-of-type {\n",
       "        vertical-align: middle;\n",
       "    }\n",
       "\n",
       "    .dataframe tbody tr th {\n",
       "        vertical-align: top;\n",
       "    }\n",
       "\n",
       "    .dataframe thead th {\n",
       "        text-align: right;\n",
       "    }\n",
       "</style>\n",
       "<table border=\"1\" class=\"dataframe\">\n",
       "  <thead>\n",
       "    <tr style=\"text-align: right;\">\n",
       "      <th></th>\n",
       "      <th>공원명</th>\n",
       "      <th>주소</th>\n",
       "      <th>Latitude</th>\n",
       "      <th>Longitude</th>\n",
       "    </tr>\n",
       "  </thead>\n",
       "  <tbody>\n",
       "    <tr>\n",
       "      <th>0</th>\n",
       "      <td>어린이대공원</td>\n",
       "      <td>광진구 능동로 216</td>\n",
       "      <td>37.549589</td>\n",
       "      <td>127.081578</td>\n",
       "    </tr>\n",
       "    <tr>\n",
       "      <th>1</th>\n",
       "      <td>월드컵공원</td>\n",
       "      <td>마포구 증산로 32</td>\n",
       "      <td>37.563272</td>\n",
       "      <td>126.892679</td>\n",
       "    </tr>\n",
       "    <tr>\n",
       "      <th>2</th>\n",
       "      <td>보라매공원</td>\n",
       "      <td>동작구 여의대방로20마길 11</td>\n",
       "      <td>37.492678</td>\n",
       "      <td>126.919139</td>\n",
       "    </tr>\n",
       "    <tr>\n",
       "      <th>3</th>\n",
       "      <td>매헌시민의숲</td>\n",
       "      <td>서울 서초구 매헌로 99</td>\n",
       "      <td>37.471068</td>\n",
       "      <td>127.035758</td>\n",
       "    </tr>\n",
       "    <tr>\n",
       "      <th>4</th>\n",
       "      <td>초안산근린공원</td>\n",
       "      <td>도봉구 해등로3길 48-11</td>\n",
       "      <td>37.646335</td>\n",
       "      <td>127.040802</td>\n",
       "    </tr>\n",
       "  </tbody>\n",
       "</table>\n",
       "</div>"
      ],
      "text/plain": [
       "       공원명                주소   Latitude   Longitude\n",
       "0   어린이대공원       광진구 능동로 216  37.549589  127.081578\n",
       "1    월드컵공원        마포구 증산로 32  37.563272  126.892679\n",
       "2    보라매공원  동작구 여의대방로20마길 11  37.492678  126.919139\n",
       "3   매헌시민의숲     서울 서초구 매헌로 99  37.471068  127.035758\n",
       "4  초안산근린공원   도봉구 해등로3길 48-11  37.646335  127.040802"
      ]
     },
     "execution_count": 8,
     "metadata": {},
     "output_type": "execute_result"
    }
   ],
   "source": [
    "# 엑셀 데이터를 이용해 만들\n",
    "import pandas as pd\n",
    "\n",
    "df = pd.read_excel(\"data/서울시_반려견_놀이터_위도경도.xlsx\")\n",
    "df.head()"
   ]
  },
  {
   "cell_type": "code",
   "execution_count": 9,
   "metadata": {},
   "outputs": [],
   "source": [
    "# mean을 이용해 위도와 경도의 평균값을 통한 곳을 처음에 보여준다.\n",
    "dogparkmap = folium.Map(location=[df['Latitude'].mean(), df['Longitude'].mean()],\n",
    "                 zoom_start=17,\n",
    "                 width=750,\n",
    "                 height=500)\n",
    "\n",
    "# iterrows를 이용해 n에는 index번호, row에는 정보 삽입\n",
    "for n, row in df.iterrows():\n",
    "    folium.Marker(location=[row['Latitude'], row['Longitude']],\n",
    "                  popup=['공원명'],\n",
    "                  icon=folium.Icon(color='red', icon='cat', prefix='fa')).add_to(dogparkmap)\n",
    "\n",
    "dogparkmap.save('dogparkmap.html')"
   ]
  },
  {
   "cell_type": "code",
   "execution_count": null,
   "metadata": {},
   "outputs": [],
   "source": []
  }
 ],
 "metadata": {
  "kernelspec": {
   "display_name": "Python 3",
   "language": "python",
   "name": "python3"
  },
  "language_info": {
   "codemirror_mode": {
    "name": "ipython",
    "version": 3
   },
   "file_extension": ".py",
   "mimetype": "text/x-python",
   "name": "python",
   "nbconvert_exporter": "python",
   "pygments_lexer": "ipython3",
   "version": "3.12.4"
  }
 },
 "nbformat": 4,
 "nbformat_minor": 2
}
