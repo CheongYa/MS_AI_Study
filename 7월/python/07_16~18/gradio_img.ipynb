{
 "cells": [
  {
   "cell_type": "code",
   "execution_count": 2,
   "metadata": {},
   "outputs": [
    {
     "name": "stderr",
     "output_type": "stream",
     "text": [
      "c:\\Users\\chch4\\AppData\\Local\\Programs\\Python\\Python312\\Lib\\site-packages\\tqdm\\auto.py:21: TqdmWarning: IProgress not found. Please update jupyter and ipywidgets. See https://ipywidgets.readthedocs.io/en/stable/user_install.html\n",
      "  from .autonotebook import tqdm as notebook_tqdm\n"
     ]
    }
   ],
   "source": [
    "from azure.cognitiveservices.vision.customvision.prediction import CustomVisionPredictionClient \n",
    "from msrest.authentication import ApiKeyCredentials \n",
    "from matplotlib import pyplot as plt \n",
    "from PIL import Image, ImageDraw, ImageFont \n",
    "import numpy as np \n",
    "import os \n",
    "import io \n",
    "import gradio as gr "
   ]
  },
  {
   "cell_type": "code",
   "execution_count": 8,
   "metadata": {},
   "outputs": [],
   "source": [
    "# Authenticate client \n",
    "\n",
    "prediction_endpoint = \"https://1507mlcv20240717-prediction.cognitiveservices.azure.com/customvision/v3.0/Prediction/0a393098-3302-495b-8174-7cc69a8256d5/detect/iterations/Iteration1/url\"\n",
    "prediction_key = \"11e58811118b4ad19964f6744d6703fc\"\n",
    "project_id = \"a0158a54-f656-4ff3-bc5e-cc13d3e80660\"\n",
    "model_name = \"Iteration1\""
   ]
  },
  {
   "cell_type": "code",
   "execution_count": 10,
   "metadata": {},
   "outputs": [],
   "source": [
    "credentials = ApiKeyCredentials(in_headers={\"Prediction-key\": prediction_key}) \n",
    "predictor = CustomVisionPredictionClient(endpoint=prediction_endpoint, credentials=credentials) "
   ]
  },
  {
   "cell_type": "code",
   "execution_count": 11,
   "metadata": {},
   "outputs": [],
   "source": [
    "def predict_image(input_img): \n",
    "    h, w, ch= np.array(input_img).shape \n",
    "    img_byte_arr = io.BytesIO() \n",
    "    input_img.save(img_byte_arr, format='png') \n",
    "    img_bytes = img_byte_arr.getvalue() \n",
    "    results = predictor.detect_image(project_id, model_name, img_bytes) \n",
    "\n",
    "    fig = plt.figure(figsize=(8,8)) \n",
    "    plt.axis('off') \n",
    "\n",
    "    draw = ImageDraw.Draw(input_img) \n",
    "    lineWidth = int(w/100) \n",
    "    color = 'magenta' \n",
    "\n",
    "    for prediction in results. predictions: \n",
    "        if (prediction.probability*100) > 50: \n",
    "            left = prediction.bounding_box.left * w \n",
    "            top = prediction.bounding_box.top * h \n",
    "            width = prediction.bounding_box.width * w \n",
    "            height = prediction.bounding_box.height * h \n",
    "\n",
    "            points = ((left,top), (left+width,top), (left+width,top+height), (left,top+height),(left,top)) \n",
    "            draw.line(points, fill=color, width=lineWidth) \n",
    "            plt.annotate(prediction.tag_name + ' {0:.2f}%'.format(prediction.probability * 100), (left, top), color=color)\n",
    "\n",
    "    plt.imshow(input_img) \n",
    "    return plt "
   ]
  },
  {
   "cell_type": "code",
   "execution_count": 12,
   "metadata": {},
   "outputs": [
    {
     "name": "stdout",
     "output_type": "stream",
     "text": [
      "Running on local URL:  http://127.0.0.1:7861\n",
      "\n",
      "Could not create share link. Please check your internet connection or our status page: https://status.gradio.app.\n"
     ]
    },
    {
     "data": {
      "text/html": [
       "<div><iframe src=\"http://127.0.0.1:7861/\" width=\"100%\" height=\"500\" allow=\"autoplay; camera; microphone; clipboard-read; clipboard-write;\" frameborder=\"0\" allowfullscreen></iframe></div>"
      ],
      "text/plain": [
       "<IPython.core.display.HTML object>"
      ]
     },
     "metadata": {},
     "output_type": "display_data"
    },
    {
     "data": {
      "text/plain": []
     },
     "execution_count": 12,
     "metadata": {},
     "output_type": "execute_result"
    },
    {
     "name": "stderr",
     "output_type": "stream",
     "text": [
      "Traceback (most recent call last):\n",
      "  File \"c:\\Users\\chch4\\AppData\\Local\\Programs\\Python\\Python312\\Lib\\site-packages\\gradio\\queueing.py\", line 536, in process_events\n",
      "    response = await route_utils.call_process_api(\n",
      "               ^^^^^^^^^^^^^^^^^^^^^^^^^^^^^^^^^^^\n",
      "  File \"c:\\Users\\chch4\\AppData\\Local\\Programs\\Python\\Python312\\Lib\\site-packages\\gradio\\route_utils.py\", line 276, in call_process_api\n",
      "    output = await app.get_blocks().process_api(\n",
      "             ^^^^^^^^^^^^^^^^^^^^^^^^^^^^^^^^^^^\n",
      "  File \"c:\\Users\\chch4\\AppData\\Local\\Programs\\Python\\Python312\\Lib\\site-packages\\gradio\\blocks.py\", line 1897, in process_api\n",
      "    result = await self.call_function(\n",
      "             ^^^^^^^^^^^^^^^^^^^^^^^^^\n",
      "  File \"c:\\Users\\chch4\\AppData\\Local\\Programs\\Python\\Python312\\Lib\\site-packages\\gradio\\blocks.py\", line 1483, in call_function\n",
      "    prediction = await anyio.to_thread.run_sync(\n",
      "                 ^^^^^^^^^^^^^^^^^^^^^^^^^^^^^^^\n",
      "  File \"c:\\Users\\chch4\\AppData\\Local\\Programs\\Python\\Python312\\Lib\\site-packages\\anyio\\to_thread.py\", line 56, in run_sync\n",
      "    return await get_async_backend().run_sync_in_worker_thread(\n",
      "           ^^^^^^^^^^^^^^^^^^^^^^^^^^^^^^^^^^^^^^^^^^^^^^^^^^^^\n",
      "  File \"c:\\Users\\chch4\\AppData\\Local\\Programs\\Python\\Python312\\Lib\\site-packages\\anyio\\_backends\\_asyncio.py\", line 2177, in run_sync_in_worker_thread\n",
      "    return await future\n",
      "           ^^^^^^^^^^^^\n",
      "  File \"c:\\Users\\chch4\\AppData\\Local\\Programs\\Python\\Python312\\Lib\\site-packages\\anyio\\_backends\\_asyncio.py\", line 859, in run\n",
      "    result = context.run(func, *args)\n",
      "             ^^^^^^^^^^^^^^^^^^^^^^^^\n",
      "  File \"c:\\Users\\chch4\\AppData\\Local\\Programs\\Python\\Python312\\Lib\\site-packages\\gradio\\utils.py\", line 816, in wrapper\n",
      "    response = f(*args, **kwargs)\n",
      "               ^^^^^^^^^^^^^^^^^^\n",
      "  File \"C:\\Users\\chch4\\AppData\\Local\\Temp\\ipykernel_27616\\1510312427.py\", line 6, in predict_image\n",
      "    results = predictor.detect_image(project_id, model_name, img_bytes)\n",
      "             ^^^^^^^^^^^^^^^^^^^^^^^^^^^^^^^^^^^^^^^^^^^^^^^^^^^^^^^^^\n",
      "  File \"c:\\Users\\chch4\\AppData\\Local\\Programs\\Python\\Python312\\Lib\\site-packages\\azure\\cognitiveservices\\vision\\customvision\\prediction\\operations\\_custom_vision_prediction_client_operations.py\", line 358, in detect_image\n",
      "    raise models.CustomVisionErrorException(self._deserialize, response)\n",
      "azure.cognitiveservices.vision.customvision.prediction.models._models_py3.CustomVisionErrorException: Operation returned an invalid status code 'Resource Not Found'\n"
     ]
    }
   ],
   "source": [
    "demo = gr.Interface(fn=predict_image, inputs=gr.Image(type='pil'), outputs='plot') \n",
    "demo.launch(share=True) "
   ]
  },
  {
   "cell_type": "code",
   "execution_count": null,
   "metadata": {},
   "outputs": [],
   "source": []
  }
 ],
 "metadata": {
  "kernelspec": {
   "display_name": "Python 3",
   "language": "python",
   "name": "python3"
  },
  "language_info": {
   "codemirror_mode": {
    "name": "ipython",
    "version": 3
   },
   "file_extension": ".py",
   "mimetype": "text/x-python",
   "name": "python",
   "nbconvert_exporter": "python",
   "pygments_lexer": "ipython3",
   "version": "3.12.4"
  }
 },
 "nbformat": 4,
 "nbformat_minor": 2
}
