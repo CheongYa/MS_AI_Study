{
 "cells": [
  {
   "cell_type": "code",
   "execution_count": 2,
   "metadata": {},
   "outputs": [
    {
     "data": {
      "text/html": [
       "<div>\n",
       "<style scoped>\n",
       "    .dataframe tbody tr th:only-of-type {\n",
       "        vertical-align: middle;\n",
       "    }\n",
       "\n",
       "    .dataframe tbody tr th {\n",
       "        vertical-align: top;\n",
       "    }\n",
       "\n",
       "    .dataframe thead th {\n",
       "        text-align: right;\n",
       "    }\n",
       "</style>\n",
       "<table border=\"1\" class=\"dataframe\">\n",
       "  <thead>\n",
       "    <tr style=\"text-align: right;\">\n",
       "      <th></th>\n",
       "      <th>sepal length (cm)</th>\n",
       "      <th>sepal width (cm)</th>\n",
       "      <th>petal length (cm)</th>\n",
       "      <th>petal width (cm)</th>\n",
       "    </tr>\n",
       "  </thead>\n",
       "  <tbody>\n",
       "    <tr>\n",
       "      <th>0</th>\n",
       "      <td>5.1</td>\n",
       "      <td>3.5</td>\n",
       "      <td>1.4</td>\n",
       "      <td>0.2</td>\n",
       "    </tr>\n",
       "    <tr>\n",
       "      <th>1</th>\n",
       "      <td>4.9</td>\n",
       "      <td>3.0</td>\n",
       "      <td>1.4</td>\n",
       "      <td>0.2</td>\n",
       "    </tr>\n",
       "    <tr>\n",
       "      <th>2</th>\n",
       "      <td>4.7</td>\n",
       "      <td>3.2</td>\n",
       "      <td>1.3</td>\n",
       "      <td>0.2</td>\n",
       "    </tr>\n",
       "    <tr>\n",
       "      <th>3</th>\n",
       "      <td>4.6</td>\n",
       "      <td>3.1</td>\n",
       "      <td>1.5</td>\n",
       "      <td>0.2</td>\n",
       "    </tr>\n",
       "    <tr>\n",
       "      <th>4</th>\n",
       "      <td>5.0</td>\n",
       "      <td>3.6</td>\n",
       "      <td>1.4</td>\n",
       "      <td>0.2</td>\n",
       "    </tr>\n",
       "    <tr>\n",
       "      <th>...</th>\n",
       "      <td>...</td>\n",
       "      <td>...</td>\n",
       "      <td>...</td>\n",
       "      <td>...</td>\n",
       "    </tr>\n",
       "    <tr>\n",
       "      <th>145</th>\n",
       "      <td>6.7</td>\n",
       "      <td>3.0</td>\n",
       "      <td>5.2</td>\n",
       "      <td>2.3</td>\n",
       "    </tr>\n",
       "    <tr>\n",
       "      <th>146</th>\n",
       "      <td>6.3</td>\n",
       "      <td>2.5</td>\n",
       "      <td>5.0</td>\n",
       "      <td>1.9</td>\n",
       "    </tr>\n",
       "    <tr>\n",
       "      <th>147</th>\n",
       "      <td>6.5</td>\n",
       "      <td>3.0</td>\n",
       "      <td>5.2</td>\n",
       "      <td>2.0</td>\n",
       "    </tr>\n",
       "    <tr>\n",
       "      <th>148</th>\n",
       "      <td>6.2</td>\n",
       "      <td>3.4</td>\n",
       "      <td>5.4</td>\n",
       "      <td>2.3</td>\n",
       "    </tr>\n",
       "    <tr>\n",
       "      <th>149</th>\n",
       "      <td>5.9</td>\n",
       "      <td>3.0</td>\n",
       "      <td>5.1</td>\n",
       "      <td>1.8</td>\n",
       "    </tr>\n",
       "  </tbody>\n",
       "</table>\n",
       "<p>150 rows × 4 columns</p>\n",
       "</div>"
      ],
      "text/plain": [
       "     sepal length (cm)  sepal width (cm)  petal length (cm)  petal width (cm)\n",
       "0                  5.1               3.5                1.4               0.2\n",
       "1                  4.9               3.0                1.4               0.2\n",
       "2                  4.7               3.2                1.3               0.2\n",
       "3                  4.6               3.1                1.5               0.2\n",
       "4                  5.0               3.6                1.4               0.2\n",
       "..                 ...               ...                ...               ...\n",
       "145                6.7               3.0                5.2               2.3\n",
       "146                6.3               2.5                5.0               1.9\n",
       "147                6.5               3.0                5.2               2.0\n",
       "148                6.2               3.4                5.4               2.3\n",
       "149                5.9               3.0                5.1               1.8\n",
       "\n",
       "[150 rows x 4 columns]"
      ]
     },
     "execution_count": 2,
     "metadata": {},
     "output_type": "execute_result"
    }
   ],
   "source": [
    "import pandas as pd\n",
    "import numpy as np\n",
    "from sklearn.datasets import load_iris\n",
    "from sklearn.tree import DecisionTreeClassifier\n",
    "from sklearn.model_selection import train_test_split\n",
    " \n",
    "# 데이터 불러오기\n",
    "iris = load_iris()\n",
    " \n",
    "#dataframe으로 변경\n",
    "iris_df = pd.DataFrame(data=iris.data, columns=iris.feature_names)\n",
    " \n",
    "iris_df"
   ]
  },
  {
   "cell_type": "code",
   "execution_count": 3,
   "metadata": {},
   "outputs": [
    {
     "data": {
      "text/plain": [
       "array([[-9.00681170e-01,  1.01900435e+00, -1.34022653e+00,\n",
       "        -1.31544430e+00],\n",
       "       [-1.14301691e+00, -1.31979479e-01, -1.34022653e+00,\n",
       "        -1.31544430e+00],\n",
       "       [-1.38535265e+00,  3.28414053e-01, -1.39706395e+00,\n",
       "        -1.31544430e+00],\n",
       "       [-1.50652052e+00,  9.82172869e-02, -1.28338910e+00,\n",
       "        -1.31544430e+00],\n",
       "       [-1.02184904e+00,  1.24920112e+00, -1.34022653e+00,\n",
       "        -1.31544430e+00],\n",
       "       [-5.37177559e-01,  1.93979142e+00, -1.16971425e+00,\n",
       "        -1.05217993e+00],\n",
       "       [-1.50652052e+00,  7.88807586e-01, -1.34022653e+00,\n",
       "        -1.18381211e+00],\n",
       "       [-1.02184904e+00,  7.88807586e-01, -1.28338910e+00,\n",
       "        -1.31544430e+00],\n",
       "       [-1.74885626e+00, -3.62176246e-01, -1.34022653e+00,\n",
       "        -1.31544430e+00],\n",
       "       [-1.14301691e+00,  9.82172869e-02, -1.28338910e+00,\n",
       "        -1.44707648e+00],\n",
       "       [-5.37177559e-01,  1.47939788e+00, -1.28338910e+00,\n",
       "        -1.31544430e+00],\n",
       "       [-1.26418478e+00,  7.88807586e-01, -1.22655167e+00,\n",
       "        -1.31544430e+00],\n",
       "       [-1.26418478e+00, -1.31979479e-01, -1.34022653e+00,\n",
       "        -1.44707648e+00],\n",
       "       [-1.87002413e+00, -1.31979479e-01, -1.51073881e+00,\n",
       "        -1.44707648e+00],\n",
       "       [-5.25060772e-02,  2.16998818e+00, -1.45390138e+00,\n",
       "        -1.31544430e+00],\n",
       "       [-1.73673948e-01,  3.09077525e+00, -1.28338910e+00,\n",
       "        -1.05217993e+00],\n",
       "       [-5.37177559e-01,  1.93979142e+00, -1.39706395e+00,\n",
       "        -1.05217993e+00],\n",
       "       [-9.00681170e-01,  1.01900435e+00, -1.34022653e+00,\n",
       "        -1.18381211e+00],\n",
       "       [-1.73673948e-01,  1.70959465e+00, -1.16971425e+00,\n",
       "        -1.18381211e+00],\n",
       "       [-9.00681170e-01,  1.70959465e+00, -1.28338910e+00,\n",
       "        -1.18381211e+00],\n",
       "       [-5.37177559e-01,  7.88807586e-01, -1.16971425e+00,\n",
       "        -1.31544430e+00],\n",
       "       [-9.00681170e-01,  1.47939788e+00, -1.28338910e+00,\n",
       "        -1.05217993e+00],\n",
       "       [-1.50652052e+00,  1.24920112e+00, -1.56757623e+00,\n",
       "        -1.31544430e+00],\n",
       "       [-9.00681170e-01,  5.58610819e-01, -1.16971425e+00,\n",
       "        -9.20547742e-01],\n",
       "       [-1.26418478e+00,  7.88807586e-01, -1.05603939e+00,\n",
       "        -1.31544430e+00],\n",
       "       [-1.02184904e+00, -1.31979479e-01, -1.22655167e+00,\n",
       "        -1.31544430e+00],\n",
       "       [-1.02184904e+00,  7.88807586e-01, -1.22655167e+00,\n",
       "        -1.05217993e+00],\n",
       "       [-7.79513300e-01,  1.01900435e+00, -1.28338910e+00,\n",
       "        -1.31544430e+00],\n",
       "       [-7.79513300e-01,  7.88807586e-01, -1.34022653e+00,\n",
       "        -1.31544430e+00],\n",
       "       [-1.38535265e+00,  3.28414053e-01, -1.22655167e+00,\n",
       "        -1.31544430e+00],\n",
       "       [-1.26418478e+00,  9.82172869e-02, -1.22655167e+00,\n",
       "        -1.31544430e+00],\n",
       "       [-5.37177559e-01,  7.88807586e-01, -1.28338910e+00,\n",
       "        -1.05217993e+00],\n",
       "       [-7.79513300e-01,  2.40018495e+00, -1.28338910e+00,\n",
       "        -1.44707648e+00],\n",
       "       [-4.16009689e-01,  2.63038172e+00, -1.34022653e+00,\n",
       "        -1.31544430e+00],\n",
       "       [-1.14301691e+00,  9.82172869e-02, -1.28338910e+00,\n",
       "        -1.31544430e+00],\n",
       "       [-1.02184904e+00,  3.28414053e-01, -1.45390138e+00,\n",
       "        -1.31544430e+00],\n",
       "       [-4.16009689e-01,  1.01900435e+00, -1.39706395e+00,\n",
       "        -1.31544430e+00],\n",
       "       [-1.14301691e+00,  1.24920112e+00, -1.34022653e+00,\n",
       "        -1.44707648e+00],\n",
       "       [-1.74885626e+00, -1.31979479e-01, -1.39706395e+00,\n",
       "        -1.31544430e+00],\n",
       "       [-9.00681170e-01,  7.88807586e-01, -1.28338910e+00,\n",
       "        -1.31544430e+00],\n",
       "       [-1.02184904e+00,  1.01900435e+00, -1.39706395e+00,\n",
       "        -1.18381211e+00],\n",
       "       [-1.62768839e+00, -1.74335684e+00, -1.39706395e+00,\n",
       "        -1.18381211e+00],\n",
       "       [-1.74885626e+00,  3.28414053e-01, -1.39706395e+00,\n",
       "        -1.31544430e+00],\n",
       "       [-1.02184904e+00,  1.01900435e+00, -1.22655167e+00,\n",
       "        -7.88915558e-01],\n",
       "       [-9.00681170e-01,  1.70959465e+00, -1.05603939e+00,\n",
       "        -1.05217993e+00],\n",
       "       [-1.26418478e+00, -1.31979479e-01, -1.34022653e+00,\n",
       "        -1.18381211e+00],\n",
       "       [-9.00681170e-01,  1.70959465e+00, -1.22655167e+00,\n",
       "        -1.31544430e+00],\n",
       "       [-1.50652052e+00,  3.28414053e-01, -1.34022653e+00,\n",
       "        -1.31544430e+00],\n",
       "       [-6.58345429e-01,  1.47939788e+00, -1.28338910e+00,\n",
       "        -1.31544430e+00],\n",
       "       [-1.02184904e+00,  5.58610819e-01, -1.34022653e+00,\n",
       "        -1.31544430e+00],\n",
       "       [ 1.40150837e+00,  3.28414053e-01,  5.35408562e-01,\n",
       "         2.64141916e-01],\n",
       "       [ 6.74501145e-01,  3.28414053e-01,  4.21733708e-01,\n",
       "         3.95774101e-01],\n",
       "       [ 1.28034050e+00,  9.82172869e-02,  6.49083415e-01,\n",
       "         3.95774101e-01],\n",
       "       [-4.16009689e-01, -1.74335684e+00,  1.37546573e-01,\n",
       "         1.32509732e-01],\n",
       "       [ 7.95669016e-01, -5.92373012e-01,  4.78571135e-01,\n",
       "         3.95774101e-01],\n",
       "       [-1.73673948e-01, -5.92373012e-01,  4.21733708e-01,\n",
       "         1.32509732e-01],\n",
       "       [ 5.53333275e-01,  5.58610819e-01,  5.35408562e-01,\n",
       "         5.27406285e-01],\n",
       "       [-1.14301691e+00, -1.51316008e+00, -2.60315415e-01,\n",
       "        -2.62386821e-01],\n",
       "       [ 9.16836886e-01, -3.62176246e-01,  4.78571135e-01,\n",
       "         1.32509732e-01],\n",
       "       [-7.79513300e-01, -8.22569778e-01,  8.07091462e-02,\n",
       "         2.64141916e-01],\n",
       "       [-1.02184904e+00, -2.43394714e+00, -1.46640561e-01,\n",
       "        -2.62386821e-01],\n",
       "       [ 6.86617933e-02, -1.31979479e-01,  2.51221427e-01,\n",
       "         3.95774101e-01],\n",
       "       [ 1.89829664e-01, -1.97355361e+00,  1.37546573e-01,\n",
       "        -2.62386821e-01],\n",
       "       [ 3.10997534e-01, -3.62176246e-01,  5.35408562e-01,\n",
       "         2.64141916e-01],\n",
       "       [-2.94841818e-01, -3.62176246e-01, -8.98031345e-02,\n",
       "         1.32509732e-01],\n",
       "       [ 1.03800476e+00,  9.82172869e-02,  3.64896281e-01,\n",
       "         2.64141916e-01],\n",
       "       [-2.94841818e-01, -1.31979479e-01,  4.21733708e-01,\n",
       "         3.95774101e-01],\n",
       "       [-5.25060772e-02, -8.22569778e-01,  1.94384000e-01,\n",
       "        -2.62386821e-01],\n",
       "       [ 4.32165405e-01, -1.97355361e+00,  4.21733708e-01,\n",
       "         3.95774101e-01],\n",
       "       [-2.94841818e-01, -1.28296331e+00,  8.07091462e-02,\n",
       "        -1.30754636e-01],\n",
       "       [ 6.86617933e-02,  3.28414053e-01,  5.92245988e-01,\n",
       "         7.90670654e-01],\n",
       "       [ 3.10997534e-01, -5.92373012e-01,  1.37546573e-01,\n",
       "         1.32509732e-01],\n",
       "       [ 5.53333275e-01, -1.28296331e+00,  6.49083415e-01,\n",
       "         3.95774101e-01],\n",
       "       [ 3.10997534e-01, -5.92373012e-01,  5.35408562e-01,\n",
       "         8.77547895e-04],\n",
       "       [ 6.74501145e-01, -3.62176246e-01,  3.08058854e-01,\n",
       "         1.32509732e-01],\n",
       "       [ 9.16836886e-01, -1.31979479e-01,  3.64896281e-01,\n",
       "         2.64141916e-01],\n",
       "       [ 1.15917263e+00, -5.92373012e-01,  5.92245988e-01,\n",
       "         2.64141916e-01],\n",
       "       [ 1.03800476e+00, -1.31979479e-01,  7.05920842e-01,\n",
       "         6.59038469e-01],\n",
       "       [ 1.89829664e-01, -3.62176246e-01,  4.21733708e-01,\n",
       "         3.95774101e-01],\n",
       "       [-1.73673948e-01, -1.05276654e+00, -1.46640561e-01,\n",
       "        -2.62386821e-01],\n",
       "       [-4.16009689e-01, -1.51316008e+00,  2.38717193e-02,\n",
       "        -1.30754636e-01],\n",
       "       [-4.16009689e-01, -1.51316008e+00, -3.29657076e-02,\n",
       "        -2.62386821e-01],\n",
       "       [-5.25060772e-02, -8.22569778e-01,  8.07091462e-02,\n",
       "         8.77547895e-04],\n",
       "       [ 1.89829664e-01, -8.22569778e-01,  7.62758269e-01,\n",
       "         5.27406285e-01],\n",
       "       [-5.37177559e-01, -1.31979479e-01,  4.21733708e-01,\n",
       "         3.95774101e-01],\n",
       "       [ 1.89829664e-01,  7.88807586e-01,  4.21733708e-01,\n",
       "         5.27406285e-01],\n",
       "       [ 1.03800476e+00,  9.82172869e-02,  5.35408562e-01,\n",
       "         3.95774101e-01],\n",
       "       [ 5.53333275e-01, -1.74335684e+00,  3.64896281e-01,\n",
       "         1.32509732e-01],\n",
       "       [-2.94841818e-01, -1.31979479e-01,  1.94384000e-01,\n",
       "         1.32509732e-01],\n",
       "       [-4.16009689e-01, -1.28296331e+00,  1.37546573e-01,\n",
       "         1.32509732e-01],\n",
       "       [-4.16009689e-01, -1.05276654e+00,  3.64896281e-01,\n",
       "         8.77547895e-04],\n",
       "       [ 3.10997534e-01, -1.31979479e-01,  4.78571135e-01,\n",
       "         2.64141916e-01],\n",
       "       [-5.25060772e-02, -1.05276654e+00,  1.37546573e-01,\n",
       "         8.77547895e-04],\n",
       "       [-1.02184904e+00, -1.74335684e+00, -2.60315415e-01,\n",
       "        -2.62386821e-01],\n",
       "       [-2.94841818e-01, -8.22569778e-01,  2.51221427e-01,\n",
       "         1.32509732e-01],\n",
       "       [-1.73673948e-01, -1.31979479e-01,  2.51221427e-01,\n",
       "         8.77547895e-04],\n",
       "       [-1.73673948e-01, -3.62176246e-01,  2.51221427e-01,\n",
       "         1.32509732e-01],\n",
       "       [ 4.32165405e-01, -3.62176246e-01,  3.08058854e-01,\n",
       "         1.32509732e-01],\n",
       "       [-9.00681170e-01, -1.28296331e+00, -4.30827696e-01,\n",
       "        -1.30754636e-01],\n",
       "       [-1.73673948e-01, -5.92373012e-01,  1.94384000e-01,\n",
       "         1.32509732e-01],\n",
       "       [ 5.53333275e-01,  5.58610819e-01,  1.27429511e+00,\n",
       "         1.71209594e+00],\n",
       "       [-5.25060772e-02, -8.22569778e-01,  7.62758269e-01,\n",
       "         9.22302838e-01],\n",
       "       [ 1.52267624e+00, -1.31979479e-01,  1.21745768e+00,\n",
       "         1.18556721e+00],\n",
       "       [ 5.53333275e-01, -3.62176246e-01,  1.04694540e+00,\n",
       "         7.90670654e-01],\n",
       "       [ 7.95669016e-01, -1.31979479e-01,  1.16062026e+00,\n",
       "         1.31719939e+00],\n",
       "       [ 2.12851559e+00, -1.31979479e-01,  1.61531967e+00,\n",
       "         1.18556721e+00],\n",
       "       [-1.14301691e+00, -1.28296331e+00,  4.21733708e-01,\n",
       "         6.59038469e-01],\n",
       "       [ 1.76501198e+00, -3.62176246e-01,  1.44480739e+00,\n",
       "         7.90670654e-01],\n",
       "       [ 1.03800476e+00, -1.28296331e+00,  1.16062026e+00,\n",
       "         7.90670654e-01],\n",
       "       [ 1.64384411e+00,  1.24920112e+00,  1.33113254e+00,\n",
       "         1.71209594e+00],\n",
       "       [ 7.95669016e-01,  3.28414053e-01,  7.62758269e-01,\n",
       "         1.05393502e+00],\n",
       "       [ 6.74501145e-01, -8.22569778e-01,  8.76433123e-01,\n",
       "         9.22302838e-01],\n",
       "       [ 1.15917263e+00, -1.31979479e-01,  9.90107977e-01,\n",
       "         1.18556721e+00],\n",
       "       [-1.73673948e-01, -1.28296331e+00,  7.05920842e-01,\n",
       "         1.05393502e+00],\n",
       "       [-5.25060772e-02, -5.92373012e-01,  7.62758269e-01,\n",
       "         1.58046376e+00],\n",
       "       [ 6.74501145e-01,  3.28414053e-01,  8.76433123e-01,\n",
       "         1.44883158e+00],\n",
       "       [ 7.95669016e-01, -1.31979479e-01,  9.90107977e-01,\n",
       "         7.90670654e-01],\n",
       "       [ 2.24968346e+00,  1.70959465e+00,  1.67215710e+00,\n",
       "         1.31719939e+00],\n",
       "       [ 2.24968346e+00, -1.05276654e+00,  1.78583195e+00,\n",
       "         1.44883158e+00],\n",
       "       [ 1.89829664e-01, -1.97355361e+00,  7.05920842e-01,\n",
       "         3.95774101e-01],\n",
       "       [ 1.28034050e+00,  3.28414053e-01,  1.10378283e+00,\n",
       "         1.44883158e+00],\n",
       "       [-2.94841818e-01, -5.92373012e-01,  6.49083415e-01,\n",
       "         1.05393502e+00],\n",
       "       [ 2.24968346e+00, -5.92373012e-01,  1.67215710e+00,\n",
       "         1.05393502e+00],\n",
       "       [ 5.53333275e-01, -8.22569778e-01,  6.49083415e-01,\n",
       "         7.90670654e-01],\n",
       "       [ 1.03800476e+00,  5.58610819e-01,  1.10378283e+00,\n",
       "         1.18556721e+00],\n",
       "       [ 1.64384411e+00,  3.28414053e-01,  1.27429511e+00,\n",
       "         7.90670654e-01],\n",
       "       [ 4.32165405e-01, -5.92373012e-01,  5.92245988e-01,\n",
       "         7.90670654e-01],\n",
       "       [ 3.10997534e-01, -1.31979479e-01,  6.49083415e-01,\n",
       "         7.90670654e-01],\n",
       "       [ 6.74501145e-01, -5.92373012e-01,  1.04694540e+00,\n",
       "         1.18556721e+00],\n",
       "       [ 1.64384411e+00, -1.31979479e-01,  1.16062026e+00,\n",
       "         5.27406285e-01],\n",
       "       [ 1.88617985e+00, -5.92373012e-01,  1.33113254e+00,\n",
       "         9.22302838e-01],\n",
       "       [ 2.49201920e+00,  1.70959465e+00,  1.50164482e+00,\n",
       "         1.05393502e+00],\n",
       "       [ 6.74501145e-01, -5.92373012e-01,  1.04694540e+00,\n",
       "         1.31719939e+00],\n",
       "       [ 5.53333275e-01, -5.92373012e-01,  7.62758269e-01,\n",
       "         3.95774101e-01],\n",
       "       [ 3.10997534e-01, -1.05276654e+00,  1.04694540e+00,\n",
       "         2.64141916e-01],\n",
       "       [ 2.24968346e+00, -1.31979479e-01,  1.33113254e+00,\n",
       "         1.44883158e+00],\n",
       "       [ 5.53333275e-01,  7.88807586e-01,  1.04694540e+00,\n",
       "         1.58046376e+00],\n",
       "       [ 6.74501145e-01,  9.82172869e-02,  9.90107977e-01,\n",
       "         7.90670654e-01],\n",
       "       [ 1.89829664e-01, -1.31979479e-01,  5.92245988e-01,\n",
       "         7.90670654e-01],\n",
       "       [ 1.28034050e+00,  9.82172869e-02,  9.33270550e-01,\n",
       "         1.18556721e+00],\n",
       "       [ 1.03800476e+00,  9.82172869e-02,  1.04694540e+00,\n",
       "         1.58046376e+00],\n",
       "       [ 1.28034050e+00,  9.82172869e-02,  7.62758269e-01,\n",
       "         1.44883158e+00],\n",
       "       [-5.25060772e-02, -8.22569778e-01,  7.62758269e-01,\n",
       "         9.22302838e-01],\n",
       "       [ 1.15917263e+00,  3.28414053e-01,  1.21745768e+00,\n",
       "         1.44883158e+00],\n",
       "       [ 1.03800476e+00,  5.58610819e-01,  1.10378283e+00,\n",
       "         1.71209594e+00],\n",
       "       [ 1.03800476e+00, -1.31979479e-01,  8.19595696e-01,\n",
       "         1.44883158e+00],\n",
       "       [ 5.53333275e-01, -1.28296331e+00,  7.05920842e-01,\n",
       "         9.22302838e-01],\n",
       "       [ 7.95669016e-01, -1.31979479e-01,  8.19595696e-01,\n",
       "         1.05393502e+00],\n",
       "       [ 4.32165405e-01,  7.88807586e-01,  9.33270550e-01,\n",
       "         1.44883158e+00],\n",
       "       [ 6.86617933e-02, -1.31979479e-01,  7.62758269e-01,\n",
       "         7.90670654e-01]])"
      ]
     },
     "execution_count": 3,
     "metadata": {},
     "output_type": "execute_result"
    }
   ],
   "source": [
    "# dataframe 형태의 데이터를 array로 scaler 하여 변경\n",
    "# 해당 방식이 싫다면 이 코드를 생략한 후 plt.scatter() 에서 dataframe 데이터를 이용할 때 .iloc을 붙여주면 된다.\n",
    "\n",
    "from sklearn.preprocessing import StandardScaler\n",
    "scaler = StandardScaler()\n",
    "iris_scaled = scaler.fit_transform(iris_df)\n",
    "iris_scaled"
   ]
  },
  {
   "cell_type": "markdown",
   "metadata": {},
   "source": [
    "# K-Means k=3"
   ]
  },
  {
   "cell_type": "code",
   "execution_count": 4,
   "metadata": {},
   "outputs": [
    {
     "data": {
      "text/plain": [
       "array([1, 1, 1, 1, 1, 1, 1, 1, 1, 1], dtype=int32)"
      ]
     },
     "execution_count": 4,
     "metadata": {},
     "output_type": "execute_result"
    }
   ],
   "source": [
    "from sklearn.cluster import KMeans\n",
    "\n",
    "kmeans_3 = KMeans(n_clusters=3, random_state=0)\n",
    "labels_3 = kmeans_3.fit_predict(iris_scaled)\n",
    "\n",
    "centroids_3 = kmeans_3.cluster_centers_ # 두 개의 점의 중심점\n",
    "labels_3[:10]"
   ]
  },
  {
   "cell_type": "code",
   "execution_count": 5,
   "metadata": {},
   "outputs": [
    {
     "data": {
      "text/plain": [
       "<matplotlib.collections.PathCollection at 0x21c05020260>"
      ]
     },
     "execution_count": 5,
     "metadata": {},
     "output_type": "execute_result"
    },
    {
     "data": {
      "image/png": "[encoded data removed]",
      "text/plain": [
       "<Figure size 640x480 with 1 Axes>"
      ]
     },
     "metadata": {},
     "output_type": "display_data"
    }
   ],
   "source": [
    "import matplotlib.pyplot as plt\n",
    "\n",
    "plt.scatter(iris_scaled[:, 0], iris_scaled[:, 1], c=labels_3)\n",
    "# 중심점\n",
    "plt.scatter(centroids_3[:, 0], centroids_3[:, 1], c='red', marker='v')"
   ]
  },
  {
   "cell_type": "code",
   "execution_count": 6,
   "metadata": {},
   "outputs": [
    {
     "data": {
      "text/plain": [
       "np.float64(0.45994823920518635)"
      ]
     },
     "execution_count": 6,
     "metadata": {},
     "output_type": "execute_result"
    }
   ],
   "source": [
    "from sklearn.metrics import silhouette_samples, silhouette_score\n",
    " \n",
    "# 전체 실루엣 점수 평균 계산\n",
    "silhouette_avg = silhouette_score(iris_scaled, labels_3)\n",
    "silhouette_avg\n",
    " "
   ]
  },
  {
   "cell_type": "code",
   "execution_count": 7,
   "metadata": {},
   "outputs": [
    {
     "data": {
      "text/plain": [
       "array([0.73419485, 0.56827391, 0.67754724, 0.62050159, 0.72847412,\n",
       "       0.60988485, 0.69838355, 0.73081691, 0.48821004, 0.63154089])"
      ]
     },
     "execution_count": 7,
     "metadata": {},
     "output_type": "execute_result"
    }
   ],
   "source": [
    "# 개별 실루엣 점수\n",
    "sample_silhouette_values = silhouette_samples(iris_scaled, labels_3)\n",
    "sample_silhouette_values[:10]"
   ]
  },
  {
   "cell_type": "code",
   "execution_count": 8,
   "metadata": {},
   "outputs": [],
   "source": [
    "# 클러스터별 평균 실루엣 점수 계산\n",
    "unique_labels = set(labels_3)\n",
    "silhouette_avg_per_cluster = {}\n",
    "for label in unique_labels:\n",
    "    cluster_silhouette_values = sample_silhouette_values[labels_3 == label]\n",
    "    silhouette_avg_per_cluster[label] = np.mean(cluster_silhouette_values)"
   ]
  },
  {
   "cell_type": "code",
   "execution_count": 9,
   "metadata": {},
   "outputs": [
    {
     "name": "stdout",
     "output_type": "stream",
     "text": [
      "Cluster 0: Average Silhouette Score = 0.39337721055814295\n",
      "Cluster 1: Average Silhouette Score = 0.6363161744392947\n",
      "Cluster 2: Average Silhouette Score = 0.3473922340262053\n"
     ]
    }
   ],
   "source": [
    "# 결과 출력\n",
    "for label, silhouette_avg in silhouette_avg_per_cluster.items():\n",
    "    print(f'Cluster {label}: Average Silhouette Score = {silhouette_avg}')"
   ]
  },
  {
   "cell_type": "code",
   "execution_count": 10,
   "metadata": {},
   "outputs": [
    {
     "data": {
      "image/png": "[encoded data removed]",
      "text/plain": [
       "<Figure size 1000x700 with 1 Axes>"
      ]
     },
     "metadata": {},
     "output_type": "display_data"
    }
   ],
   "source": [
    "# 실루엣 차트 그리기\n",
    "fig, ax1 = plt.subplots(figsize=(10, 7))\n",
    " \n",
    "y_lower = 10\n",
    "for i in range(3): #클러스터 3개\n",
    "    ith_cluster_silhouette_values = sample_silhouette_values[labels_3 == i]\n",
    "    ith_cluster_silhouette_values.sort()\n",
    "   \n",
    "    size_cluster_i = ith_cluster_silhouette_values.shape[0]\n",
    "    y_upper = y_lower + size_cluster_i\n",
    " \n",
    "    color = plt.cm.nipy_spectral(float(i) / 3)\n",
    "    ax1.fill_betweenx(np.arange(y_lower, y_upper),\n",
    "                      0, ith_cluster_silhouette_values,\n",
    "                      facecolor=color, edgecolor=color, alpha=0.7)\n",
    " \n",
    "    ax1.text(-0.05, y_lower + 0.5 * size_cluster_i, str(i))\n",
    " \n",
    "    y_lower = y_upper + 10  # 다음 클러스터로 이동\n",
    " \n",
    "ax1.set_title(\"The silhouette plot for the various clusters.\")\n",
    "ax1.set_xlabel(\"The silhouette coefficient values\")\n",
    "ax1.set_ylabel(\"Cluster label\")\n",
    " \n",
    "ax1.axvline(x=silhouette_avg, color=\"red\", linestyle=\"--\")\n",
    "ax1.set_yticks([])\n",
    "ax1.set_xticks(np.arange(-0.1, 1.1, 0.1))\n",
    " \n",
    "plt.show()"
   ]
  },
  {
   "cell_type": "markdown",
   "metadata": {},
   "source": [
    "# K-Means k=2"
   ]
  },
  {
   "cell_type": "code",
   "execution_count": 11,
   "metadata": {},
   "outputs": [],
   "source": [
    "kmeans_2 = KMeans(n_clusters=2, random_state=0)\n",
    "labels_2 = kmeans_2.fit_predict(iris_scaled)\n",
    "\n",
    "centroids_2 = kmeans_2.cluster_centers_ # 두 개의 점의 중심점"
   ]
  },
  {
   "cell_type": "code",
   "execution_count": 12,
   "metadata": {},
   "outputs": [
    {
     "data": {
      "text/plain": [
       "<matplotlib.collections.PathCollection at 0x21c05125250>"
      ]
     },
     "execution_count": 12,
     "metadata": {},
     "output_type": "execute_result"
    },
    {
     "data": {
      "image/png": "[encoded data removed]",
      "text/plain": [
       "<Figure size 640x480 with 1 Axes>"
      ]
     },
     "metadata": {},
     "output_type": "display_data"
    }
   ],
   "source": [
    "import matplotlib.pyplot as plt\n",
    "\n",
    "plt.scatter(iris_scaled[:, 0], iris_scaled[:, 1], c=labels_2)\n",
    "# 중심점\n",
    "plt.scatter(centroids_2[:, 0], centroids_2[:, 1], c='red', marker='v')"
   ]
  },
  {
   "cell_type": "code",
   "execution_count": 13,
   "metadata": {},
   "outputs": [
    {
     "data": {
      "text/plain": [
       "array([0.76336191, 0.64597357, 0.72699413, 0.68424397, 0.75529688,\n",
       "       0.62887739, 0.73781704, 0.76482926, 0.58233316, 0.69258494])"
      ]
     },
     "execution_count": 13,
     "metadata": {},
     "output_type": "execute_result"
    }
   ],
   "source": [
    "from sklearn.metrics import silhouette_samples, silhouette_score\n",
    " \n",
    "# 전체 실루엣 점수 평균 계산\n",
    "silhouette_avg = silhouette_score(iris_scaled, labels_2)\n",
    "silhouette_avg\n",
    "\n",
    "# 개별 실루엣 점수\n",
    "sample_silhouette_values = silhouette_samples(iris_scaled, labels_2)\n",
    "sample_silhouette_values[:10]"
   ]
  },
  {
   "cell_type": "code",
   "execution_count": 14,
   "metadata": {},
   "outputs": [
    {
     "name": "stdout",
     "output_type": "stream",
     "text": [
      "Cluster 0: Average Silhouette Score = 0.6807337356696789\n",
      "Cluster 1: Average Silhouette Score = 0.5322582059625817\n"
     ]
    }
   ],
   "source": [
    "# 클러스터별 평균 실루엣 점수 계산\n",
    "unique_labels = set(labels_2)\n",
    "silhouette_avg_per_cluster = {}\n",
    "for label in unique_labels:\n",
    "    cluster_silhouette_values = sample_silhouette_values[labels_2 == label]\n",
    "    silhouette_avg_per_cluster[label] = np.mean(cluster_silhouette_values)\n",
    "\n",
    "# 결과 출력\n",
    "for label, silhouette_avg in silhouette_avg_per_cluster.items():\n",
    "    print(f'Cluster {label}: Average Silhouette Score = {silhouette_avg}')"
   ]
  },
  {
   "cell_type": "code",
   "execution_count": 15,
   "metadata": {},
   "outputs": [
    {
     "data": {
      "image/png": "[encoded data removed]",
      "text/plain": [
       "<Figure size 1000x700 with 1 Axes>"
      ]
     },
     "metadata": {},
     "output_type": "display_data"
    }
   ],
   "source": [
    "# 실루엣 차트 그리기\n",
    "fig, ax1 = plt.subplots(figsize=(10, 7))\n",
    " \n",
    "y_lower = 10\n",
    "for i in range(3): #클러스터 3개\n",
    "    ith_cluster_silhouette_values = sample_silhouette_values[labels_2 == i]\n",
    "    ith_cluster_silhouette_values.sort()\n",
    "   \n",
    "    size_cluster_i = ith_cluster_silhouette_values.shape[0]\n",
    "    y_upper = y_lower + size_cluster_i\n",
    " \n",
    "    color = plt.cm.nipy_spectral(float(i) / 2)\n",
    "    ax1.fill_betweenx(np.arange(y_lower, y_upper),\n",
    "                      0, ith_cluster_silhouette_values,\n",
    "                      facecolor=color, edgecolor=color, alpha=0.7)\n",
    " \n",
    "    ax1.text(-0.05, y_lower + 0.5 * size_cluster_i, str(i))\n",
    " \n",
    "    y_lower = y_upper + 10  # 다음 클러스터로 이동\n",
    " \n",
    "ax1.set_title(\"The silhouette plot for the various clusters.\")\n",
    "ax1.set_xlabel(\"The silhouette coefficient values\")\n",
    "ax1.set_ylabel(\"Cluster label\")\n",
    " \n",
    "ax1.axvline(x=silhouette_avg, color=\"red\", linestyle=\"--\")\n",
    "ax1.set_yticks([])\n",
    "ax1.set_xticks(np.arange(-0.1, 1.1, 0.1))\n",
    " \n",
    "plt.show()"
   ]
  },
  {
   "cell_type": "markdown",
   "metadata": {},
   "source": [
    "# PCA 분석"
   ]
  },
  {
   "cell_type": "code",
   "execution_count": 16,
   "metadata": {},
   "outputs": [
    {
     "data": {
      "text/plain": [
       "array([[-2.26470281e+00,  4.80026597e-01,  1.27706022e-01,\n",
       "        -2.41682039e-02],\n",
       "       [-2.08096115e+00, -6.74133557e-01,  2.34608854e-01,\n",
       "        -1.03006775e-01],\n",
       "       [-2.36422905e+00, -3.41908024e-01, -4.42014848e-02,\n",
       "        -2.83770534e-02],\n",
       "       [-2.29938422e+00, -5.97394508e-01, -9.12901063e-02,\n",
       "         6.59555596e-02],\n",
       "       [-2.38984217e+00,  6.46835383e-01, -1.57381957e-02,\n",
       "         3.59228133e-02],\n",
       "       [-2.07563095e+00,  1.48917752e+00, -2.69682944e-02,\n",
       "        -6.60818022e-03],\n",
       "       [-2.44402884e+00,  4.76441976e-02, -3.35470401e-01,\n",
       "         3.67755572e-02],\n",
       "       [-2.23284716e+00,  2.23148073e-01,  8.86954979e-02,\n",
       "         2.46120962e-02],\n",
       "       [-2.33464048e+00, -1.11532768e+00, -1.45076864e-01,\n",
       "         2.68592208e-02],\n",
       "       [-2.18432817e+00, -4.69013561e-01,  2.53765567e-01,\n",
       "         3.98992877e-02],\n",
       "       [-2.16631010e+00,  1.04369065e+00,  2.68681102e-01,\n",
       "        -1.67313672e-02],\n",
       "       [-2.32613087e+00,  1.33078335e-01, -9.37592444e-02,\n",
       "         1.33483413e-01],\n",
       "       [-2.21845090e+00, -7.28676165e-01,  2.30911237e-01,\n",
       "        -2.42503814e-03],\n",
       "       [-2.63310070e+00, -9.61506729e-01, -1.80796084e-01,\n",
       "         1.92155336e-02],\n",
       "       [-2.19874060e+00,  1.86005711e+00,  4.72900998e-01,\n",
       "        -1.94731769e-01],\n",
       "       [-2.26221453e+00,  2.68628449e+00, -3.05266093e-02,\n",
       "        -5.05337373e-02],\n",
       "       [-2.20758770e+00,  1.48360936e+00,  5.34409408e-03,\n",
       "        -1.88817432e-01],\n",
       "       [-2.19034951e+00,  4.88838316e-01,  4.42153165e-02,\n",
       "        -9.30904384e-02],\n",
       "       [-1.89857200e+00,  1.40501879e+00,  3.74343275e-01,\n",
       "        -6.10959671e-02],\n",
       "       [-2.34336905e+00,  1.12784938e+00, -1.32630467e-01,\n",
       "         3.77564197e-02],\n",
       "       [-1.91432300e+00,  4.08855708e-01,  4.21292594e-01,\n",
       "        -1.09212863e-02],\n",
       "       [-2.20701284e+00,  9.24121427e-01, -1.59865277e-01,\n",
       "        -5.95973299e-02],\n",
       "       [-2.77434470e+00,  4.58343668e-01, -3.32179098e-01,\n",
       "        -1.96484301e-02],\n",
       "       [-1.81866953e+00,  8.55585263e-02, -3.44885958e-02,\n",
       "        -1.51140999e-01],\n",
       "       [-2.22716331e+00,  1.37254455e-01, -1.17993536e-01,\n",
       "         2.70140352e-01],\n",
       "       [-1.95184633e+00, -6.25618588e-01,  3.05640982e-01,\n",
       "        -4.35616510e-02],\n",
       "       [-2.05115137e+00,  2.42163553e-01, -8.63640108e-02,\n",
       "        -6.76800599e-02],\n",
       "       [-2.16857717e+00,  5.27149525e-01,  2.06816248e-01,\n",
       "        -1.02753930e-02],\n",
       "       [-2.13956345e+00,  3.13217810e-01,  2.71150240e-01,\n",
       "        -8.42592210e-02],\n",
       "       [-2.26526149e+00, -3.37731904e-01, -6.84357762e-02,\n",
       "         1.08279885e-01],\n",
       "       [-2.14012214e+00, -5.04540690e-01,  7.50084417e-02,\n",
       "         4.81888683e-02],\n",
       "       [-1.83159477e+00,  4.23695068e-01,  2.70467377e-01,\n",
       "        -2.39870381e-01],\n",
       "       [-2.61494794e+00,  1.79357586e+00, -4.72284187e-02,\n",
       "         2.29235932e-01],\n",
       "       [-2.44617739e+00,  2.15072788e+00,  8.26680451e-02,\n",
       "         4.82143929e-02],\n",
       "       [-2.10997488e+00, -4.60201841e-01,  1.70274861e-01,\n",
       "        -2.90229468e-02],\n",
       "       [-2.20780890e+00, -2.06107398e-01,  2.25441580e-01,\n",
       "        -1.68907873e-01],\n",
       "       [-2.04514621e+00,  6.61558111e-01,  4.84537410e-01,\n",
       "        -1.96358525e-01],\n",
       "       [-2.52733191e+00,  5.92292774e-01, -1.94358125e-02,\n",
       "         1.36504550e-01],\n",
       "       [-2.42963258e+00, -9.04180040e-01, -1.93254662e-01,\n",
       "         9.73842285e-03],\n",
       "       [-2.16971071e+00,  2.68878961e-01,  1.75883821e-01,\n",
       "        -7.04740592e-03],\n",
       "       [-2.28647514e+00,  4.41715388e-01, -3.48949090e-02,\n",
       "        -1.06983249e-01],\n",
       "       [-1.85812246e+00, -2.33741516e+00,  2.04234223e-01,\n",
       "        -2.89863919e-01],\n",
       "       [-2.55363840e+00, -4.79100690e-01, -3.05766453e-01,\n",
       "         6.66014529e-02],\n",
       "       [-1.96444768e+00,  4.72326668e-01, -3.09601318e-01,\n",
       "        -1.77093014e-01],\n",
       "       [-2.13705901e+00,  1.14222926e+00, -2.48433561e-01,\n",
       "         1.51043437e-01],\n",
       "       [-2.06974430e+00, -7.11052725e-01,  6.39298256e-02,\n",
       "        -1.40269507e-01],\n",
       "       [-2.38473317e+00,  1.12042970e+00, -5.72178581e-02,\n",
       "         1.52230967e-01],\n",
       "       [-2.39437631e+00, -3.86246873e-01, -1.39467905e-01,\n",
       "         4.88347616e-02],\n",
       "       [-2.22944655e+00,  9.97959764e-01,  1.81492780e-01,\n",
       "         1.49281349e-02],\n",
       "       [-2.20383344e+00,  9.21635752e-03,  1.53029490e-01,\n",
       "        -4.93717318e-02],\n",
       "       [ 1.10178118e+00,  8.62972418e-01,  6.84586163e-01,\n",
       "        -3.48337755e-02],\n",
       "       [ 7.31337425e-01,  5.94614726e-01,  9.41217155e-02,\n",
       "        -4.90362325e-03],\n",
       "       [ 1.24097932e+00,  6.16297654e-01,  5.54006835e-01,\n",
       "        -9.42339702e-03],\n",
       "       [ 4.07483059e-01, -1.75440399e+00,  2.31017678e-02,\n",
       "        -6.57688353e-02],\n",
       "       [ 1.07547470e+00, -2.08421046e-01,  3.98255523e-01,\n",
       "        -1.04736873e-01],\n",
       "       [ 3.88687337e-01, -5.93283636e-01, -1.24191550e-01,\n",
       "         2.40831300e-01],\n",
       "       [ 7.46529741e-01,  7.73019312e-01, -1.48969403e-01,\n",
       "         7.73697853e-02],\n",
       "       [-4.87322742e-01, -1.85242909e+00, -2.49265266e-01,\n",
       "         4.05202053e-02],\n",
       "       [ 9.27901638e-01,  3.22260779e-02,  5.96169361e-01,\n",
       "         2.98796094e-02],\n",
       "       [ 1.14261887e-02, -1.03401828e+00, -5.38899390e-01,\n",
       "         2.84611837e-02],\n",
       "       [-1.10196280e-01, -2.65407282e+00,  4.67904441e-02,\n",
       "        -1.37607310e-02],\n",
       "       [ 4.40693449e-01, -6.32951884e-02, -2.05073815e-01,\n",
       "        -4.01260816e-02],\n",
       "       [ 5.62108306e-01, -1.76472438e+00,  7.65771394e-01,\n",
       "        -4.57311573e-02],\n",
       "       [ 7.19561889e-01, -1.86224606e-01,  6.86589454e-02,\n",
       "         1.64807198e-01],\n",
       "       [-3.33547032e-02, -4.39003210e-01, -1.94932893e-01,\n",
       "        -1.09048499e-01],\n",
       "       [ 8.75407191e-01,  5.09063957e-01,  5.03511382e-01,\n",
       "        -1.04943723e-01],\n",
       "       [ 3.50251668e-01, -1.96311735e-01, -4.90873075e-01,\n",
       "         1.91509364e-01],\n",
       "       [ 1.58810048e-01, -7.92095742e-01,  3.02037174e-01,\n",
       "         2.05297735e-01],\n",
       "       [ 1.22509363e+00, -1.62224380e+00,  4.82304024e-01,\n",
       "        -2.25899769e-01],\n",
       "       [ 1.64917899e-01, -1.30260923e+00,  1.72837808e-01,\n",
       "         5.17268487e-02],\n",
       "       [ 7.37682649e-01,  3.96571562e-01, -6.16526306e-01,\n",
       "         8.32841227e-02],\n",
       "       [ 4.76287191e-01, -4.17320281e-01,  2.64952227e-01,\n",
       "        -1.13568273e-01],\n",
       "       [ 1.23417810e+00, -9.33325729e-01,  3.68412272e-01,\n",
       "         9.94452551e-03],\n",
       "       [ 6.32858200e-01, -4.16387721e-01,  2.91896252e-01,\n",
       "         2.74220152e-01],\n",
       "       [ 7.02661183e-01, -6.34118197e-02,  4.46027008e-01,\n",
       "        -4.34583252e-02],\n",
       "       [ 8.74273654e-01,  2.50793393e-01,  4.72578954e-01,\n",
       "        -1.01715736e-01],\n",
       "       [ 1.25650912e+00, -7.72560197e-02,  7.27155002e-01,\n",
       "        -3.96885184e-02],\n",
       "       [ 1.35840512e+00,  3.31311682e-01,  2.60826577e-01,\n",
       "        -6.68280639e-02],\n",
       "       [ 6.64800367e-01, -2.25927855e-01, -8.58638887e-02,\n",
       "         3.64398401e-02],\n",
       "       [-4.02586109e-02, -1.05871855e+00,  3.19573330e-01,\n",
       "        -6.47881557e-02],\n",
       "       [ 1.30795175e-01, -1.56227183e+00,  1.49983478e-01,\n",
       "         9.40252286e-03],\n",
       "       [ 2.34526890e-02, -1.57247559e+00,  2.41552281e-01,\n",
       "         3.27724444e-02],\n",
       "       [ 2.41538273e-01, -7.77256383e-01,  1.51211957e-01,\n",
       "        -2.36513599e-02],\n",
       "       [ 1.06109461e+00, -6.33843245e-01, -1.05311387e-01,\n",
       "         1.83968453e-01],\n",
       "       [ 2.23978774e-01, -2.87773512e-01, -6.65249720e-01,\n",
       "         2.54828368e-01],\n",
       "       [ 4.29139116e-01,  8.45582241e-01, -4.50634071e-01,\n",
       "         1.09675181e-01],\n",
       "       [ 1.04872805e+00,  5.22051797e-01,  3.95786384e-01,\n",
       "        -3.72090187e-02],\n",
       "       [ 1.04453138e+00, -1.38298872e+00,  6.88295960e-01,\n",
       "        -1.36835600e-01],\n",
       "       [ 6.95883211e-02, -2.19503335e-01, -2.91579274e-01,\n",
       "         1.47144581e-01],\n",
       "       [ 2.83477238e-01, -1.32932464e+00, -8.94100229e-02,\n",
       "        -8.90580520e-03],\n",
       "       [ 2.79077776e-01, -1.12002852e+00, -9.44876010e-02,\n",
       "         2.70657196e-01],\n",
       "       [ 6.24569791e-01,  2.49230293e-02,  2.04811472e-02,\n",
       "         1.47686401e-01],\n",
       "       [ 3.36530370e-01, -9.88404018e-01,  1.99389755e-01,\n",
       "        -6.53056201e-03],\n",
       "       [-3.62183385e-01, -2.01923787e+00, -1.05821048e-01,\n",
       "        -1.95708119e-02],\n",
       "       [ 2.88586239e-01, -8.55730320e-01, -1.30889685e-01,\n",
       "         1.07402349e-01],\n",
       "       [ 9.13606557e-02, -1.81192126e-01, -1.28978343e-01,\n",
       "         2.29959626e-01],\n",
       "       [ 2.27716866e-01, -3.84920081e-01, -1.56213154e-01,\n",
       "         1.32605877e-01],\n",
       "       [ 5.76388289e-01, -1.54873597e-01,  2.71650362e-01,\n",
       "         1.98606790e-02],\n",
       "       [-4.47667019e-01, -1.54379203e+00, -1.90400930e-01,\n",
       "        -1.99946457e-01],\n",
       "       [ 2.56730589e-01, -5.98851796e-01, -9.18791610e-02,\n",
       "         5.86220486e-02],\n",
       "       [ 1.84456887e+00,  8.70421312e-01, -1.00540102e+00,\n",
       "         4.92497432e-02],\n",
       "       [ 1.15788161e+00, -6.98869862e-01, -5.30160149e-01,\n",
       "         4.05207540e-02],\n",
       "       [ 2.20526679e+00,  5.62010477e-01,  2.02914170e-01,\n",
       "        -5.91841937e-02],\n",
       "       [ 1.44015066e+00, -4.69875881e-02, -1.63630107e-01,\n",
       "         2.35770073e-01],\n",
       "       [ 1.86781222e+00,  2.95044824e-01, -3.95628375e-01,\n",
       "         1.62982715e-02],\n",
       "       [ 2.75187334e+00,  8.00409201e-01,  5.82309103e-01,\n",
       "         1.01384486e-01],\n",
       "       [ 3.67017688e-01, -1.56150289e+00, -9.86893267e-01,\n",
       "         1.33123834e-01],\n",
       "       [ 2.30243944e+00,  4.20065580e-01,  6.51706439e-01,\n",
       "         2.38041242e-01],\n",
       "       [ 2.00668647e+00, -7.11438654e-01,  3.93990571e-01,\n",
       "         8.65106302e-02],\n",
       "       [ 2.25977735e+00,  1.92101038e+00, -3.97551897e-01,\n",
       "        -1.04838918e-01],\n",
       "       [ 1.36417549e+00,  6.92756454e-01, -2.84612074e-01,\n",
       "        -1.07860420e-01],\n",
       "       [ 1.60267867e+00, -4.21700450e-01, -2.31864079e-02,\n",
       "        -5.83316327e-02],\n",
       "       [ 1.88390070e+00,  4.19249651e-01, -2.63384095e-02,\n",
       "        -1.46414939e-01],\n",
       "       [ 1.26011510e+00, -1.16226042e+00, -5.80249290e-01,\n",
       "        -9.91573214e-02],\n",
       "       [ 1.46764520e+00, -4.42271587e-01, -1.00386957e+00,\n",
       "        -2.75658903e-01],\n",
       "       [ 1.59007732e+00,  6.76244806e-01, -6.38428708e-01,\n",
       "        -1.91862996e-01],\n",
       "       [ 1.47143146e+00,  2.55621824e-01, -3.74312599e-02,\n",
       "         1.55330271e-01],\n",
       "       [ 2.42632899e+00,  2.55666125e+00,  1.27881459e-01,\n",
       "         2.73807183e-01],\n",
       "       [ 3.31069558e+00,  1.77809493e-02,  7.03305304e-01,\n",
       "        -4.51886059e-02],\n",
       "       [ 1.26376667e+00, -1.70674538e+00,  2.67536893e-01,\n",
       "         6.51807997e-02],\n",
       "       [ 2.03771630e+00,  9.10467410e-01, -2.34799484e-01,\n",
       "        -1.67951254e-01],\n",
       "       [ 9.77980734e-01, -5.71764325e-01, -8.28127201e-01,\n",
       "        -2.77555871e-02],\n",
       "       [ 2.89765149e+00,  4.13641060e-01,  8.57421825e-01,\n",
       "         1.27336502e-01],\n",
       "       [ 1.33323218e+00, -4.81811219e-01,  5.42836383e-03,\n",
       "        -1.39959148e-01],\n",
       "       [ 1.70073390e+00,  1.01392187e+00, -2.98450613e-01,\n",
       "         6.16437339e-02],\n",
       "       [ 1.95432671e+00,  1.00777760e+00,  4.19984722e-01,\n",
       "         2.18338351e-01],\n",
       "       [ 1.17510363e+00, -3.16394472e-01, -1.29937757e-01,\n",
       "        -1.25420444e-01],\n",
       "       [ 1.02095055e+00,  6.43460292e-02, -3.37715967e-01,\n",
       "         8.65440136e-03],\n",
       "       [ 1.78834992e+00, -1.87361215e-01, -2.70658006e-01,\n",
       "        -3.10876478e-02],\n",
       "       [ 1.86364755e+00,  5.62290726e-01,  7.15634119e-01,\n",
       "         2.08215164e-01],\n",
       "       [ 2.43595373e+00,  2.59284433e-01,  7.27816146e-01,\n",
       "         1.79233648e-02],\n",
       "       [ 2.30492772e+00,  2.62632347e+00,  4.93473808e-01,\n",
       "         2.11675709e-01],\n",
       "       [ 1.86270322e+00, -1.78549495e-01, -3.54148712e-01,\n",
       "        -1.00009882e-01],\n",
       "       [ 1.11414774e+00, -2.92922623e-01,  1.83488392e-01,\n",
       "         1.86343697e-01],\n",
       "       [ 1.20247330e+00, -8.11315271e-01,  1.64723757e-01,\n",
       "         4.89483470e-01],\n",
       "       [ 2.79877045e+00,  8.56803329e-01,  5.42906499e-01,\n",
       "        -2.95881050e-01],\n",
       "       [ 1.57625591e+00,  1.06858111e+00, -9.45853819e-01,\n",
       "        -3.56057591e-02],\n",
       "       [ 1.34629210e+00,  4.22430611e-01, -1.80875478e-01,\n",
       "         2.15421288e-01],\n",
       "       [ 9.24824917e-01,  1.72231005e-02, -4.16826193e-01,\n",
       "        -5.23840949e-03],\n",
       "       [ 1.85204505e+00,  6.76128174e-01,  1.26721148e-02,\n",
       "        -1.95195239e-01],\n",
       "       [ 2.01481043e+00,  6.13885637e-01, -4.28332842e-01,\n",
       "        -2.47538313e-01],\n",
       "       [ 1.90178409e+00,  6.89575494e-01, -1.30075005e-01,\n",
       "        -4.69696647e-01],\n",
       "       [ 1.15788161e+00, -6.98869862e-01, -5.30160149e-01,\n",
       "         4.05207540e-02],\n",
       "       [ 2.04055823e+00,  8.67520601e-01, -3.38144000e-01,\n",
       "        -4.51871263e-02],\n",
       "       [ 1.99814710e+00,  1.04916875e+00, -6.32413436e-01,\n",
       "        -2.14045204e-01],\n",
       "       [ 1.87050329e+00,  3.86966082e-01, -2.56273852e-01,\n",
       "        -3.89256845e-01],\n",
       "       [ 1.56458048e+00, -8.96686809e-01,  2.63713516e-02,\n",
       "        -2.20192100e-01],\n",
       "       [ 1.52117050e+00,  2.69069144e-01, -1.80178380e-01,\n",
       "        -1.19171137e-01],\n",
       "       [ 1.37278779e+00,  1.01125442e+00, -9.33395241e-01,\n",
       "        -2.61286484e-02],\n",
       "       [ 9.60656030e-01, -2.43316682e-02, -5.28248807e-01,\n",
       "         1.63078032e-01]])"
      ]
     },
     "execution_count": 16,
     "metadata": {},
     "output_type": "execute_result"
    }
   ],
   "source": [
    "from sklearn.decomposition import PCA\n",
    "\n",
    "pca = PCA()\n",
    "pcomponents = pca.fit_transform(iris_scaled)\n",
    "pcomponents"
   ]
  },
  {
   "cell_type": "code",
   "execution_count": 17,
   "metadata": {},
   "outputs": [
    {
     "data": {
      "text/plain": [
       "array([2.93808505, 0.9201649 , 0.14774182, 0.02085386])"
      ]
     },
     "execution_count": 17,
     "metadata": {},
     "output_type": "execute_result"
    }
   ],
   "source": [
    "exp_v = pca.explained_variance_\n",
    "exp_v"
   ]
  },
  {
   "cell_type": "code",
   "execution_count": 18,
   "metadata": {},
   "outputs": [
    {
     "data": {
      "text/plain": [
       "array([0.72962445, 0.22850762, 0.03668922, 0.00517871])"
      ]
     },
     "execution_count": 18,
     "metadata": {},
     "output_type": "execute_result"
    }
   ],
   "source": [
    "exp_vratio = pca.explained_variance_ratio_\n",
    "exp_vratio"
   ]
  },
  {
   "cell_type": "code",
   "execution_count": 19,
   "metadata": {},
   "outputs": [
    {
     "data": {
      "text/plain": [
       "array([2.93808505, 3.85824995, 4.00599178, 4.02684564])"
      ]
     },
     "execution_count": 19,
     "metadata": {},
     "output_type": "execute_result"
    }
   ],
   "source": [
    "exp_v.cumsum()"
   ]
  },
  {
   "cell_type": "code",
   "execution_count": 20,
   "metadata": {},
   "outputs": [
    {
     "data": {
      "text/plain": [
       "array([0.72962445, 0.95813207, 0.99482129, 1.        ])"
      ]
     },
     "execution_count": 20,
     "metadata": {},
     "output_type": "execute_result"
    }
   ],
   "source": [
    "exp_vratio.cumsum()"
   ]
  },
  {
   "cell_type": "code",
   "execution_count": 21,
   "metadata": {},
   "outputs": [
    {
     "data": {
      "text/plain": [
       "[<matplotlib.lines.Line2D at 0x21c050efad0>]"
      ]
     },
     "execution_count": 21,
     "metadata": {},
     "output_type": "execute_result"
    },
    {
     "data": {
      "image/png": "[encoded data removed]",
      "text/plain": [
       "<Figure size 1000x600 with 1 Axes>"
      ]
     },
     "metadata": {},
     "output_type": "display_data"
    }
   ],
   "source": [
    "# 스크리 차트\n",
    "\n",
    "plt.figure(figsize=(10, 6))\n",
    "plt.plot(range(1, len(exp_vratio)+1), exp_vratio, marker='o', linestyle='--')"
   ]
  },
  {
   "cell_type": "code",
   "execution_count": 22,
   "metadata": {},
   "outputs": [
    {
     "data": {
      "text/html": [
       "<div>\n",
       "<style scoped>\n",
       "    .dataframe tbody tr th:only-of-type {\n",
       "        vertical-align: middle;\n",
       "    }\n",
       "\n",
       "    .dataframe tbody tr th {\n",
       "        vertical-align: top;\n",
       "    }\n",
       "\n",
       "    .dataframe thead th {\n",
       "        text-align: right;\n",
       "    }\n",
       "</style>\n",
       "<table border=\"1\" class=\"dataframe\">\n",
       "  <thead>\n",
       "    <tr style=\"text-align: right;\">\n",
       "      <th></th>\n",
       "      <th>PC1</th>\n",
       "      <th>PC2</th>\n",
       "    </tr>\n",
       "  </thead>\n",
       "  <tbody>\n",
       "    <tr>\n",
       "      <th>0</th>\n",
       "      <td>-2.264703</td>\n",
       "      <td>0.480027</td>\n",
       "    </tr>\n",
       "    <tr>\n",
       "      <th>1</th>\n",
       "      <td>-2.080961</td>\n",
       "      <td>-0.674134</td>\n",
       "    </tr>\n",
       "    <tr>\n",
       "      <th>2</th>\n",
       "      <td>-2.364229</td>\n",
       "      <td>-0.341908</td>\n",
       "    </tr>\n",
       "    <tr>\n",
       "      <th>3</th>\n",
       "      <td>-2.299384</td>\n",
       "      <td>-0.597395</td>\n",
       "    </tr>\n",
       "    <tr>\n",
       "      <th>4</th>\n",
       "      <td>-2.389842</td>\n",
       "      <td>0.646835</td>\n",
       "    </tr>\n",
       "    <tr>\n",
       "      <th>...</th>\n",
       "      <td>...</td>\n",
       "      <td>...</td>\n",
       "    </tr>\n",
       "    <tr>\n",
       "      <th>145</th>\n",
       "      <td>1.870503</td>\n",
       "      <td>0.386966</td>\n",
       "    </tr>\n",
       "    <tr>\n",
       "      <th>146</th>\n",
       "      <td>1.564580</td>\n",
       "      <td>-0.896687</td>\n",
       "    </tr>\n",
       "    <tr>\n",
       "      <th>147</th>\n",
       "      <td>1.521170</td>\n",
       "      <td>0.269069</td>\n",
       "    </tr>\n",
       "    <tr>\n",
       "      <th>148</th>\n",
       "      <td>1.372788</td>\n",
       "      <td>1.011254</td>\n",
       "    </tr>\n",
       "    <tr>\n",
       "      <th>149</th>\n",
       "      <td>0.960656</td>\n",
       "      <td>-0.024332</td>\n",
       "    </tr>\n",
       "  </tbody>\n",
       "</table>\n",
       "<p>150 rows × 2 columns</p>\n",
       "</div>"
      ],
      "text/plain": [
       "          PC1       PC2\n",
       "0   -2.264703  0.480027\n",
       "1   -2.080961 -0.674134\n",
       "2   -2.364229 -0.341908\n",
       "3   -2.299384 -0.597395\n",
       "4   -2.389842  0.646835\n",
       "..        ...       ...\n",
       "145  1.870503  0.386966\n",
       "146  1.564580 -0.896687\n",
       "147  1.521170  0.269069\n",
       "148  1.372788  1.011254\n",
       "149  0.960656 -0.024332\n",
       "\n",
       "[150 rows x 2 columns]"
      ]
     },
     "execution_count": 22,
     "metadata": {},
     "output_type": "execute_result"
    }
   ],
   "source": [
    "pca2 = PCA(n_components=2)\n",
    "p_comp2 = pca2.fit_transform(iris_scaled)\n",
    "p_comp2_df = pd.DataFrame(data=p_comp2, columns=['PC1', 'PC2'])\n",
    "p_comp2_df"
   ]
  },
  {
   "cell_type": "code",
   "execution_count": 23,
   "metadata": {},
   "outputs": [],
   "source": [
    "iris_df['species'] = iris.target"
   ]
  },
  {
   "cell_type": "code",
   "execution_count": 24,
   "metadata": {},
   "outputs": [
    {
     "data": {
      "text/html": [
       "<div>\n",
       "<style scoped>\n",
       "    .dataframe tbody tr th:only-of-type {\n",
       "        vertical-align: middle;\n",
       "    }\n",
       "\n",
       "    .dataframe tbody tr th {\n",
       "        vertical-align: top;\n",
       "    }\n",
       "\n",
       "    .dataframe thead th {\n",
       "        text-align: right;\n",
       "    }\n",
       "</style>\n",
       "<table border=\"1\" class=\"dataframe\">\n",
       "  <thead>\n",
       "    <tr style=\"text-align: right;\">\n",
       "      <th></th>\n",
       "      <th>PC1</th>\n",
       "      <th>PC2</th>\n",
       "      <th>species</th>\n",
       "    </tr>\n",
       "  </thead>\n",
       "  <tbody>\n",
       "    <tr>\n",
       "      <th>0</th>\n",
       "      <td>-2.264703</td>\n",
       "      <td>0.480027</td>\n",
       "      <td>0</td>\n",
       "    </tr>\n",
       "    <tr>\n",
       "      <th>1</th>\n",
       "      <td>-2.080961</td>\n",
       "      <td>-0.674134</td>\n",
       "      <td>0</td>\n",
       "    </tr>\n",
       "    <tr>\n",
       "      <th>2</th>\n",
       "      <td>-2.364229</td>\n",
       "      <td>-0.341908</td>\n",
       "      <td>0</td>\n",
       "    </tr>\n",
       "    <tr>\n",
       "      <th>3</th>\n",
       "      <td>-2.299384</td>\n",
       "      <td>-0.597395</td>\n",
       "      <td>0</td>\n",
       "    </tr>\n",
       "    <tr>\n",
       "      <th>4</th>\n",
       "      <td>-2.389842</td>\n",
       "      <td>0.646835</td>\n",
       "      <td>0</td>\n",
       "    </tr>\n",
       "    <tr>\n",
       "      <th>...</th>\n",
       "      <td>...</td>\n",
       "      <td>...</td>\n",
       "      <td>...</td>\n",
       "    </tr>\n",
       "    <tr>\n",
       "      <th>145</th>\n",
       "      <td>1.870503</td>\n",
       "      <td>0.386966</td>\n",
       "      <td>2</td>\n",
       "    </tr>\n",
       "    <tr>\n",
       "      <th>146</th>\n",
       "      <td>1.564580</td>\n",
       "      <td>-0.896687</td>\n",
       "      <td>2</td>\n",
       "    </tr>\n",
       "    <tr>\n",
       "      <th>147</th>\n",
       "      <td>1.521170</td>\n",
       "      <td>0.269069</td>\n",
       "      <td>2</td>\n",
       "    </tr>\n",
       "    <tr>\n",
       "      <th>148</th>\n",
       "      <td>1.372788</td>\n",
       "      <td>1.011254</td>\n",
       "      <td>2</td>\n",
       "    </tr>\n",
       "    <tr>\n",
       "      <th>149</th>\n",
       "      <td>0.960656</td>\n",
       "      <td>-0.024332</td>\n",
       "      <td>2</td>\n",
       "    </tr>\n",
       "  </tbody>\n",
       "</table>\n",
       "<p>150 rows × 3 columns</p>\n",
       "</div>"
      ],
      "text/plain": [
       "          PC1       PC2  species\n",
       "0   -2.264703  0.480027        0\n",
       "1   -2.080961 -0.674134        0\n",
       "2   -2.364229 -0.341908        0\n",
       "3   -2.299384 -0.597395        0\n",
       "4   -2.389842  0.646835        0\n",
       "..        ...       ...      ...\n",
       "145  1.870503  0.386966        2\n",
       "146  1.564580 -0.896687        2\n",
       "147  1.521170  0.269069        2\n",
       "148  1.372788  1.011254        2\n",
       "149  0.960656 -0.024332        2\n",
       "\n",
       "[150 rows x 3 columns]"
      ]
     },
     "execution_count": 24,
     "metadata": {},
     "output_type": "execute_result"
    }
   ],
   "source": [
    "final_df = pd.concat([p_comp2_df, iris_df[['species']]], axis=1)\n",
    "final_df"
   ]
  },
  {
   "cell_type": "markdown",
   "metadata": {},
   "source": [
    "# k-means, k=3인 모형을 만들고, 실루엣 계수를 평가합니다."
   ]
  },
  {
   "cell_type": "code",
   "execution_count": 25,
   "metadata": {},
   "outputs": [
    {
     "name": "stdout",
     "output_type": "stream",
     "text": [
      "k=3, silhouette_score: 0.5091683341538227\n",
      "k=2, silhouette_score: 0.6145202036230452\n"
     ]
    }
   ],
   "source": [
    "from sklearn.cluster import KMeans\n",
    "from sklearn.metrics import silhouette_samples, silhouette_score\n",
    "\n",
    "k_means = [3, 2]\n",
    "\n",
    "for k in k_means:\n",
    "    # K-평균 클러스터링 수행\n",
    "    kmeans = KMeans(n_clusters=k, random_state=0)\n",
    "    cluster_labels = kmeans.fit_predict(final_df[['PC1', 'PC2']])\n",
    "    #cluster_labels[:10]\n",
    "\n",
    "    from sklearn.metrics import silhouette_samples, silhouette_score\n",
    "\n",
    "    # 실루엣 점수 계산\n",
    "    silhouette_values = silhouette_samples(final_df[['PC1', 'PC2']], cluster_labels)\n",
    "    #silhouette_values[:10]\n",
    "\n",
    "    s_score = silhouette_score(final_df[['PC1', 'PC2']], cluster_labels)\n",
    "    print(f'k={k}, silhouette_score: {s_score}')"
   ]
  },
  {
   "cell_type": "code",
   "execution_count": 26,
   "metadata": {},
   "outputs": [
    {
     "data": {
      "text/plain": [
       "array([1, 1, 1, 1, 1, 1, 1, 1, 1, 1], dtype=int32)"
      ]
     },
     "execution_count": 26,
     "metadata": {},
     "output_type": "execute_result"
    }
   ],
   "source": [
    "from sklearn.cluster import KMeans\n",
    "\n",
    "kmeans_3 = KMeans(n_clusters=3, random_state=0)\n",
    "labels_3 = kmeans_3.fit_predict(final_df)\n",
    "\n",
    "centroids_3 = kmeans_3.cluster_centers_ # 두 개의 점의 중심점\n",
    "labels_3[:10]"
   ]
  },
  {
   "cell_type": "code",
   "execution_count": 27,
   "metadata": {},
   "outputs": [
    {
     "data": {
      "text/plain": [
       "<matplotlib.collections.PathCollection at 0x21c050bf200>"
      ]
     },
     "execution_count": 27,
     "metadata": {},
     "output_type": "execute_result"
    },
    {
     "data": {
      "image/png": "[encoded data removed]",
      "text/plain": [
       "<Figure size 640x480 with 1 Axes>"
      ]
     },
     "metadata": {},
     "output_type": "display_data"
    }
   ],
   "source": [
    "import matplotlib.pyplot as plt\n",
    "\n",
    "plt.scatter(final_df.iloc[:, 0], final_df.iloc[:, 1], c=labels_3)\n",
    "# 중심점\n",
    "plt.scatter(centroids_3[:, 0], centroids_3[:, 1], c='red', marker='v')"
   ]
  },
  {
   "cell_type": "code",
   "execution_count": 28,
   "metadata": {},
   "outputs": [
    {
     "name": "stdout",
     "output_type": "stream",
     "text": [
      "Cluster 0: Average Silhouette Score = 0.4264687314998217\n",
      "Cluster 1: Average Silhouette Score = 0.6733833442489388\n",
      "Cluster 2: Average Silhouette Score = 0.4061575049669075\n"
     ]
    }
   ],
   "source": [
    "from sklearn.metrics import silhouette_samples, silhouette_score\n",
    " \n",
    "# 전체 실루엣 점수 평균 계산\n",
    "silhouette_avg = silhouette_score(final_df, labels_3)\n",
    "\n",
    "# 개별 실루엣 점수\n",
    "sample_silhouette_values = silhouette_samples(final_df, labels_3)\n",
    "\n",
    "# 클러스터별 평균 실루엣 점수 계산\n",
    "unique_labels = set(labels_3)\n",
    "silhouette_avg_per_cluster = {}\n",
    "for label in unique_labels:\n",
    "    cluster_silhouette_values = sample_silhouette_values[labels_3 == label]\n",
    "    silhouette_avg_per_cluster[label] = np.mean(cluster_silhouette_values)\n",
    "\n",
    "# 결과 출력\n",
    "for label, silhouette_avg in silhouette_avg_per_cluster.items():\n",
    "    print(f'Cluster {label}: Average Silhouette Score = {silhouette_avg}')"
   ]
  },
  {
   "cell_type": "code",
   "execution_count": 29,
   "metadata": {},
   "outputs": [
    {
     "data": {
      "image/png": "[encoded data removed]",
      "text/plain": [
       "<Figure size 1000x700 with 1 Axes>"
      ]
     },
     "metadata": {},
     "output_type": "display_data"
    }
   ],
   "source": [
    "# 실루엣 차트 그리기\n",
    "fig, ax1 = plt.subplots(figsize=(10, 7))\n",
    " \n",
    "y_lower = 10\n",
    "for i in range(3): #클러스터 3개\n",
    "    ith_cluster_silhouette_values = sample_silhouette_values[labels_3 == i]\n",
    "    ith_cluster_silhouette_values.sort()\n",
    "   \n",
    "    size_cluster_i = ith_cluster_silhouette_values.shape[0]\n",
    "    y_upper = y_lower + size_cluster_i\n",
    " \n",
    "    color = plt.cm.nipy_spectral(float(i) / 3)\n",
    "    ax1.fill_betweenx(np.arange(y_lower, y_upper),\n",
    "                      0, ith_cluster_silhouette_values,\n",
    "                      facecolor=color, edgecolor=color, alpha=0.7)\n",
    " \n",
    "    ax1.text(-0.05, y_lower + 0.5 * size_cluster_i, str(i))\n",
    " \n",
    "    y_lower = y_upper + 10  # 다음 클러스터로 이동\n",
    " \n",
    "ax1.set_title(\"The silhouette plot for the various clusters.\")\n",
    "ax1.set_xlabel(\"The silhouette coefficient values\")\n",
    "ax1.set_ylabel(\"Cluster label\")\n",
    " \n",
    "ax1.axvline(x=silhouette_avg, color=\"red\", linestyle=\"--\")\n",
    "ax1.set_yticks([])\n",
    "ax1.set_xticks(np.arange(-0.1, 1.1, 0.1))\n",
    " \n",
    "plt.show()"
   ]
  }
 ],
 "metadata": {
  "kernelspec": {
   "display_name": "Python 3",
   "language": "python",
   "name": "python3"
  },
  "language_info": {
   "codemirror_mode": {
    "name": "ipython",
    "version": 3
   },
   "file_extension": ".py",
   "mimetype": "text/x-python",
   "name": "python",
   "nbconvert_exporter": "python",
   "pygments_lexer": "ipython3",
   "version": "3.12.4"
  }
 },
 "nbformat": 4,
 "nbformat_minor": 2
}
