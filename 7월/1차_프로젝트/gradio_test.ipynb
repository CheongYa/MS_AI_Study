{
 "cells": [
  {
   "cell_type": "code",
   "execution_count": null,
   "metadata": {},
   "outputs": [],
   "source": [
    "import gradio as gr\n",
    "\n",
    "def greet(name):\n",
    "    return f\"Hello {name}. Have a good day!\"\n",
    "\n",
    "def compare_images(uploaded_image):\n",
    "   \n",
    "    accuracy = 0.85\n",
    "    return f\"Similarity Accuracy: {accuracy * 100}%\"\n",
    "\n",
    "iface = gr.Interface(fn=greet, inputs=\"text\", outputs=\"text\")\n",
    "launch = iface.launch(share=True, auth=(\"CheongYa\", \"123456\")) # auth를 사용해서 아이디, 비밀번호\n",
    " \n",
    "# Gradio interface\n",
    "with gr.Blocks() as demo:\n",
    "    with gr.Row():\n",
    "        with gr.Column():\n",
    "            image_input = gr.Image(type=\"pil\", label=\"Upload your image\")\n",
    "            submit_button = gr.Button(\"Submit\")\n",
    "        with gr.Column():\n",
    "            result_output = gr.Textbox(label=\"Result\")\n",
    "   \n",
    "    submit_button.click(fn=compare_images, inputs=image_input, outputs=result_output)\n",
    " \n",
    "demo.launch(share=True)"
   ]
  }
 ],
 "metadata": {
  "language_info": {
   "name": "python"
  }
 },
 "nbformat": 4,
 "nbformat_minor": 2
}
