{
 "cells": [
  {
   "cell_type": "code",
   "execution_count": 7,
   "metadata": {},
   "outputs": [
    {
     "name": "stdout",
     "output_type": "stream",
     "text": [
      "Running on local URL:  http://127.0.0.1:7866\n",
      "\n",
      "Could not create share link. Please check your internet connection or our status page: https://status.gradio.app.\n"
     ]
    },
    {
     "data": {
      "text/html": [
       "<div><iframe src=\"http://127.0.0.1:7866/\" width=\"100%\" height=\"500\" allow=\"autoplay; camera; microphone; clipboard-read; clipboard-write;\" frameborder=\"0\" allowfullscreen></iframe></div>"
      ],
      "text/plain": [
       "<IPython.core.display.HTML object>"
      ]
     },
     "metadata": {},
     "output_type": "display_data"
    },
    {
     "data": {
      "text/plain": []
     },
     "execution_count": 7,
     "metadata": {},
     "output_type": "execute_result"
    }
   ],
   "source": [
    "import gradio as gr\n",
    " \n",
    "def compare_images(uploaded_image):\n",
    "   \n",
    "    accuracy = 0.85\n",
    "    return f\"Similarity Accuracy: {accuracy * 100}%\"\n",
    " \n",
    "# Gradio interface\n",
    "with gr.Blocks() as demo:\n",
    "    # with gr.Row():\n",
    "        # with gr.Column():\n",
    "            # image_input = gr.Image(type=\"pil\", label=\"Upload your image\")\n",
    "            # submit_button = gr.Button(\"Submit\")\n",
    "        # with gr.Column():\n",
    "            # result_output = gr.Textbox(label=\"Result\")\n",
    "\n",
    "    with gr.Tab(\"Image\"):\n",
    "        with gr.Column():\n",
    "            image_input = gr.Image(type=\"pil\", label=\"Upload your image\")\n",
    "            submit_button = gr.Button(\"Submit\")\n",
    "    with gr.Tab(\"Text\"):\n",
    "        with gr.Column():\n",
    "            result_output = gr.Textbox(label=\"Result\")\n",
    "   \n",
    "    submit_button.click(fn=compare_images, inputs=image_input, outputs=result_output)\n",
    " \n",
    "demo.launch(share=True)"
   ]
  },
  {
   "cell_type": "code",
   "execution_count": 26,
   "metadata": {},
   "outputs": [
    {
     "name": "stdout",
     "output_type": "stream",
     "text": [
      "Running on local URL:  http://127.0.0.1:7888\n",
      "\n",
      "Could not create share link. Please check your internet connection or our status page: https://status.gradio.app.\n"
     ]
    },
    {
     "data": {
      "text/html": [
       "<div><iframe src=\"http://127.0.0.1:7888/\" width=\"100%\" height=\"500\" allow=\"autoplay; camera; microphone; clipboard-read; clipboard-write;\" frameborder=\"0\" allowfullscreen></iframe></div>"
      ],
      "text/plain": [
       "<IPython.core.display.HTML object>"
      ]
     },
     "metadata": {},
     "output_type": "display_data"
    },
    {
     "data": {
      "text/plain": []
     },
     "execution_count": 26,
     "metadata": {},
     "output_type": "execute_result"
    }
   ],
   "source": [
    "from azure.cognitiveservices.vision.customvision.prediction import CustomVisionPredictionClient\n",
    "from msrest.authentication import ApiKeyCredentials\n",
    "from matplotlib import pyplot as plt\n",
    "from PIL import Image, ImageDraw, ImageFont\n",
    "import numpy as np\n",
    "import os\n",
    "import io\n",
    "import gradio as gr\n",
    "\n",
    "# Authenticate client\n",
    "\n",
    "prediction_endpoint = \"https://cvgradio-prediction.cognitiveservices.azure.com\"\n",
    "prediction_key = \"7290a12026054f7fa6b49ea9d033222c\"\n",
    "project_id = \"6a07261c-a976-4f9c-b3f9-1c0dffdc6fa8\"\n",
    "model_name = \"Iteration1\"\n",
    "\n",
    "credentials = ApiKeyCredentials(in_headers={\"Prediction-key\": prediction_key})\n",
    "predictor = CustomVisionPredictionClient(endpoint=prediction_endpoint, credentials=credentials)\n",
    "\n",
    "def predict_image(input_img): \n",
    "    h, w, ch = np.array(input_img).shape \n",
    "    img_byte_arr = io.BytesIO() \n",
    "    input_img.save(img_byte_arr, format='png') \n",
    "    img_bytes = img_byte_arr.getvalue() \n",
    "    results = predictor.detect_image(project_id, model_name, img_bytes) \n",
    "\n",
    "    fig, ax = plt.subplots(figsize=(8, 8)) \n",
    "    ax.axis('off') \n",
    "\n",
    "    draw = ImageDraw.Draw(input_img) \n",
    "    lineWidth = int(w / 100) \n",
    "    color = 'magenta' \n",
    "\n",
    "    for prediction in results.predictions: \n",
    "        if (prediction.probability * 100) > 50: \n",
    "            left = prediction.bounding_box.left * w \n",
    "            top = prediction.bounding_box.top * h \n",
    "            width = prediction.bounding_box.width * w \n",
    "            height = prediction.bounding_box.height * h \n",
    "\n",
    "            points = ((left, top), (left + width, top), (left + width, top + height), (left, top + height), (left, top)) \n",
    "            draw.line(points, fill=color, width=lineWidth) \n",
    "            ax.annotate(prediction.tag_name + ' {0:.2f}%'.format(prediction.probability * 100), (left, top), color=color)\n",
    "\n",
    "    ax.imshow(input_img)\n",
    "\n",
    "    # 예측 결과 텍스트 생성\n",
    "    predictions_text = \"\\n\".join(\n",
    "        f\"{prediction.tag_name}: {prediction.probability * 100:.2f}%\" \n",
    "        for prediction in results.predictions \n",
    "        if (prediction.probability * 100) > 50\n",
    "    )\n",
    "\n",
    "    greeting_text = \"안녕하세요. 사용자님.\"\n",
    "\n",
    "    return fig, predictions_text, greeting_text\n",
    "\n",
    "result_output = gr.Textbox(label=\"Result\")\n",
    "text_output = gr.Textbox(label=\"Greeting\")\n",
    "\n",
    "demo = gr.Interface(\n",
    "    fn=predict_image, \n",
    "    inputs=gr.Image(type='pil'), \n",
    "    outputs=[gr.Plot(), result_output, text_output]\n",
    ") \n",
    "demo.launch(share=True)\n"
   ]
  }
 ],
 "metadata": {
  "kernelspec": {
   "display_name": "Python 3",
   "language": "python",
   "name": "python3"
  },
  "language_info": {
   "codemirror_mode": {
    "name": "ipython",
    "version": 3
   },
   "file_extension": ".py",
   "mimetype": "text/x-python",
   "name": "python",
   "nbconvert_exporter": "python",
   "pygments_lexer": "ipython3",
   "version": "3.12.4"
  }
 },
 "nbformat": 4,
 "nbformat_minor": 2
}
