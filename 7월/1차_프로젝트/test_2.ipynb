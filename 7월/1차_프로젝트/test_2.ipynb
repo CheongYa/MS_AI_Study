{
 "cells": [
  {
   "cell_type": "code",
   "execution_count": 2,
   "metadata": {},
   "outputs": [
    {
     "name": "stdout",
     "output_type": "stream",
     "text": [
      "Running on local URL:  http://127.0.0.1:7890\n",
      "\n",
      "Could not create share link. Please check your internet connection or our status page: https://status.gradio.app.\n"
     ]
    },
    {
     "data": {
      "text/html": [
       "<div><iframe src=\"http://127.0.0.1:7890/\" width=\"100%\" height=\"500\" allow=\"autoplay; camera; microphone; clipboard-read; clipboard-write;\" frameborder=\"0\" allowfullscreen></iframe></div>"
      ],
      "text/plain": [
       "<IPython.core.display.HTML object>"
      ]
     },
     "metadata": {},
     "output_type": "display_data"
    },
    {
     "data": {
      "text/plain": []
     },
     "execution_count": 2,
     "metadata": {},
     "output_type": "execute_result"
    }
   ],
   "source": [
    "from azure.cognitiveservices.vision.customvision.prediction import CustomVisionPredictionClient\n",
    "from msrest.authentication import ApiKeyCredentials\n",
    "from matplotlib import pyplot as plt\n",
    "from PIL import Image, ImageDraw, ImageFont\n",
    "import numpy as np\n",
    "import os\n",
    "import io\n",
    "import gradio as gr\n",
    "\n",
    "# Authenticate client\n",
    "\n",
    "prediction_key = \"07051a00c54f429aacf110c380a4e3fd\"\n",
    "prediction_endpoint = \"https://team1thetteamcv-prediction.cognitiveservices.azure.com/\"\n",
    "project_id = \"240ecda2-da48-4e42-8e67-107e60f73f3d\"\n",
    "model_name = \"Iteration2\"\n",
    "\n",
    "credentials = ApiKeyCredentials(in_headers={\"Prediction-key\": prediction_key})\n",
    "predictor = CustomVisionPredictionClient(endpoint=prediction_endpoint, credentials=credentials)\n",
    "\n",
    "def process_image(image):\n",
    "    # 이미지 리사이즈\n",
    "    max_size = (1024, 1024)\n",
    "    image.thumbnail(max_size)\n",
    "    \n",
    "    # JPEG로 변환\n",
    "    byte_arr = io.BytesIO()\n",
    "    image.save(byte_arr, format='JPEG')\n",
    "    return byte_arr.getvalue()\n",
    "\n",
    "def predict_image(input_img):\n",
    "    processed_image = process_image(input_img)\n",
    "    h, w = input_img.size\n",
    "    \n",
    "    results = predictor.classify_image(project_id, model_name, processed_image)  # 이미지 분류용 메서드\n",
    "    \n",
    "    fig, ax = plt.subplots(figsize=(8, 8))\n",
    "    ax.axis('off')\n",
    "    \n",
    "    draw = ImageDraw.Draw(input_img)\n",
    "    lineWidth = int(w / 100)\n",
    "    color = 'magenta'\n",
    "    \n",
    "    for prediction in results.predictions:\n",
    "        if (prediction.probability * 100) > 50:\n",
    "            draw.text((10, 10), f\"{prediction.tag_name}: {prediction.probability * 100:.2f}%\", fill=color)\n",
    "            break\n",
    "    \n",
    "    ax.imshow(input_img)\n",
    "    \n",
    "    # 예측 결과 텍스트 생성\n",
    "    predictions_text = \"\\n\".join(\n",
    "        f\"{prediction.tag_name}: {prediction.probability * 100:.2f}%\"\n",
    "        for prediction in results.predictions\n",
    "        if (prediction.probability * 100) > 50\n",
    "    )\n",
    "    \n",
    "    return fig, predictions_text\n",
    "\n",
    "result_output = gr.Textbox(label=\"Result\")\n",
    "\n",
    "demo = gr.Interface(\n",
    "    fn=predict_image, \n",
    "    inputs=gr.Image(type='pil'), \n",
    "    outputs=[gr.Plot(), result_output]\n",
    ")\n",
    "demo.launch(share=True)\n"
   ]
  }
 ],
 "metadata": {
  "kernelspec": {
   "display_name": "Python 3",
   "language": "python",
   "name": "python3"
  },
  "language_info": {
   "codemirror_mode": {
    "name": "ipython",
    "version": 3
   },
   "file_extension": ".py",
   "mimetype": "text/x-python",
   "name": "python",
   "nbconvert_exporter": "python",
   "pygments_lexer": "ipython3",
   "version": "3.12.4"
  }
 },
 "nbformat": 4,
 "nbformat_minor": 2
}
