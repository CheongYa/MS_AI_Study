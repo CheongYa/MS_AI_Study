{
 "cells": [
  {
   "cell_type": "code",
   "execution_count": 1,
   "metadata": {},
   "outputs": [
    {
     "name": "stderr",
     "output_type": "stream",
     "text": [
      "c:\\Users\\chch4\\AppData\\Local\\Programs\\Python\\Python312\\Lib\\site-packages\\tqdm\\auto.py:21: TqdmWarning: IProgress not found. Please update jupyter and ipywidgets. See https://ipywidgets.readthedocs.io/en/stable/user_install.html\n",
      "  from .autonotebook import tqdm as notebook_tqdm\n"
     ]
    }
   ],
   "source": [
    "from azure.cognitiveservices.vision.customvision.prediction import CustomVisionPredictionClient\n",
    "from msrest.authentication import ApiKeyCredentials\n",
    "from matplotlib import pyplot as plt\n",
    "from PIL import Image, ImageDraw, ImageFont\n",
    "import numpy as np\n",
    "import os\n",
    "import io\n",
    "import gradio as gr"
   ]
  },
  {
   "cell_type": "code",
   "execution_count": 2,
   "metadata": {},
   "outputs": [],
   "source": [
    "# Authenticate client\n",
    "\n",
    "prediction_endpoint = \"\" # 본인 것으로 채워넣기\n",
    "prediction_key = \"\" # 본인 것으로 채워넣기\n",
    "project_id = \"\" # 본인 것으로 채워넣기\n",
    "model_name = \"Iteration1\""
   ]
  },
  {
   "cell_type": "code",
   "execution_count": 3,
   "metadata": {},
   "outputs": [],
   "source": [
    "credentials = ApiKeyCredentials(in_headers={\"Prediction-key\": prediction_key})\n",
    "predictor = CustomVisionPredictionClient(endpoint=prediction_endpoint, credentials=credentials)"
   ]
  },
  {
   "cell_type": "code",
   "execution_count": 4,
   "metadata": {},
   "outputs": [],
   "source": [
    "def predict_image(input_img):\n",
    "    h, w, ch= np.array(input_img).shape\n",
    "    img_byte_arr = io.BytesIO()\n",
    "    input_img.save(img_byte_arr, format='png')\n",
    "    img_bytes = img_byte_arr.getvalue()\n",
    "    results = predictor.detect_image(project_id, model_name, img_bytes)\n",
    "\n",
    "    fig = plt.figure(figsize=(8,8))\n",
    "    plt.axis('off')\n",
    "\n",
    "    draw = ImageDraw.Draw(input_img)\n",
    "    lineWidth = int(w/100)\n",
    "    color = 'magenta'\n",
    "\n",
    "    for prediction in results. predictions:\n",
    "        if (prediction.probability*100) > 50:\n",
    "            left = prediction.bounding_box.left * w\n",
    "            top = prediction.bounding_box.top * h\n",
    "            width = prediction.bounding_box.width * w\n",
    "            height = prediction.bounding_box.height * h\n",
    "\n",
    "            points = ((left,top), (left+width,top), (left+width,top+height), (left,top+height),(left,top))\n",
    "            draw.line(points, fill=color, width=lineWidth)\n",
    "            plt.annotate(prediction.tag_name + ' {0:.2f}%'.format(prediction.probability * 100), (left, top), color=color)\n",
    "\n",
    "    plt.imshow(input_img)\n",
    "    \n",
    "    return plt"
   ]
  },
  {
   "cell_type": "code",
   "execution_count": null,
   "metadata": {},
   "outputs": [],
   "source": [
    "demo = gr.Interface(fn=predict_image, inputs=gr.Image(type='pil'), outputs='plot')\n",
    "demo.launch(share=True)"
   ]
  }
 ],
 "metadata": {
  "kernelspec": {
   "display_name": "Python 3",
   "language": "python",
   "name": "python3"
  },
  "language_info": {
   "codemirror_mode": {
    "name": "ipython",
    "version": 3
   },
   "file_extension": ".py",
   "mimetype": "text/x-python",
   "name": "python",
   "nbconvert_exporter": "python",
   "pygments_lexer": "ipython3",
   "version": "3.12.4"
  }
 },
 "nbformat": 4,
 "nbformat_minor": 2
}
