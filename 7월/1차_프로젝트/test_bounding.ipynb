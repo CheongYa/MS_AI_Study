{
 "cells": [
  {
   "cell_type": "code",
   "execution_count": 1,
   "metadata": {},
   "outputs": [
    {
     "name": "stderr",
     "output_type": "stream",
     "text": [
      "c:\\Users\\chch4\\AppData\\Local\\Programs\\Python\\Python312\\Lib\\site-packages\\tqdm\\auto.py:21: TqdmWarning: IProgress not found. Please update jupyter and ipywidgets. See https://ipywidgets.readthedocs.io/en/stable/user_install.html\n",
      "  from .autonotebook import tqdm as notebook_tqdm\n"
     ]
    },
    {
     "name": "stdout",
     "output_type": "stream",
     "text": [
      "Running on local URL:  http://127.0.0.1:7860\n",
      "\n",
      "Could not create share link. Please check your internet connection or our status page: https://status.gradio.app.\n"
     ]
    },
    {
     "data": {
      "text/html": [
       "<div><iframe src=\"http://127.0.0.1:7860/\" width=\"100%\" height=\"500\" allow=\"autoplay; camera; microphone; clipboard-read; clipboard-write;\" frameborder=\"0\" allowfullscreen></iframe></div>"
      ],
      "text/plain": [
       "<IPython.core.display.HTML object>"
      ]
     },
     "metadata": {},
     "output_type": "display_data"
    },
    {
     "data": {
      "text/plain": []
     },
     "execution_count": 1,
     "metadata": {},
     "output_type": "execute_result"
    },
    {
     "name": "stdout",
     "output_type": "stream",
     "text": [
      "glass: 93.30%\n",
      "plastic: 6.65%\n",
      "trash: 0.02%\n",
      "paper: 0.02%\n",
      "metal: 0.00%\n"
     ]
    }
   ],
   "source": [
    "from azure.cognitiveservices.vision.customvision.prediction import CustomVisionPredictionClient\n",
    "from msrest.authentication import ApiKeyCredentials\n",
    "from matplotlib import pyplot as plt\n",
    "from PIL import Image, ImageDraw, ImageFont\n",
    "import numpy as np\n",
    "import io\n",
    "import gradio as gr\n",
    "\n",
    "# Authenticate client\n",
    "prediction_key = \"07051a00c54f429aacf110c380a4e3fd\"\n",
    "prediction_endpoint = \"https://team1thetteamcv-prediction.cognitiveservices.azure.com/\"\n",
    "project_id = \"a9a4bcb6-6f63-4990-8811-806c5f3f0ce7\"\n",
    "model_name = \"Iteration2\"\n",
    "\n",
    "credentials = ApiKeyCredentials(in_headers={\"Prediction-key\": prediction_key})\n",
    "predictor = CustomVisionPredictionClient(endpoint=prediction_endpoint, credentials=credentials)\n",
    "\n",
    "data = {\n",
    "    \"Inputs\": {\n",
    "        \"input1\": [\n",
    "            {\n",
    "                \"paper\": \"이건 종이야!📄\\n종이는 종이끼리 모여진 데 버려주면 돼!\",\n",
    "                \"glass\": \"이건 유리야!🔍\\n유리병은 깨질 수 있으니 던지지 말고 조심히 버려줘!\",\n",
    "                \"metal\": \"이건 금속이야!🔧\\n날카로운 모서리에 손이 베이지 않게 조심해!\",\n",
    "                \"plastic\": \"이건 플라스틱이야!🌱\\n페트병은 라벨을 떼고 찌그러트려 버려줘!\",\n",
    "                \"trash\": \"이건 일반쓰레기야!🗑️\\n일반쓰레기는 종량제 봉투에 모아줄래?\\n종량제 봉투가 뭐냐구? 함께 알아볼까?\"\n",
    "            }\n",
    "        ]\n",
    "    },\n",
    "    \"GlobalParameters\": {}\n",
    "}\n",
    "\n",
    "def process_image(image):\n",
    "    # 이미지를 512x512로 리사이즈\n",
    "    image = image.resize((512, 512))\n",
    "    byte_arr = io.BytesIO()\n",
    "\n",
    "    image.save(byte_arr, format='JPEG')\n",
    "    return byte_arr.getvalue()\n",
    "\n",
    "def predict_image(input_img):\n",
    "    input_img = input_img.resize((512, 512))  # 이미지를 512x512로 리사이즈\n",
    "    processed_image = process_image(input_img)\n",
    "    \n",
    "    results = predictor.classify_image(project_id, model_name, processed_image)  # 이미지 분류용 메서드\n",
    "    \n",
    "    fig, ax = plt.subplots(figsize=(8, 8))\n",
    "    ax.axis('off')\n",
    "    \n",
    "    draw = ImageDraw.Draw(input_img)\n",
    "    color = 'magenta'\n",
    "    lineWidth = 5\n",
    "    box_size = 350\n",
    "    center_x, center_y = 512 // 2, 512 // 2\n",
    "    \n",
    "    detected_objects = []\n",
    "    \n",
    "    for prediction in results.predictions:\n",
    "        print(f\"{prediction.tag_name}: {prediction.probability * 100:.2f}%\")\n",
    "        if (prediction.probability * 100) > 70:  # 확률 임계값을 50%로 낮춤\n",
    "            detected_objects.append(prediction.tag_name)\n",
    "            \n",
    "            left = center_x - box_size // 2\n",
    "            top = center_y - box_size // 2\n",
    "            right = center_x + box_size // 2\n",
    "            bottom = center_y + box_size // 2\n",
    "\n",
    "            draw.rectangle([left, top, right, bottom], outline=color, width=lineWidth)\n",
    "            draw.text((left + 5, top - 15), f\"{prediction.tag_name}: {prediction.probability * 100:.2f}%\", fill=color)\n",
    "    \n",
    "    ax.imshow(input_img)\n",
    "    \n",
    "    # 예측 결과 텍스트 생성\n",
    "    if detected_objects:\n",
    "        predictions_text = \"\\n\".join(data[\"Inputs\"][\"input1\"][0].get(obj, \"무슨 쓰레기인지 잘 모르겠어. 주위를 정리하고 사진을 다시 찍어줄래?\") for obj in detected_objects)\n",
    "    else:\n",
    "        predictions_text = \"무슨 쓰레기인지 잘 모르겠어. 주위를 정리하고 사진을 다시 찍어줄래?\"\n",
    "    \n",
    "    return fig, predictions_text\n",
    "\n",
    "result_output = gr.Textbox(label=\"Result\")\n",
    "\n",
    "demo = gr.Interface(\n",
    "    fn=predict_image, \n",
    "    inputs=gr.Image(type='pil'), \n",
    "    outputs=[gr.Plot(), result_output]\n",
    ")\n",
    "demo.launch(share=True)\n"
   ]
  }
 ],
 "metadata": {
  "kernelspec": {
   "display_name": "Python 3",
   "language": "python",
   "name": "python3"
  },
  "language_info": {
   "codemirror_mode": {
    "name": "ipython",
    "version": 3
   },
   "file_extension": ".py",
   "mimetype": "text/x-python",
   "name": "python",
   "nbconvert_exporter": "python",
   "pygments_lexer": "ipython3",
   "version": "3.12.4"
  }
 },
 "nbformat": 4,
 "nbformat_minor": 2
}
