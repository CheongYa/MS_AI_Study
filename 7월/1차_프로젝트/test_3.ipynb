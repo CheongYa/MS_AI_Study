{
 "cells": [
  {
   "cell_type": "code",
   "execution_count": 6,
   "metadata": {},
   "outputs": [
    {
     "name": "stdout",
     "output_type": "stream",
     "text": [
      "Running on local URL:  http://127.0.0.1:7910\n",
      "\n",
      "Could not create share link. Please check your internet connection or our status page: https://status.gradio.app.\n"
     ]
    },
    {
     "data": {
      "text/html": [
       "<div><iframe src=\"http://127.0.0.1:7910/\" width=\"100%\" height=\"500\" allow=\"autoplay; camera; microphone; clipboard-read; clipboard-write;\" frameborder=\"0\" allowfullscreen></iframe></div>"
      ],
      "text/plain": [
       "<IPython.core.display.HTML object>"
      ]
     },
     "metadata": {},
     "output_type": "display_data"
    },
    {
     "data": {
      "text/plain": []
     },
     "execution_count": 6,
     "metadata": {},
     "output_type": "execute_result"
    }
   ],
   "source": [
    "from azure.cognitiveservices.vision.customvision.prediction import CustomVisionPredictionClient\n",
    "from msrest.authentication import ApiKeyCredentials\n",
    "from matplotlib import pyplot as plt\n",
    "from PIL import Image, ImageDraw\n",
    "import numpy as np\n",
    "import io\n",
    "import gradio as gr\n",
    "\n",
    "# Authenticate client\n",
    "prediction_key = \"07051a00c54f429aacf110c380a4e3fd\"\n",
    "prediction_endpoint = \"https://team1thetteamcv-prediction.cognitiveservices.azure.com/\"\n",
    "project_id = \"240ecda2-da48-4e42-8e67-107e60f73f3d\"\n",
    "model_name = \"Iteration2\"\n",
    "\n",
    "credentials = ApiKeyCredentials(in_headers={\"Prediction-key\": prediction_key})\n",
    "predictor = CustomVisionPredictionClient(endpoint=prediction_endpoint, credentials=credentials)\n",
    "\n",
    "data = {\n",
    "    \"Inputs\": {\n",
    "        \"input1\": [\n",
    "            {\n",
    "                \"paper\": \"이건 종이야!📄\\n종이는 종이끼리 모여진 데 버려주면 돼!\",\n",
    "                \"glass\": \"이건 유리야!🔍\\n유리병은 깨질 수 있으니 던지지 말고 조심히 버려줘!\",\n",
    "                \"metal\": \"이건 금속이야!🔧\\n날카로운 모서리에 손이 베이지 않게 조심해!\",\n",
    "                \"plastic\": \"이건 플라스틱이야!🌱\\n페트병은 라벨을 떼고 찌그러트려 버려줘!\",\n",
    "                \"trash\": \"이건 일반쓰레기야!🗑️\\n일반쓰레기는 종량제 봉투에 모아줄래?\\n종량제 봉투가 뭐냐구? 함께 알아볼까?\"\n",
    "            }\n",
    "        ]\n",
    "    },\n",
    "    \"GlobalParameters\": {}\n",
    "}\n",
    "\n",
    "def process_image(image):\n",
    "    # 이미지 리사이즈\n",
    "    max_size = (512, 512)\n",
    "    image.thumbnail(max_size)\n",
    "    \n",
    "    # JPEG로 변환\n",
    "    byte_arr = io.BytesIO()\n",
    "    image.save(byte_arr, format='JPEG')\n",
    "    \n",
    "    return byte_arr.getvalue()\n",
    "\n",
    "def predict_image(input_img):\n",
    "    processed_image = process_image(input_img)\n",
    "    h, w = input_img.size\n",
    "    \n",
    "    results = predictor.classify_image(project_id, model_name, processed_image)  # 이미지 분류용 메서드\n",
    "    \n",
    "    fig, ax = plt.subplots(figsize=(8, 8))\n",
    "    ax.axis('off')\n",
    "    \n",
    "    draw = ImageDraw.Draw(input_img)\n",
    "    lineWidth = int(w / 100)\n",
    "    color = 'magenta'\n",
    "    \n",
    "    detected_objects = []\n",
    "    \n",
    "    for prediction in results.predictions:\n",
    "        if (prediction.probability * 100) > 60:\n",
    "            detected_objects.append(prediction.tag_name)\n",
    "            draw.text((10, 10 + len(detected_objects) * 20), f\"{prediction.tag_name}: {prediction.probability * 100:.2f}%\", fill=color)\n",
    "\n",
    "        # bounding_box의 경우 classify_image(분류) 메서드를 사용하는 게 아닌, detect_image(객체 탐지) 메서드를 사용 중인 경우에 가능하다.\n",
    "        # 현재 진행 중인 프로젝트의 경우 classify_image 메서드를 사용하여 분류 작업을 하는 중이기에, 사용이 불가능하다.\n",
    "        # 만약 detect_image 메서드를 새롭게 만든 후 여러가지 이미지를 다시 학습 시키면 되겠지만.. 너무 노가다인데..?\n",
    "    \n",
    "    ax.imshow(input_img)\n",
    "    \n",
    "    # 예측 결과 텍스트 생성\n",
    "    if detected_objects:\n",
    "        predictions_text = \"\\n\".join(data[\"Inputs\"][\"input1\"][0].get(obj, \"무슨 쓰레기인지 잘 모르겠어. 주위를 정리하고 사진을 다시 찍어줄래?\") for obj in detected_objects)\n",
    "    else:\n",
    "        predictions_text = \"무슨 쓰레기인지 잘 모르겠어. 주위를 정리하고 사진을 다시 찍어줄래?\"\n",
    "    \n",
    "    return fig, predictions_text\n",
    "\n",
    "result_output = gr.Textbox(label=\"Result\")\n",
    "\n",
    "demo = gr.Interface(\n",
    "    fn=predict_image, \n",
    "    inputs=gr.Image(type='pil'), \n",
    "    outputs=[gr.Plot(), result_output]\n",
    ")\n",
    "demo.launch(share=True)\n"
   ]
  }
 ],
 "metadata": {
  "kernelspec": {
   "display_name": "Python 3",
   "language": "python",
   "name": "python3"
  },
  "language_info": {
   "codemirror_mode": {
    "name": "ipython",
    "version": 3
   },
   "file_extension": ".py",
   "mimetype": "text/x-python",
   "name": "python",
   "nbconvert_exporter": "python",
   "pygments_lexer": "ipython3",
   "version": "3.12.4"
  }
 },
 "nbformat": 4,
 "nbformat_minor": 2
}
