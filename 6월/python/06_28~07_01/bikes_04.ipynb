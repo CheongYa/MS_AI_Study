{
 "cells": [
  {
   "cell_type": "code",
   "execution_count": null,
   "metadata": {},
   "outputs": [],
   "source": [
    "import bikes_data\n",
    "\n",
    "bikes = bikes_data.data_preprocessing()\n",
    "bikes.head(3)"
   ]
  },
  {
   "cell_type": "markdown",
   "metadata": {},
   "source": [
    "### 인기 있는 대여소 분석\n",
    "* 주말에 인기 있는 대여소 Top 50\n",
    "* 평일에 인기 있는 대여소 Top 50"
   ]
  },
  {
   "cell_type": "code",
   "execution_count": null,
   "metadata": {},
   "outputs": [],
   "source": [
    "rent_bike = bikes.pivot_table(index=['대여 대여소명', '대여점 위도', '대여점 경도'],\n",
    "                              columns=['주말구분'],\n",
    "                              values='자전거번호',\n",
    "                              aggfunc='count')\n",
    "\n",
    "rent_bike.head(3)"
   ]
  },
  {
   "cell_type": "code",
   "execution_count": null,
   "metadata": {},
   "outputs": [],
   "source": [
    "# 50개 정렬하는 방법 1\n",
    "rent_bike.sort_values('주말', ascending=False)[['주말']].head(3).reset_index()"
   ]
  },
  {
   "cell_type": "code",
   "execution_count": null,
   "metadata": {},
   "outputs": [],
   "source": [
    "# 50개 정렬하는 방법 2\n",
    "weekend_rentshop50 = rent_bike.nlargest(50, '주말')[['주말']].reset_index()\n",
    "weekend_rentshop50.head(3)"
   ]
  },
  {
   "cell_type": "code",
   "execution_count": null,
   "metadata": {},
   "outputs": [],
   "source": [
    "import folium\n",
    "\n",
    "# 지도의 중심 위치를 정한다.\n",
    "lat = bikes['대여점 위도'].mean()\n",
    "lon = bikes['대여점 경도'].mean()\n",
    "center = [lat, lon]\n",
    "map1 = folium.Map(location = center, zoom_start=11)\n",
    "\n",
    "for i in weekend_rentshop50.index:\n",
    "    sub_lat = weekend_rentshop50.loc[i, '대여점 위도']\n",
    "    sub_lon = weekend_rentshop50.loc[i, '대여점 경도']\n",
    "    name = weekend_rentshop50.loc[i, '대여 대여소명']\n",
    "\n",
    "    folium.Marker(\n",
    "        location=[sub_lat, sub_lon],\n",
    "        popup=name\n",
    "    ).add_to(map1)\n",
    "\n",
    "map1"
   ]
  },
  {
   "cell_type": "code",
   "execution_count": null,
   "metadata": {},
   "outputs": [],
   "source": [
    "day_rentshop50 = rent_bike.nlargest(50, '평일')[['평일']].reset_index()\n",
    "day_rentshop50.head(3)"
   ]
  },
  {
   "cell_type": "code",
   "execution_count": null,
   "metadata": {},
   "outputs": [],
   "source": [
    "for i, row in weekend_rentshop50.iterrows():\n",
    "    sub_lat = row[1]\n",
    "    sub_lon = row[2]\n",
    "    name = row[0]\n",
    "\n",
    "    folium.Marker(\n",
    "        location=[sub_lat, sub_lon],\n",
    "        popup=name,\n",
    "        icon=folium.Icon(color='blue', icon='bicycle', prefix='fa')\n",
    "    ).add_to(map1)\n",
    "\n",
    "map1"
   ]
  }
 ],
 "metadata": {
  "kernelspec": {
   "display_name": "Python 3",
   "language": "python",
   "name": "python3"
  },
  "language_info": {
   "codemirror_mode": {
    "name": "ipython",
    "version": 3
   },
   "file_extension": ".py",
   "mimetype": "text/x-python",
   "name": "python",
   "nbconvert_exporter": "python",
   "pygments_lexer": "ipython3",
   "version": "3.12.4"
  }
 },
 "nbformat": 4,
 "nbformat_minor": 2
}
