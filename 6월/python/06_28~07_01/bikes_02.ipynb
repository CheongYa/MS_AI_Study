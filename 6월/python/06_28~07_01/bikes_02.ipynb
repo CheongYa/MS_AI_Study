{
 "cells": [
  {
   "cell_type": "code",
   "execution_count": null,
   "metadata": {},
   "outputs": [],
   "source": [
    "import bikes_data\n",
    "\n",
    "bikes = bikes_data.data_preprocessing()\n",
    "\n",
    "bikes.head(3)"
   ]
  },
  {
   "cell_type": "markdown",
   "metadata": {},
   "source": [
    "### 1. 대여구별 이용건수"
   ]
  },
  {
   "cell_type": "code",
   "execution_count": 34,
   "metadata": {},
   "outputs": [
    {
     "data": {
      "text/html": [
       "<div>\n",
       "<style scoped>\n",
       "    .dataframe tbody tr th:only-of-type {\n",
       "        vertical-align: middle;\n",
       "    }\n",
       "\n",
       "    .dataframe tbody tr th {\n",
       "        vertical-align: top;\n",
       "    }\n",
       "\n",
       "    .dataframe thead th {\n",
       "        text-align: right;\n",
       "    }\n",
       "</style>\n",
       "<table border=\"1\" class=\"dataframe\">\n",
       "  <thead>\n",
       "    <tr style=\"text-align: right;\">\n",
       "      <th></th>\n",
       "      <th>대여구</th>\n",
       "      <th>자전거번호</th>\n",
       "    </tr>\n",
       "  </thead>\n",
       "  <tbody>\n",
       "    <tr>\n",
       "      <th>0</th>\n",
       "      <td>금천구</td>\n",
       "      <td>33650</td>\n",
       "    </tr>\n",
       "    <tr>\n",
       "      <th>1</th>\n",
       "      <td>도봉구</td>\n",
       "      <td>37810</td>\n",
       "    </tr>\n",
       "    <tr>\n",
       "      <th>2</th>\n",
       "      <td>중구</td>\n",
       "      <td>38733</td>\n",
       "    </tr>\n",
       "    <tr>\n",
       "      <th>3</th>\n",
       "      <td>강북구</td>\n",
       "      <td>38901</td>\n",
       "    </tr>\n",
       "    <tr>\n",
       "      <th>4</th>\n",
       "      <td>용산구</td>\n",
       "      <td>47993</td>\n",
       "    </tr>\n",
       "    <tr>\n",
       "      <th>5</th>\n",
       "      <td>중랑구</td>\n",
       "      <td>53107</td>\n",
       "    </tr>\n",
       "    <tr>\n",
       "      <th>6</th>\n",
       "      <td>동작구</td>\n",
       "      <td>54393</td>\n",
       "    </tr>\n",
       "    <tr>\n",
       "      <th>7</th>\n",
       "      <td>은평구</td>\n",
       "      <td>58874</td>\n",
       "    </tr>\n",
       "    <tr>\n",
       "      <th>8</th>\n",
       "      <td>서대문구</td>\n",
       "      <td>60415</td>\n",
       "    </tr>\n",
       "    <tr>\n",
       "      <th>9</th>\n",
       "      <td>양천구</td>\n",
       "      <td>64912</td>\n",
       "    </tr>\n",
       "  </tbody>\n",
       "</table>\n",
       "</div>"
      ],
      "text/plain": [
       "    대여구  자전거번호\n",
       "0   금천구  33650\n",
       "1   도봉구  37810\n",
       "2    중구  38733\n",
       "3   강북구  38901\n",
       "4   용산구  47993\n",
       "5   중랑구  53107\n",
       "6   동작구  54393\n",
       "7   은평구  58874\n",
       "8  서대문구  60415\n",
       "9   양천구  64912"
      ]
     },
     "execution_count": 34,
     "metadata": {},
     "output_type": "execute_result"
    }
   ],
   "source": [
    "# 자전거번호 기준으로 정리\n",
    "구별이용건수 = bikes.pivot_table(index='대여구', values='자전거번호', aggfunc='count').sort_values(by='자전거번호', ascending=True).reset_index()\n",
    "구별이용건수.head(10)"
   ]
  },
  {
   "cell_type": "code",
   "execution_count": null,
   "metadata": {},
   "outputs": [],
   "source": [
    "구별이용건수.plot(kind='barh', title='대여구별 이용건수', figsize=(12, 6), color='b')"
   ]
  },
  {
   "cell_type": "code",
   "execution_count": null,
   "metadata": {},
   "outputs": [],
   "source": [
    "import json\n",
    "import folium\n",
    "\n",
    "# 구별 위도 경도 json 파일 불러오기\n",
    "with open(\"data/Seoul_Gu.json\", 'r') as f:\n",
    "    seoul_data = json.load(f)"
   ]
  },
  {
   "cell_type": "code",
   "execution_count": null,
   "metadata": {},
   "outputs": [],
   "source": [
    "seoul_data['features'][0]['properties']"
   ]
  },
  {
   "cell_type": "code",
   "execution_count": null,
   "metadata": {},
   "outputs": [],
   "source": [
    "# 지도의 중심위치 지정\n",
    "map1 = folium.Map(location=[bikes['대여점 위도'].mean(), bikes['대여점 경도'].mean()], zoom_start=11)"
   ]
  },
  {
   "cell_type": "code",
   "execution_count": null,
   "metadata": {},
   "outputs": [],
   "source": [
    "folium.Choropleth(\n",
    "    geo_data=seoul_data, # 지도 데이터 파일 경로\n",
    "    data=구별이용건수, # 시간화 하고자 하는 데이터 파일\n",
    "    columns=['대여구', '자전거번호'], # [지도 데이터와 매핑할 값, 시각화 하고자 하는 변수]\n",
    "    fill_color='YlGnBu', # 시각화 색상\n",
    "    key_on='feature.properties.SIG_KOR_NM').add_to(map1) # feature.데이터 파일과 매핑할 값\n",
    "\n",
    "map1"
   ]
  },
  {
   "cell_type": "markdown",
   "metadata": {},
   "source": [
    "### 2.대여구별 이용시간 평균"
   ]
  },
  {
   "cell_type": "code",
   "execution_count": null,
   "metadata": {},
   "outputs": [],
   "source": [
    "구별이용시간평균 = bikes.pivot_table(index='대여구', values='이용시간', aggfunc='mean').sort_values(by='이용시간', ascending=True).reset_index()\n",
    "구별이용시간평균.head(10)"
   ]
  },
  {
   "cell_type": "code",
   "execution_count": null,
   "metadata": {},
   "outputs": [],
   "source": [
    "구별이용시간평균.plot(kind='barh', title='대여구별 이용시간 평균', figsize=(12, 6), color='r')"
   ]
  },
  {
   "cell_type": "code",
   "execution_count": null,
   "metadata": {},
   "outputs": [],
   "source": [
    "folium.Choropleth(\n",
    "    geo_data=seoul_data, # 지도 데이터 파일 경로\n",
    "    data=구별이용시간평균, # 시간화 하고자 하는 데이터 파일\n",
    "    columns=['대여구', '이용시간'], # [지도 데이터와 매핑할 값, 시각화 하고자 하는 변수]\n",
    "    fill_color='YlGnBu', # 시각화 색상\n",
    "    key_on='feature.properties.SIG_KOR_NM').add_to(map1) # feature.데이터 파일과 매핑할 값\n",
    "\n",
    "map1"
   ]
  },
  {
   "cell_type": "code",
   "execution_count": null,
   "metadata": {},
   "outputs": [],
   "source": []
  }
 ],
 "metadata": {
  "kernelspec": {
   "display_name": "Python 3",
   "language": "python",
   "name": "python3"
  },
  "language_info": {
   "codemirror_mode": {
    "name": "ipython",
    "version": 3
   },
   "file_extension": ".py",
   "mimetype": "text/x-python",
   "name": "python",
   "nbconvert_exporter": "python",
   "pygments_lexer": "ipython3",
   "version": "3.12.4"
  }
 },
 "nbformat": 4,
 "nbformat_minor": 2
}
