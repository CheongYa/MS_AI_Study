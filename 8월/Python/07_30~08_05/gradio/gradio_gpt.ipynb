{
 "cells": [
  {
   "cell_type": "code",
   "execution_count": 1,
   "metadata": {},
   "outputs": [
    {
     "name": "stderr",
     "output_type": "stream",
     "text": [
      "c:\\Users\\chch4\\AppData\\Local\\Programs\\Python\\Python312\\Lib\\site-packages\\tqdm\\auto.py:21: TqdmWarning: IProgress not found. Please update jupyter and ipywidgets. See https://ipywidgets.readthedocs.io/en/stable/user_install.html\n",
      "  from .autonotebook import tqdm as notebook_tqdm\n"
     ]
    },
    {
     "name": "stdout",
     "output_type": "stream",
     "text": [
      "Running on local URL:  http://127.0.0.1:7885\n",
      "\n",
      "Could not create share link. Please check your internet connection or our status page: https://status.gradio.app.\n"
     ]
    },
    {
     "data": {
      "text/html": [
       "<div><iframe src=\"http://127.0.0.1:7885/\" width=\"100%\" height=\"500\" allow=\"autoplay; camera; microphone; clipboard-read; clipboard-write;\" frameborder=\"0\" allowfullscreen></iframe></div>"
      ],
      "text/plain": [
       "<IPython.core.display.HTML object>"
      ]
     },
     "metadata": {},
     "output_type": "display_data"
    },
    {
     "data": {
      "text/plain": []
     },
     "execution_count": 1,
     "metadata": {},
     "output_type": "execute_result"
    },
    {
     "name": "stdout",
     "output_type": "stream",
     "text": [
      "안녕 []\n",
      "나는 가산디지털단지역 주변의 쉴 수 있는 곳에 대한 정보를 원해. [['안녕', '안녕하세요! 서울 구로구의 쉼터에 대해 궁금한 점이 있으시면 언제든지 말씀해 주세요. 도움이 필요하시면 장소를 알려주시면, 그 근처에 있는 쉼터 정보를 제공해 드릴 수 있습니다.']]\n"
     ]
    }
   ],
   "source": [
    "import gradio as gr\n",
    "import requests\n",
    "\n",
    "# Azure OpenAI 설정\n",
    "AZURE_OPENAI_ENDPOINT = 'https://1507-ai.openai.azure.com/'\n",
    "AZURE_OPENAI_API_KEY = '22646ec32d23457ca3ed253eefc5342f'\n",
    "DEPLOYMENT_NAME = '1507-gpt4o'\n",
    "\n",
    "# Azure OpenAI API 호출 함수  \n",
    "def chatgpt_response(prompt, history):  \n",
    "    print(prompt, history)\n",
    "    headers = {  \n",
    "        'Content-Type': 'application/json',  \n",
    "        'api-key': AZURE_OPENAI_API_KEY  \n",
    "    }  \n",
    "    \n",
    "    # Payload for the request\n",
    " \n",
    "    messages = []\n",
    " \n",
    "    #System\n",
    "    messages.append(\n",
    "        \n",
    "        {\n",
    "        \"role\": \"system\",\n",
    "        \"content\": [\n",
    "            {\n",
    "            \"type\": \"text\",\n",
    "            \"text\": \"너는 서울 구로구의 쉼터에 대한 전문가야. 유저가 작성한 장소에서 어느 곳이 가까운지, 또 쉼터에 대한 정보를 알려줘\"\n",
    "            }\n",
    "        ]\n",
    "        },\n",
    "    )\n",
    " \n",
    "    #assistant\n",
    "    if len(history) > 0:\n",
    "        for text in history[0]:\n",
    "            messages.append({\n",
    "                \"role\": \"assistant\",\n",
    "                \"content\": [\n",
    "                {\n",
    "                \"type\": \"text\",\n",
    "                \"text\": text\n",
    "                }\n",
    "            ]\n",
    "            })\n",
    " \n",
    "    #user\n",
    "    messages.append({\n",
    "            \"role\": \"user\",\n",
    "            \"content\": [\n",
    "            {\n",
    "            \"type\": \"text\",\n",
    "            \"text\": prompt\n",
    "            }\n",
    "        ]\n",
    "    })\n",
    " \n",
    "    payload = {\n",
    "    \"messages\": messages,\n",
    "    \"temperature\": 0.7,\n",
    "    \"top_p\": 0.95,\n",
    "    \"max_tokens\": 4096\n",
    "    }\n",
    "  \n",
    "    response = requests.post(  \n",
    "        f\"{AZURE_OPENAI_ENDPOINT}/openai/deployments/{DEPLOYMENT_NAME}/chat/completions?api-version=2024-02-15-preview\",  \n",
    "        headers=headers,  \n",
    "        json=payload  \n",
    "    )  \n",
    "    \n",
    "    result = response.json()  \n",
    "    bot_response = result['choices'][0]['message']['content'].strip()\n",
    "    history.append((prompt, bot_response))  \n",
    "    return '', history\n",
    "\n",
    "def greet(name):\n",
    "    name_len = len(name)\n",
    "    return f\"Hello {name}! / {name_len}자\"\n",
    "\n",
    "with gr.Blocks() as demo:\n",
    "    gr.Markdown(\"<h1 align='center'>ChatGPT RestSpace Demo</h1>\")\n",
    "    chatbot = gr.Chatbot()\n",
    "    with gr.Column():\n",
    "        with gr.Row():\n",
    "            user_input = gr.Textbox(show_label=False, placeholder=\"Type your message here...\", scale=3)\n",
    "            submit_btn = gr.Button(\"Send\", scale=1)\n",
    "            # 비율 조정 3:1 비율\n",
    "        with gr.Row():\n",
    "            clear_btn = gr.Button(\"Clear\")\n",
    "\n",
    "    # 버튼 클릭 시 이벤트 처리\n",
    "    submit_btn.click(chatgpt_response, [user_input, chatbot], [user_input, chatbot])\n",
    "    clear_btn.click(lambda: None, None, chatbot, queue=False)\n",
    "    # 엔터 처리\n",
    "    user_input.submit(chatgpt_response, [user_input,chatbot], [user_input,chatbot])\n",
    "\n",
    "# 인터페이스 실행\n",
    "demo.launch(share=True)"
   ]
  },
  {
   "cell_type": "code",
   "execution_count": null,
   "metadata": {},
   "outputs": [],
   "source": []
  }
 ],
 "metadata": {
  "kernelspec": {
   "display_name": "Python 3",
   "language": "python",
   "name": "python3"
  },
  "language_info": {
   "codemirror_mode": {
    "name": "ipython",
    "version": 3
   },
   "file_extension": ".py",
   "mimetype": "text/x-python",
   "name": "python",
   "nbconvert_exporter": "python",
   "pygments_lexer": "ipython3",
   "version": "3.12.4"
  }
 },
 "nbformat": 4,
 "nbformat_minor": 2
}
