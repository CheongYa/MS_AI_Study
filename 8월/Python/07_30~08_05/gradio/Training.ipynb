{
 "cells": [
  {
   "cell_type": "code",
   "execution_count": 81,
   "metadata": {},
   "outputs": [
    {
     "name": "stdout",
     "output_type": "stream",
     "text": [
      "Running on local URL:  http://127.0.0.1:7946\n",
      "\n",
      "Could not create share link. Please check your internet connection or our status page: https://status.gradio.app.\n"
     ]
    },
    {
     "data": {
      "text/html": [
       "<div><iframe src=\"http://127.0.0.1:7946/\" width=\"100%\" height=\"500\" allow=\"autoplay; camera; microphone; clipboard-read; clipboard-write;\" frameborder=\"0\" allowfullscreen></iframe></div>"
      ],
      "text/plain": [
       "<IPython.core.display.HTML object>"
      ]
     },
     "metadata": {},
     "output_type": "display_data"
    },
    {
     "data": {
      "text/plain": []
     },
     "execution_count": 81,
     "metadata": {},
     "output_type": "execute_result"
    }
   ],
   "source": [
    "import gradio as gr\n",
    "import requests\n",
    "\n",
    "# Azure OpenAI 설정\n",
    "AZURE_OPENAI_ENDPOINT = 'https://1507-ai.openai.azure.com/'\n",
    "AZURE_OPENAI_API_KEY = '22646ec32d23457ca3ed253eefc5342f'\n",
    "DEPLOYMENT_NAME = '1507-gpt4o'\n",
    "\n",
    "# 지역 목록\n",
    "regions = [\n",
    "    \"원하는 지역을 선택해주세요.\",\n",
    "    \"서울\", \"부산\", \"인천\", \"대구\", \"대전\", \"광주\", \"울산\", \"세종\",\n",
    "    \"경기\", \"충북\", \"충남\", \"전남\", \"전북\", \"경북\", \"경남\", \"강원\", \"제주\"\n",
    "]\n",
    "\n",
    "# 지역별 이미지 URL 맵핑\n",
    "region_images = {\n",
    "    \"서울\": \"https://blog.kakaocdn.net/dn/sQ19E/btqwvLFwzLq/E4h6Km5fbU479eiEJ3AVn0/img.jpg\",\n",
    "    \"부산\": \"https://biz.chosun.com/resizer/rI3f1mbX9aVT3qCq5Ouc5H60j7g=/616x0/smart/cloudfront-ap-northeast-1.images.arcpublishing.com/chosunbiz/STFOCUYQQFHLHOOTRPSNIMCJWA.png\",\n",
    "    \"인천\": \"https://encrypted-tbn0.gstatic.com/images?q=tbn:ANd9GcTuIgKcIFU8HJ5y0aChkY4fFDoaVvLgvCHWvQ&s\",\n",
    "    \"대구\": \"https://www.buk.daegu.kr/cmsh/buk.daegu.kr/images/introduction/mark.jpg\",\n",
    "    \"대전\": \"https://pimg.mk.co.kr/meet/neds/2022/08/image_readtop_2022_739002_16611084625143117.jpg\",\n",
    "    \"광주\": \"https://encrypted-tbn0.gstatic.com/images?q=tbn:ANd9GcTGEaZgAZK7-EyCoeVecnY62qOmAW1WLHkFvA&s\",\n",
    "    \"울산\": \"https://i.namu.wiki/i/t0Y4yIdyR1XRvidCKQgwKdirJoMHUy7Eobst3LZFq7_IazAI8rgxqrX3ANkZeKCsVcpz2teRbSL8AIJDAUWU-A.svg\",\n",
    "    \"세종\": \"https://i.namu.wiki/i/bY8VhFcZR9v2rHasHzaiqe9cBhLembRbL2jUE8wLJ_mGmsGYWJPdrjZ_9zZRp7iOP9lkh8pH2E59_V1qgULz-Q.svg\",\n",
    "    \"경기\": \"https://encrypted-tbn0.gstatic.com/images?q=tbn:ANd9GcQ2W52tgxbrS6gsvYPX0j0kj0eswn_W1NPOgA&s\",\n",
    "    \"충북\": \"https://i.namu.wiki/i/wzg69LiSxv7cvzpwvUtQsLfXQw7kuypTkQrTYF8SXs--s9ms-AuYov8Ygs42Owz-vzxQ3ZbGewUosH60KRz4ig.webp\",\n",
    "    \"충남\": \"https://i.namu.wiki/i/6XRo5QjySVA44vwpSHTXuX3pmktcD2iVyXr7qY9tUCVLrFvygZrEE1azM2KE5Xx7PE8LCtnJvFtS4U2LMILiVA.svg\",\n",
    "    \"전남\": \"https://i.namu.wiki/i/UobFnXCPHhNqhhjjtkSkSiSy-ykC71kOwMMVr6X0zhEEOOrVLmWUKZFbfxR1qj3HNP1bUsv_4vYC6IMD7Bi9Cg.svg\",\n",
    "    \"전북\": \"https://i.namu.wiki/i/lDxAer6TneqL9KBome6tnOYqspnC_BxehDornzGfDt6_zJd967mOulVThcivihY5MxfZeHn2OGFluolNpB3fUw.svg\",\n",
    "    \"경북\": \"https://i.namu.wiki/i/qXW_JKmivagUNdTCoN3XTonSVHHNBHHE8J5W2i-D5fbBQiZvdqavC6z1ePPW6lYgfGLUPZy7yW6Mx-JPDyNTZA.webp\",\n",
    "    \"경남\": \"https://i.namu.wiki/i/-N8i4lAMMHqSJOYtiRN_S10unCPn9Bzc9mAMToo85eBSlaIKJ4Ybb2e8cY8jhoEPC_Ln9NMv71cEhsdARSNIbQ.webp\",\n",
    "    \"강원\": \"https://state.gwd.go.kr/page/gwprovin/images/main/logo_b.png?ver=20231204\",\n",
    "    \"제주\": \"https://image.utoimage.com/preview/cp872655/2018/11/201811011845_500.jpg\",\n",
    "    \"원하는 지역을 선택해주세요.\": \"https://cdn.inflearn.com/public/files/blogs/35722e4a-e052-49cb-a621-2a9b63c7666c/%EA%B3%A0%EC%96%91%EC%9D%B4.png\",\n",
    "}\n",
    "\n",
    "# Azure OpenAI API 호출 함수  \n",
    "def chatgpt_response(prompt, region, history):\n",
    "    # 지역이 \"원하는 지역을 선택해주세요.\"일 경우 경고 메시지 출력\n",
    "    if region == \"원하는 지역을 선택해주세요.\":\n",
    "        bot_response = \"원하는 지역을 선택 후 재실행 해주세요.\"\n",
    "        history.append((prompt, bot_response))\n",
    "        image_url = region_images.get(region)\n",
    "        return '', history, image_url\n",
    "\n",
    "    headers = {  \n",
    "        'Content-Type': 'application/json',  \n",
    "        'api-key': AZURE_OPENAI_API_KEY  \n",
    "    }  \n",
    "    \n",
    "    messages = []\n",
    "\n",
    "    # System\n",
    "    system_message = f\"너는 {region}의 관광지에 대한 전문가야. 유저가 작성한 장소에서 어느 곳이 가까운지, 또 {region}에 있는 관광지에 대한 정보를 알려줘\"\n",
    "    messages.append({\"role\": \"system\", \"content\": system_message})\n",
    "\n",
    "    # assistant\n",
    "    if len(history) > 0:\n",
    "        for user_msg, assistant_msg in history:\n",
    "            messages.append({\"role\": \"user\", \"content\": user_msg})\n",
    "            messages.append({\"role\": \"assistant\", \"content\": assistant_msg})\n",
    "\n",
    "    # user\n",
    "    messages.append({\"role\": \"user\", \"content\": prompt})\n",
    "\n",
    "    payload = {\n",
    "        \"messages\": messages,\n",
    "        \"temperature\": 0.7,\n",
    "        \"top_p\": 0.95,\n",
    "        \"max_tokens\": 4096\n",
    "    }\n",
    "\n",
    "    response = requests.post(  \n",
    "        f\"{AZURE_OPENAI_ENDPOINT}/openai/deployments/{DEPLOYMENT_NAME}/chat/completions?api-version=2024-02-15-preview\",  \n",
    "        headers=headers,  \n",
    "        json=payload  \n",
    "    )  \n",
    "    \n",
    "    result = response.json()  \n",
    "    bot_response = result['choices'][0]['message']['content'].strip()\n",
    "    history.append((prompt, bot_response))  \n",
    "    \n",
    "    # 선택된 지역에 따른 이미지 URL\n",
    "    image_url = region_images.get(region)\n",
    "    \n",
    "    return '', history, image_url\n",
    "\n",
    "# Gradio 인터페이스\n",
    "with gr.Blocks(css=\".title {text-align: center; color: #f5f0f0; font-family: 'Arial';} .footer {text-align: right; color: #7f8c8d; font-family: 'Arial';}\") as demo:\n",
    "    gr.Markdown(\"<h1 class='title'>ChatGPT RestSpace Demo</h1>\")\n",
    "    \n",
    "    with gr.Column():\n",
    "        region_dropdown = gr.Dropdown(choices=regions, label=\"지역 선택\", value=\"원하는 지역을 선택해주세요.\")\n",
    "        with gr.Row():\n",
    "            user_input = gr.Textbox(show_label=False, placeholder=\"Type your message here...\", scale=8)\n",
    "            submit_btn = gr.Button(\"Send\", variant=\"primary\", scale=2)\n",
    "            clear_btn = gr.Button(\"Clear\", variant=\"secondary\")\n",
    "    chatbot = gr.Chatbot()\n",
    "    image_output = gr.Image(width=1024, height=1024)\n",
    "\n",
    "    gr.Markdown(\"<h3 class='footer'>제작자: CheongYa</h3>\")\n",
    "    gr.Markdown(\"<h3 class='footer'>최종 수정일: 2024-08-02</h3>\")\n",
    "\n",
    "    # 버튼 클릭 시 이벤트 처리\n",
    "    submit_btn.click(chatgpt_response, [user_input, region_dropdown, chatbot], [user_input, chatbot, image_output])\n",
    "    clear_btn.click(lambda: [None, None], None, [chatbot, image_output], queue=False)\n",
    "    # clear_btn.click(lambda: None, None, image_output, queue=False)\n",
    "    user_input.submit(chatgpt_response, [user_input, region_dropdown, chatbot], [user_input, chatbot, image_output])\n",
    "\n",
    "# 인터페이스 실행\n",
    "demo.launch(share=True)\n"
   ]
  }
 ],
 "metadata": {
  "kernelspec": {
   "display_name": "Python 3",
   "language": "python",
   "name": "python3"
  },
  "language_info": {
   "codemirror_mode": {
    "name": "ipython",
    "version": 3
   },
   "file_extension": ".py",
   "mimetype": "text/x-python",
   "name": "python",
   "nbconvert_exporter": "python",
   "pygments_lexer": "ipython3",
   "version": "3.12.4"
  }
 },
 "nbformat": 4,
 "nbformat_minor": 2
}
