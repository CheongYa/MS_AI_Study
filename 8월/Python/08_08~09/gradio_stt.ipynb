{
 "cells": [
  {
   "cell_type": "code",
   "execution_count": 14,
   "metadata": {},
   "outputs": [
    {
     "name": "stdout",
     "output_type": "stream",
     "text": [
      "Running on local URL:  http://127.0.0.1:7873\n",
      "\n",
      "Could not create share link. Please check your internet connection or our status page: https://status.gradio.app.\n"
     ]
    },
    {
     "data": {
      "text/html": [
       "<div><iframe src=\"http://127.0.0.1:7873/\" width=\"100%\" height=\"500\" allow=\"autoplay; camera; microphone; clipboard-read; clipboard-write;\" frameborder=\"0\" allowfullscreen></iframe></div>"
      ],
      "text/plain": [
       "<IPython.core.display.HTML object>"
      ]
     },
     "metadata": {},
     "output_type": "display_data"
    },
    {
     "data": {
      "text/plain": []
     },
     "execution_count": 14,
     "metadata": {},
     "output_type": "execute_result"
    },
    {
     "name": "stdout",
     "output_type": "stream",
     "text": [
      "C:\\Users\\chch4\\AppData\\Local\\Temp\\gradio\\a9923b6156b373b82fae60087a83aeb552daf49c\\audio.wav\n"
     ]
    }
   ],
   "source": [
    "import gradio as gr\n",
    "import requests\n",
    "\n",
    "def request_stt(audio_path):\n",
    "    # Azure OpenAI 설정\n",
    "    endpoint = \"https://eastus.stt.speech.microsoft.com/speech/recognition/conversation/cognitiveservices/v1?language=ko-KR&format=detailed\" #ko-KR 부분을 다른 것(en-US)으로 변경하면 언어 변경\n",
    "    api_key = \"5fb3d580ca744ae7a95b9fbe10307ec3\"\n",
    "    \n",
    "    with open(audio_path, \"rb\") as audio:\n",
    "        audio_data = audio.read()\n",
    "\n",
    "    response = requests.post(endpoint,\n",
    "                             headers={\n",
    "                                 'Content-Type': \"audio/wav\",\n",
    "                                 \"Ocp-Apim-Subscription-Key\": api_key\n",
    "                             },\n",
    "                             data=audio_data)\n",
    "    \n",
    "    if response.status_code == 200:\n",
    "        response_json = response.json()\n",
    "        status = response_json.get('RecognitionStatus')\n",
    "        if status == 'Success':\n",
    "            return response_json[\"DisplayText\"]\n",
    "        else:\n",
    "            return ''\n",
    "    else:\n",
    "        return ''\n",
    "    \n",
    "\n",
    "def change_audio(audio_path):\n",
    "    # request STT\n",
    "    if audio_path:\n",
    "        text = request_stt(audio_path=audio_path)\n",
    "        return text\n",
    "    else:\n",
    "        return ''\n",
    "\n",
    "with gr.Blocks() as demo:\n",
    "    with gr.Column():\n",
    "        gr.Markdown('<h3>STT</h3>')\n",
    "        input_mic = gr.Audio(label=\"마이크 입력\", sources=\"microphone\", type=\"filepath\")\n",
    "        output_textbox = gr.Textbox(label=\"출력 텍스트\", placeholder=\"변환된 텍스트\", interactive=False)\n",
    "        input_mic.change(fn=change_audio, inputs=[input_mic], outputs=[output_textbox])\n",
    "\n",
    "demo.launch(share=True)"
   ]
  }
 ],
 "metadata": {
  "kernelspec": {
   "display_name": "Python 3",
   "language": "python",
   "name": "python3"
  },
  "language_info": {
   "codemirror_mode": {
    "name": "ipython",
    "version": 3
   },
   "file_extension": ".py",
   "mimetype": "text/x-python",
   "name": "python",
   "nbconvert_exporter": "python",
   "pygments_lexer": "ipython3",
   "version": "3.12.4"
  }
 },
 "nbformat": 4,
 "nbformat_minor": 2
}
