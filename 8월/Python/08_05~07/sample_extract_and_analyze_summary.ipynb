{
 "cells": [
  {
   "cell_type": "code",
   "execution_count": 5,
   "metadata": {},
   "outputs": [
    {
     "name": "stdout",
     "output_type": "stream",
     "text": [
      "Summary extracted: \n",
      "트럼프 전 대통령 측은 미국 경기 침체의 책임이 민주당에 있다고 주장하는 등 해리스 돌풍을 잠재우기 위해 책임론을 꺼내 들었다5일(현지시간) 월스트리트저널(WSJ)에 따르면 트럼프 전 대통령은 이날 자신의 사회관계망서비스(SNS)인 트루스 소셜에 경기 비관론성 글을 최소 10차례 게시했다. 트럼프 전 대통령은 “주식시장이 폭락하고 있고 고용 숫자는 끔찍하며 우리는 3차 세계대전을 향해 가고 있다”며 “우리는 역사상 가장 무능한 지도자 두 명(조 바이든 대통령과 해리스 부통령)을 갖고 있다”고 비판했다. 트럼프가 바이든을 이길 것이란 전망이 주식시장에 반영되면서 시장이 역대 최고 성적을 나타냈다는 것이다트럼프 측은 해리스 부통령 지지율 급상승에 제동을 걸기 위해 해리스 측의 약점으로 지목되는 경제 문제를 강조하고 있다.\n",
      "\n",
      "\n",
      "Summaries abstracted:\n",
      "The economic crisis in Japan, which is causing tension in the country, is being blamed on the People's Republic of China and the wave of Rosberg. The country's premier, Mr. Putin, has been posting anti-trade messages on his social media platform, Le Post, multiple times. He has also been criticizing the country's two most incapable leaders, Mr. Cho and Mr. Putin, and has been using the economic issues to undermine Mr. Putin's popularity. Despite the ongoing political disputes, it is generally believed that Mr. Putin is the most knowledgeable about the economy.\n",
      "\n"
     ]
    }
   ],
   "source": [
    "def sample_extractive_summarization():\n",
    "    # [START extract_summary]\n",
    "    import os\n",
    "    from azure.core.credentials import AzureKeyCredential\n",
    "    from azure.ai.textanalytics import TextAnalyticsClient\n",
    "\n",
    "    endpoint = 'https://owner-1507-ailang.cognitiveservices.azure.com/'\n",
    "    key = '38cd2eda0b6b419e8f22896af727c0f6'\n",
    "\n",
    "    text_analytics_client = TextAnalyticsClient(\n",
    "        endpoint=endpoint,\n",
    "        credential=AzureKeyCredential(key),\n",
    "    )\n",
    "\n",
    "    document = [\n",
    "        \"주식 폭락 책임은 민주당…해리스 돌풍에 찬물 끼얹는 경기 침체론\"\n",
    "\n",
    "        \"미국 대통령 선거를 약 3개월 앞두고 글로벌 증시가 폭풍에 휩싸이며 경제 문제가 대선의 주요 변수로 떠올랐다. 경기 침체 공포가 주식 시장은 물론 유권자들의 표심까지 덮칠 수 있어서다. 트럼프 전 대통령 측은 미국 경기 침체의 책임이 민주당에 있다고 주장하는 등 해리스 돌풍을 잠재우기 위해 책임론을 꺼내 들었다\"\n",
    "\n",
    "        \"5일(현지시간) 월스트리트저널(WSJ)에 따르면 트럼프 전 대통령은 이날 자신의 사회관계망서비스(SNS)인 트루스 소셜에 경기 비관론성 글을 최소 10차례 게시했다. 트럼프 전 대통령은 “주식시장이 폭락하고 있고 고용 숫자는 끔찍하며 우리는 3차 세계대전을 향해 가고 있다”며 “우리는 역사상 가장 무능한 지도자 두 명(조 바이든 대통령과 해리스 부통령)을 갖고 있다”고 비판했다. 동시에 올 초 미국 주식시장의 기록적인 상승세는 자신의 공으로 돌렸다. 트럼프가 바이든을 이길 것이란 전망이 주식시장에 반영되면서 시장이 역대 최고 성적을 나타냈다는 것이다\"\n",
    "\n",
    "        \"트럼프 측은 해리스 부통령 지지율 급상승에 제동을 걸기 위해 해리스 측의 약점으로 지목되는 경제 문제를 강조하고 있다. 바이든 대통령이 높은 인플레이션 때문에 공화당의 공격을 받아온 만큼, 증시 급락으로 경제가 어렵다고 인식하는 유권자가 많아지면 해리스 측에 상황이 불리하게 돌아갈 수 있다. 트럼프 캠프는 경제가 어렵다는 뉴스 보도를 엮은 영상을 제작해 선거 운동에 활용 중이다\"\n",
    "        \n",
    "        \"각종 여론조사에서 트럼프 전 대통령과 해리스 부통령은 초접전을 벌이고 있지만 경제 문제에 관해서는 트럼프 대통령이 우위에 있는 것으로 분석된다. 지난달 25일 WSJ이 실시한 여론조사에서 경제를 가장 잘 다룰 수 있는 후보로 응답자의 절반 이상(52%)이 트럼프 전 대통령을 꼽았고 해리스 부통령은 40%에 그쳤다. 정치 매체 더힐은 “트럼프 전 대통령은 그동안 경제를 자신에게 유리한 의제로 여겨왔다”며 “공화당은 이번 증시 급락을 바이든 행정부의 실정 때문에 경제가 나빠졌고 해리스 부통령도 책임이 있다는 메시지를 강화할 기회로 생각한다”고 평가했다\"\n",
    "        \n",
    "        \"해리스 부통령은 자신의 지지율에 악영향을 줄 수 있는 경기 비관론 대신 낙관론을 펼칠 것으로 예상된다. 해리스 부통령은 그동안 유세에서 중산층 강화를 약속하며 긍정적인 경제 전망을 제시했다. 이날 아마르 무사 해리스 캠프 대변인은 “트럼프는 현대 대통령 중 최악의 고용 기록을 갖고 있으며, 재임 기간 역사상 최악의 주식 시장 하락을 겪었다”며 “중산층 가정이 필요한 것은 혼란스러운 거짓말이 아닌 안정적인 경제 정책”이라고 강조했다\"\n",
    "        \n",
    "        \"주식시장과 지지율에는 큰 관련이 없다는 관측도 있다. 더힐에 따르면 공화당 여론조사원인 프랭크 런츠는 엑스(X)에서 “주식시장은 상관이 없다. 주식시장 상승에도 트럼프는 재선에 실패했으며, 시장이 하락하더라도 해리스에게 상처를 입히지 않을 것”이라고 내다봤다\"\n",
    "\n",
    "    ]\n",
    "\n",
    "    poller = text_analytics_client.begin_extract_summary(document)\n",
    "    extract_summary_results = poller.result()\n",
    "    for result in extract_summary_results:\n",
    "        if result.kind == \"ExtractiveSummarization\":\n",
    "            print(\"Summary extracted: \\n{}\".format(\n",
    "                \" \".join([sentence.text for sentence in result.sentences]))\n",
    "            )\n",
    "        elif result.is_error is True:\n",
    "            print(\"...Is an error with code '{}' and message '{}'\".format(\n",
    "                result.error.code, result.error.message\n",
    "            ))\n",
    "\n",
    "    print('\\n')\n",
    "\n",
    "    poller = text_analytics_client.begin_abstract_summary(document)\n",
    "    abstract_summary_results = poller.result()\n",
    "    for result in abstract_summary_results:\n",
    "        if result.kind == \"AbstractiveSummarization\":\n",
    "            print(\"Summaries abstracted:\")\n",
    "            [print(f\"{summary.text}\\n\") for summary in result.summaries]\n",
    "        elif result.is_error is True:\n",
    "            print(\"...Is an error with code '{}' and message '{}'\".format(\n",
    "                result.error.code, result.error.message\n",
    "            ))\n",
    "    # [END extract_summary]\n",
    "\n",
    "\n",
    "if __name__ == \"__main__\":\n",
    "    sample_extractive_summarization()"
   ]
  }
 ],
 "metadata": {
  "kernelspec": {
   "display_name": "Python 3",
   "language": "python",
   "name": "python3"
  },
  "language_info": {
   "codemirror_mode": {
    "name": "ipython",
    "version": 3
   },
   "file_extension": ".py",
   "mimetype": "text/x-python",
   "name": "python",
   "nbconvert_exporter": "python",
   "pygments_lexer": "ipython3",
   "version": "3.12.4"
  }
 },
 "nbformat": 4,
 "nbformat_minor": 2
}
