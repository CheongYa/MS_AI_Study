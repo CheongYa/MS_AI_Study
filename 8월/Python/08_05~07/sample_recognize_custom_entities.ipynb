{
 "cells": [
  {
   "cell_type": "code",
   "execution_count": 7,
   "metadata": {},
   "outputs": [
    {
     "name": "stdout",
     "output_type": "stream",
     "text": [
      "Entity '10/18/2019' has category 'Date' with confidence score of '1.0'\n",
      "Entity 'Casey Jensen' has category 'BorrowerName' with confidence score of '1.0'\n",
      "Entity '2469 Pennsylvania Avenue' has category 'BorrowerAddress' with confidence score of '0.99'\n",
      "Entity 'New Brunswick' has category 'BorrowerCity' with confidence score of '0.95'\n",
      "Entity 'New Jersey' has category 'BorrowerState' with confidence score of '0.81'\n",
      "Entity 'Hollie Rees' has category 'LenderName' with confidence score of '1.0'\n",
      "Entity '42 Gladwell Street' has category 'LenderAddress' with confidence score of '1.0'\n",
      "Entity 'Memphis' has category 'LenderCity' with confidence score of '1.0'\n",
      "Entity 'Tennessee' has category 'LenderState' with confidence score of '1.0'\n",
      "Entity 'one hundred ninety-two thousand nine hundred eighty-nine Dollars' has category 'LoanAmountWords' with confidence score of '1.0'\n",
      "Entity '$192,989.00' has category 'LoanAmountNumbers' with confidence score of '1.0'\n",
      "Entity '5%' has category 'Interest' with confidence score of '1.0'\n"
     ]
    }
   ],
   "source": [
    "def sample_recognize_custom_entities() -> None:\n",
    "    # [START recognize_custom_entities]\n",
    "    import os\n",
    "    from azure.core.credentials import AzureKeyCredential\n",
    "    from azure.ai.textanalytics import TextAnalyticsClient\n",
    "\n",
    "    endpoint = 'https://owner-1507-ailang.cognitiveservices.azure.com/'\n",
    "    key = '38cd2eda0b6b419e8f22896af727c0f6'\n",
    "    project_name = 'customnerdemo'\n",
    "    deployment_name = 'cnerdemodeploy'\n",
    "    path_to_sample_document = './Test_1.txt'\n",
    "    \n",
    "    text_analytics_client = TextAnalyticsClient(\n",
    "        endpoint=endpoint,\n",
    "        credential=AzureKeyCredential(key),\n",
    "    )\n",
    "\n",
    "    with open(path_to_sample_document) as fd:\n",
    "        document = [fd.read()]\n",
    "\n",
    "    poller = text_analytics_client.begin_recognize_custom_entities(\n",
    "        document,\n",
    "        project_name=project_name,\n",
    "        deployment_name=deployment_name\n",
    "    )\n",
    "\n",
    "    document_results = poller.result()\n",
    "    for custom_entities_result in document_results:\n",
    "        if custom_entities_result.kind == \"CustomEntityRecognition\":\n",
    "            for entity in custom_entities_result.entities:\n",
    "                print(\n",
    "                    \"Entity '{}' has category '{}' with confidence score of '{}'\".format(\n",
    "                        entity.text, entity.category, entity.confidence_score\n",
    "                    )\n",
    "                )\n",
    "        elif custom_entities_result.is_error is True:\n",
    "            print(\"...Is an error with code '{}' and message '{}'\".format(\n",
    "                custom_entities_result.error.code, custom_entities_result.error.message\n",
    "                )\n",
    "            )\n",
    "    # [END recognize_custom_entities]\n",
    "\n",
    "\n",
    "if __name__ == \"__main__\":\n",
    "    sample_recognize_custom_entities()"
   ]
  }
 ],
 "metadata": {
  "kernelspec": {
   "display_name": "Python 3",
   "language": "python",
   "name": "python3"
  },
  "language_info": {
   "codemirror_mode": {
    "name": "ipython",
    "version": 3
   },
   "file_extension": ".py",
   "mimetype": "text/x-python",
   "name": "python",
   "nbconvert_exporter": "python",
   "pygments_lexer": "ipython3",
   "version": "3.12.4"
  }
 },
 "nbformat": 4,
 "nbformat_minor": 2
}
