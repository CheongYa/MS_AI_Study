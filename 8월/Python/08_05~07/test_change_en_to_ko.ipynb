{
 "cells": [
  {
   "cell_type": "code",
   "execution_count": 2,
   "metadata": {},
   "outputs": [],
   "source": [
    "import os\n",
    "import requests\n",
    "\n",
    "# Azure Translator 설정\n",
    "endpoint = \"https://1507-aiservices.cognitiveservices.azure.com/\"\n",
    "path = \"/translator/document:translate\"\n",
    "url = endpoint + path\n",
    "\n",
    "headers = {\n",
    "    \"Ocp-Apim-Subscription-Key\": \"5fb3d580ca744ae7a95b9fbe10307ec3\"\n",
    "}\n",
    "\n",
    "params = {\n",
    "    \"sourceLanguage\": \"en\",\n",
    "    \"targetLanguage\": \"ko\",\n",
    "    \"api-version\": \"2023-11-01-preview\"\n",
    "}\n",
    "\n",
    "input_folder = \"./File/Custom multi classification - movies summary/Test\"\n",
    "output_folder = \"./File/ko_Custom multi classification - movies summary/ko_Test\"\n",
    "\n",
    "# 출력 폴더가 존재하지 않으면 생성\n",
    "os.makedirs(output_folder, exist_ok=True)\n",
    "\n",
    "# 폴더 내의 모든 *.txt 및 *.json 파일을 탐색\n",
    "for filename in os.listdir(input_folder):\n",
    "    if filename.endswith(\".txt\") or filename.endswith(\".json\"):\n",
    "        input_file = os.path.join(input_folder, filename)\n",
    "        output_file = os.path.join(output_folder, f\"ko_{filename}\")\n",
    "\n",
    "        # 파일을 바이너리 모드로 열기\n",
    "        with open(input_file, \"rb\") as document:\n",
    "            # 데이터 설정\n",
    "            files = {\n",
    "                \"document\": (os.path.basename(input_file), document, \"application/octet-stream\")\n",
    "            }\n",
    "\n",
    "            # POST 요청 보내기\n",
    "            response = requests.post(url, headers=headers, files=files, params=params)\n",
    "\n",
    "            if response.status_code == 200:\n",
    "                # 응답 내용을 새로운 파일로 저장\n",
    "                with open(output_file, \"wb\") as output_document:\n",
    "                    output_document.write(response.content)\n",
    "            else:\n",
    "                print(f\"Error translating file {filename}: {response.status_code}, {response.text}\")\n"
   ]
  }
 ],
 "metadata": {
  "kernelspec": {
   "display_name": "Python 3",
   "language": "python",
   "name": "python3"
  },
  "language_info": {
   "codemirror_mode": {
    "name": "ipython",
    "version": 3
   },
   "file_extension": ".py",
   "mimetype": "text/x-python",
   "name": "python",
   "nbconvert_exporter": "python",
   "pygments_lexer": "ipython3",
   "version": "3.12.4"
  }
 },
 "nbformat": 4,
 "nbformat_minor": 2
}
