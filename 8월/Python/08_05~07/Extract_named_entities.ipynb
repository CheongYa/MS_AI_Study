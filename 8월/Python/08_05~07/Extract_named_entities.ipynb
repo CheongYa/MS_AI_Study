{
 "cells": [
  {
   "cell_type": "code",
   "execution_count": null,
   "metadata": {},
   "outputs": [],
   "source": [
    "%pip install azure-ai-textanalytics==5.2.0"
   ]
  },
  {
   "cell_type": "code",
   "execution_count": 8,
   "metadata": {},
   "outputs": [
    {
     "name": "stdout",
     "output_type": "stream",
     "text": [
      "Named Entities:\n",
      "\n",
      "\tText: \t 2024년 08월 05일에 \tCategory: \t DateTime \tSubCategory: \t Date \n",
      "\tConfidence Score: \t 0.86 \tLength: \t 14 \tOffset: \t 3 \n",
      "\n",
      "\tText: \t 병원 \tCategory: \t Location \tSubCategory: \t Structural \n",
      "\tConfidence Score: \t 0.97 \tLength: \t 2 \tOffset: \t 18 \n",
      "\n",
      "\tText: \t 감기에 \tCategory: \t Event \tSubCategory: \t None \n",
      "\tConfidence Score: \t 0.63 \tLength: \t 3 \tOffset: \t 28 \n",
      "\n"
     ]
    }
   ],
   "source": [
    "# This example requires environment variables named \"LANGUAGE_KEY\" and \"LANGUAGE_ENDPOINT\"\n",
    "language_key = 'bcfb222993374595a37709f55cbe6b5c'\n",
    "language_endpoint = 'https://1507-lang.cognitiveservices.azure.com/'\n",
    "\n",
    "from azure.ai.textanalytics import TextAnalyticsClient\n",
    "from azure.core.credentials import AzureKeyCredential\n",
    "\n",
    "# Authenticate the client using your key and endpoint \n",
    "def authenticate_client():\n",
    "    ta_credential = AzureKeyCredential(language_key)\n",
    "    text_analytics_client = TextAnalyticsClient(\n",
    "            endpoint=language_endpoint, \n",
    "            credential=ta_credential)\n",
    "    return text_analytics_client\n",
    "\n",
    "client = authenticate_client()\n",
    "\n",
    "# Example function for recognizing entities from text\n",
    "def entity_recognition_example(client):\n",
    "\n",
    "    try:\n",
    "        documents = [\"나는 2024년 08월 05일에 병원을 다녀왔어. 감기에 걸렸는데 생각보다 아파.\"]\n",
    "        result = client.recognize_entities(documents = documents)[0]\n",
    "\n",
    "        print(\"Named Entities:\\n\")\n",
    "        for entity in result.entities:\n",
    "            print(\"\\tText: \\t\", entity.text, \"\\tCategory: \\t\", entity.category, \"\\tSubCategory: \\t\", entity.subcategory,\n",
    "                    \"\\n\\tConfidence Score: \\t\", round(entity.confidence_score, 2), \"\\tLength: \\t\", entity.length, \"\\tOffset: \\t\", entity.offset, \"\\n\")\n",
    "\n",
    "    except Exception as err:\n",
    "        print(\"Encountered exception. {}\".format(err))\n",
    "entity_recognition_example(client)"
   ]
  },
  {
   "cell_type": "code",
   "execution_count": 23,
   "metadata": {},
   "outputs": [
    {
     "name": "stderr",
     "output_type": "stream",
     "text": [
      "<frozen genericpath>:89: RuntimeWarning: coroutine 'sample_recognize_entities' was never awaited\n",
      "RuntimeWarning: Enable tracemalloc to get the object allocation traceback\n",
      "<frozen genericpath>:89: RuntimeWarning: coroutine 'main' was never awaited\n",
      "RuntimeWarning: Enable tracemalloc to get the object allocation traceback\n"
     ]
    },
    {
     "ename": "RuntimeError",
     "evalue": "asyncio.run() cannot be called from a running event loop",
     "output_type": "error",
     "traceback": [
      "\u001b[1;31m---------------------------------------------------------------------------\u001b[0m",
      "\u001b[1;31mRuntimeError\u001b[0m                              Traceback (most recent call last)",
      "Cell \u001b[1;32mIn[23], line 52\u001b[0m\n\u001b[0;32m     49\u001b[0m     \u001b[38;5;28;01mawait\u001b[39;00m sample_recognize_entities_async()\n\u001b[0;32m     51\u001b[0m \u001b[38;5;28;01mif\u001b[39;00m \u001b[38;5;18m__name__\u001b[39m \u001b[38;5;241m==\u001b[39m \u001b[38;5;124m'\u001b[39m\u001b[38;5;124m__main__\u001b[39m\u001b[38;5;124m'\u001b[39m:\n\u001b[1;32m---> 52\u001b[0m     \u001b[43masyncio\u001b[49m\u001b[38;5;241;43m.\u001b[39;49m\u001b[43mrun\u001b[49m\u001b[43m(\u001b[49m\u001b[43mmain\u001b[49m\u001b[43m(\u001b[49m\u001b[43m)\u001b[49m\u001b[43m)\u001b[49m\n",
      "File \u001b[1;32mc:\\Users\\chch4\\AppData\\Local\\Programs\\Python\\Python312\\Lib\\asyncio\\runners.py:190\u001b[0m, in \u001b[0;36mrun\u001b[1;34m(main, debug, loop_factory)\u001b[0m\n\u001b[0;32m    161\u001b[0m \u001b[38;5;250m\u001b[39m\u001b[38;5;124;03m\"\"\"Execute the coroutine and return the result.\u001b[39;00m\n\u001b[0;32m    162\u001b[0m \n\u001b[0;32m    163\u001b[0m \u001b[38;5;124;03mThis function runs the passed coroutine, taking care of\u001b[39;00m\n\u001b[1;32m   (...)\u001b[0m\n\u001b[0;32m    186\u001b[0m \u001b[38;5;124;03m    asyncio.run(main())\u001b[39;00m\n\u001b[0;32m    187\u001b[0m \u001b[38;5;124;03m\"\"\"\u001b[39;00m\n\u001b[0;32m    188\u001b[0m \u001b[38;5;28;01mif\u001b[39;00m events\u001b[38;5;241m.\u001b[39m_get_running_loop() \u001b[38;5;129;01mis\u001b[39;00m \u001b[38;5;129;01mnot\u001b[39;00m \u001b[38;5;28;01mNone\u001b[39;00m:\n\u001b[0;32m    189\u001b[0m     \u001b[38;5;66;03m# fail fast with short traceback\u001b[39;00m\n\u001b[1;32m--> 190\u001b[0m     \u001b[38;5;28;01mraise\u001b[39;00m \u001b[38;5;167;01mRuntimeError\u001b[39;00m(\n\u001b[0;32m    191\u001b[0m         \u001b[38;5;124m\"\u001b[39m\u001b[38;5;124masyncio.run() cannot be called from a running event loop\u001b[39m\u001b[38;5;124m\"\u001b[39m)\n\u001b[0;32m    193\u001b[0m \u001b[38;5;28;01mwith\u001b[39;00m Runner(debug\u001b[38;5;241m=\u001b[39mdebug, loop_factory\u001b[38;5;241m=\u001b[39mloop_factory) \u001b[38;5;28;01mas\u001b[39;00m runner:\n\u001b[0;32m    194\u001b[0m     \u001b[38;5;28;01mreturn\u001b[39;00m runner\u001b[38;5;241m.\u001b[39mrun(main)\n",
      "\u001b[1;31mRuntimeError\u001b[0m: asyncio.run() cannot be called from a running event loop"
     ]
    }
   ],
   "source": [
    "import asyncio\n",
    "\n",
    "async def sample_recognize_entities_async() -> None:\n",
    "    print(\n",
    "    \"In this sample, we are a catering business, and we're looking to sort the reviews \"\n",
    "    \"for our organization based off of the organization that hired us for catering\"\n",
    "    )\n",
    "\n",
    "    # [START recognize_entities_async]\n",
    "    import os\n",
    "    import typing\n",
    "    from azure.core.credentials import AzureKeyCredential\n",
    "    from azure.ai.textanalytics.aio import TextAnalyticsClient\n",
    "\n",
    "    endpoint = 'https://1507-lang.cognitiveservices.azure.com/'\n",
    "    key = 'bcfb222993374595a37709f55cbe6b5c'\n",
    "    \n",
    "    text_analytics_client = TextAnalyticsClient(endpoint=endpoint, credential=AzureKeyCredential(key))\n",
    "\n",
    "    reviews = [\n",
    "    \"\"\"I work for Foo Company, and we hired Contoso for our annual founding ceremony. The food\n",
    "    was amazing and we all can't say enough good words about the quality and the level of service.\"\"\",\n",
    "    \"\"\"We at the Foo Company re-hired Contoso after all of our past successes with the company.\n",
    "    Though the food was still great, I feel there has been a quality drop since their last time\n",
    "    catering for us. Is anyone else running into the same problem?\"\"\",\n",
    "    \"\"\"Bar Company is over the moon about the service we received from Contoso, the best sliders ever!!!!\"\"\"\n",
    "    ]\n",
    "    async with text_analytics_client:\n",
    "        result = await text_analytics_client.recognize_entities(reviews)\n",
    "    result = [review for review in result if not review.is_error]\n",
    "    organization_to_reviews: typing.Dict[str, typing.List[str]] = {}\n",
    "    for idx, review in enumerate(result):\n",
    "        for entity in review.entities:\n",
    "            print(f\"Entity '{entity.text}' has category '{entity.category}'\")\\\n",
    "            \n",
    "            if entity.category == 'Organization':\n",
    "                organization_to_reviews.setdefault(entity.text, [])\n",
    "                organization_to_reviews[entity.text].append(reviews[idx])\n",
    "\n",
    "    for organization, reviews in organization_to_reviews.items():\n",
    "        print(\n",
    "        \"\\n\\nOrganization '{}' has left us the following review(s): {}\".format(\n",
    "        organization, \"\\n\\n\".join(reviews)\n",
    "    )\n",
    ")\n",
    "        \n",
    "# [END recognize_entities_async]\n",
    "async def main():\n",
    "    await sample_recognize_entities_async()\n",
    "\n",
    "if __name__ == '__main__':\n",
    "    asyncio.run(main())"
   ]
  }
 ],
 "metadata": {
  "kernelspec": {
   "display_name": "Python 3",
   "language": "python",
   "name": "python3"
  },
  "language_info": {
   "codemirror_mode": {
    "name": "ipython",
    "version": 3
   },
   "file_extension": ".py",
   "mimetype": "text/x-python",
   "name": "python",
   "nbconvert_exporter": "python",
   "pygments_lexer": "ipython3",
   "version": "3.12.4"
  }
 },
 "nbformat": 4,
 "nbformat_minor": 2
}
