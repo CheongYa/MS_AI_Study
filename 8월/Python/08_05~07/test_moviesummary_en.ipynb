{
 "cells": [
  {
   "cell_type": "code",
   "execution_count": 1,
   "metadata": {},
   "outputs": [
    {
     "name": "stdout",
     "output_type": "stream",
     "text": [
      "\n",
      "The movie plot 'The mining town of Cedar City, Utah, is ruled by Mr. Walthrope, a polygamous Mormon prophet , his son the marshall  and their band of ruffians. John Brad  is falsely accused of shooting in the back a gunfighter sent against him by the prophet and has to flee. Meanwhile, a train brings Jeff Groghan , a gunfighter called by Walthrope, and two Transylvanian immigrants, Traian  and Romulus Brad , who come to meet their brother John. Traian speaks only Romanian and Romulus tries to get by with his dictionary. On the station, Grogham is received with a gunfight and Traian has occasion to fire his Turkish gun, booty from the siege of Plevna. Upon arrival to the saloon, Traian is invited to play poker with Groghan, a former Confederate officer still in grey uniform and another man. Traian manages to win many dollars and Bob , the slave of the Confederate officer. The fun is interrupted by the arrival of the prophet. With very limited command of English, the Brads inform that they are looking for John, whose face they see in Wanted posters. They are judged by the inicuous drunkard Dolittle  who sentences them to hanging but the prophet takes them to his farm, where they toil as farm hands. The Brads and Bob escape and live in a hut under the Romanian flag where they fish and find gold nuggets. John tries to organize the miners against the prophet who sets the prices and takes their gold away to Salt Lake City, but the miners prefer to let the things as they are. Later, Walthrope's men assault one man and his daughter that is rescued by John Brad. John and the girl finally reach the Brads' hut. They team together to stop the party that carries the miners' gold stolen by the Mormons. In the ensuing gunfight, the Brads win and successfully defend the miners camp against the whole Walthrope band. Walthrope is captured and the Brads, Bob and the girl ride in the sunset.' was classified as the following genres:\n",
      "\n",
      "'Action' with confidence score 0.77.\n",
      "'Drama' with confidence score 0.95.\n"
     ]
    }
   ],
   "source": [
    "# -------------------------------------------------------------------------\n",
    "# Copyright (c) Microsoft Corporation. All rights reserved.\n",
    "# Licensed under the MIT License. See License.txt in the project root for\n",
    "# license information.\n",
    "# --------------------------------------------------------------------------\n",
    "\n",
    "\"\"\"\n",
    "FILE: sample_multi_label_classify.py\n",
    "\n",
    "DESCRIPTION:\n",
    "    This sample demonstrates how to classify documents into multiple custom categories. For example,\n",
    "    movie plot summaries can be categorized into multiple movie genres like \"Action\" and \"Thriller\",\n",
    "    or \"Comedy\" and \"Drama\", etc. Classifying documents is also available as an action type through\n",
    "    the begin_analyze_actions API.\n",
    "\n",
    "    For information on regional support of custom features and how to train a model to\n",
    "    classify your documents, see https://aka.ms/azsdk/textanalytics/customfunctionalities\n",
    "\n",
    "USAGE:\n",
    "    python sample_multi_label_classify.py\n",
    "\n",
    "    Set the environment variables with your own values before running the sample:\n",
    "    1) AZURE_LANGUAGE_ENDPOINT - the endpoint to your Language resource.\n",
    "    2) AZURE_LANGUAGE_KEY - your Language subscription key\n",
    "    3) MULTI_LABEL_CLASSIFY_PROJECT_NAME - your Language Studio project name\n",
    "    4) MULTI_LABEL_CLASSIFY_DEPLOYMENT_NAME - your Language Studio deployment name\n",
    "\"\"\"\n",
    "\n",
    "\n",
    "def sample_classify_document_multi_label() -> None:\n",
    "    # [START multi_label_classify]\n",
    "    import os\n",
    "    from azure.core.credentials import AzureKeyCredential\n",
    "    from azure.ai.textanalytics import TextAnalyticsClient\n",
    "\n",
    "    endpoint = \"https://owner-1507-ailang.cognitiveservices.azure.com/\"\n",
    "    key = \"38cd2eda0b6b419e8f22896af727c0f6\"\n",
    "    project_name = \"customtextclassificationMovieSummary\"\n",
    "    deployment_name = \"moviesummarydeploy\"\n",
    "    path_to_sample_document = \"./File/Custom multi classification - movies summary/Test/Comedy.txt\"\n",
    "\n",
    "    text_analytics_client = TextAnalyticsClient(\n",
    "        endpoint=endpoint,\n",
    "        credential=AzureKeyCredential(key),\n",
    "    )\n",
    "\n",
    "    with open(path_to_sample_document) as fd:\n",
    "        document = [fd.read()]\n",
    "\n",
    "    poller = text_analytics_client.begin_multi_label_classify(\n",
    "        document,\n",
    "        project_name=project_name,\n",
    "        deployment_name=deployment_name\n",
    "    )\n",
    "\n",
    "    document_results = poller.result()\n",
    "    for doc, classification_result in zip(document, document_results):\n",
    "        if classification_result.kind == \"CustomDocumentClassification\":\n",
    "            classifications = classification_result.classifications\n",
    "            print(f\"\\nThe movie plot '{doc}' was classified as the following genres:\\n\")\n",
    "            for classification in classifications:\n",
    "                print(\"'{}' with confidence score {}.\".format(\n",
    "                    classification.category, classification.confidence_score\n",
    "                ))\n",
    "        elif classification_result.is_error is True:\n",
    "            print(\"Movie plot '{}' has an error with code '{}' and message '{}'\".format(\n",
    "                doc, classification_result.error.code, classification_result.error.message\n",
    "            ))\n",
    "    # [END multi_label_classify]\n",
    "\n",
    "\n",
    "if __name__ == \"__main__\":\n",
    "    sample_classify_document_multi_label()"
   ]
  }
 ],
 "metadata": {
  "kernelspec": {
   "display_name": "Python 3",
   "language": "python",
   "name": "python3"
  },
  "language_info": {
   "codemirror_mode": {
    "name": "ipython",
    "version": 3
   },
   "file_extension": ".py",
   "mimetype": "text/x-python",
   "name": "python",
   "nbconvert_exporter": "python",
   "pygments_lexer": "ipython3",
   "version": "3.12.4"
  }
 },
 "nbformat": 4,
 "nbformat_minor": 2
}
