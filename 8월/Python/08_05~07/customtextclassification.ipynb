{
 "cells": [
  {
   "cell_type": "code",
   "execution_count": 34,
   "metadata": {},
   "outputs": [
    {
     "name": "stdout",
     "output_type": "stream",
     "text": [
      "The document text 'The new algorithm significantly improves the efficiency of data processing.' was classified as 'Computer_science' with confidence score 0.15.\n",
      "The document text 'Cognitive behavioral therapy has been shown to be effective in treating anxiety disorders.' was classified as 'Psychology' with confidence score 0.16.\n",
      "The document text 'Telemedicine is becoming increasingly popular for providing remote healthcare services.' was classified as 'Psychology' with confidence score 0.15.\n"
     ]
    }
   ],
   "source": [
    "def sample_classify_document_single_label() -> None:\n",
    "    # [START single_label_classify]\n",
    "    import os\n",
    "    from azure.core.credentials import AzureKeyCredential\n",
    "    from azure.ai.textanalytics import TextAnalyticsClient\n",
    "\n",
    "    endpoint = 'https://owner-1507-ailang.cognitiveservices.azure.com/'\n",
    "    key = '38cd2eda0b6b419e8f22896af727c0f6'\n",
    "    project_name = 'customtextclassificationdemo'\n",
    "    deployment_name = 'customtextclassificationdeploy'\n",
    "    # path_to_sample_document = os.path.abspath(\n",
    "    #     os.path.join(\n",
    "    #         os.path.abspath(__file__),\n",
    "    #         \"..\",\n",
    "    #         \"./text_samples/custom_classify_sample.txt\",\n",
    "    #     )\n",
    "    # )\n",
    "\n",
    "    text_analytics_client = TextAnalyticsClient(\n",
    "        endpoint=endpoint,\n",
    "        credential=AzureKeyCredential(key),\n",
    "    )\n",
    "\n",
    "    #with open(path_to_sample_document) as fd:\n",
    "    document = [\"The new algorithm significantly improves the efficiency of data processing.\",\n",
    "                \"Cognitive behavioral therapy has been shown to be effective in treating anxiety disorders.\",\n",
    "                \"Telemedicine is becoming increasingly popular for providing remote healthcare services.\"]\n",
    "\n",
    "    poller = text_analytics_client.begin_single_label_classify(\n",
    "        document,\n",
    "        project_name=project_name,\n",
    "        deployment_name=deployment_name\n",
    "    )\n",
    "\n",
    "    document_results = poller.result()\n",
    "    for doc, classification_result in zip(document, document_results):\n",
    "        if classification_result.kind == \"CustomDocumentClassification\":\n",
    "            classification = classification_result.classifications[0]\n",
    "            print(\"The document text '{}' was classified as '{}' with confidence score {}.\".format(\n",
    "                doc, classification.category, classification.confidence_score)\n",
    "            )\n",
    "        elif classification_result.is_error is True:\n",
    "            print(\"Document text '{}' has an error with code '{}' and message '{}'\".format(\n",
    "                doc, classification_result.error.code, classification_result.error.message\n",
    "            ))\n",
    "    # [END single_label_classify]\n",
    "\n",
    "\n",
    "if __name__ == \"__main__\":\n",
    "    sample_classify_document_single_label()"
   ]
  }
 ],
 "metadata": {
  "kernelspec": {
   "display_name": "Python 3",
   "language": "python",
   "name": "python3"
  },
  "language_info": {
   "codemirror_mode": {
    "name": "ipython",
    "version": 3
   },
   "file_extension": ".py",
   "mimetype": "text/x-python",
   "name": "python",
   "nbconvert_exporter": "python",
   "pygments_lexer": "ipython3",
   "version": "3.12.4"
  }
 },
 "nbformat": 4,
 "nbformat_minor": 2
}
