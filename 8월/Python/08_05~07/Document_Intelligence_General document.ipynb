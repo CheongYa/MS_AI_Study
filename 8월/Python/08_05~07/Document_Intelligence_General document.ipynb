{
 "cells": [
  {
   "cell_type": "code",
   "execution_count": 7,
   "metadata": {},
   "outputs": [
    {
     "name": "stdout",
     "output_type": "stream",
     "text": [
      "----Key-value pairs found in document----\n",
      "Key 'OMB Control': Value: '1014-0025 OND'\n",
      "Key 'Expire': Value:\n",
      "Key 'NEWY WELL': Value: ':unselected:'\n",
      "Key 'WELL NAME (CURRENT': Value: 'N/A\n",
      "2/1/2022'\n",
      "Key 'MITE OPERATOR NO': Value: '77337'\n",
      "Key 'SEHE TRACK NO': Value: 'N/A'\n",
      "Key 'CURRENT': Value: 'NIA'\n",
      "Key 'PLAN CONTROL NO. (NEW WELL ONLY': Value: '378738'\n",
      "Key 'OPERATOR NAME:': Value: 'ING ADLSHENNE\n",
      "Pipolins Ino.\n",
      "Main Street Seattle WA 9801'\n",
      "Key 'WELL AT SURFACE': Value: '983973 Contoso Drilling'\n",
      "Key 'ZAREA NAM': Value:\n",
      "Key '49 4941': Value: ':unselected:'\n",
      "Key '24. TOP (IVD)': Value: '2065550123'\n",
      "Key '24. TOP (TVD)': Value: 'james(@contoso.com'\n",
      "Key 'WCONTACT TALERNE NOS': Value:\n",
      "Key '41. AUTHORIZING SIGNATURE': Value: 'JOHN SMITH'\n",
      "Key 'Page': Value: '1\n",
      "2'\n",
      "Key 'of': Value:\n",
      "----------------------------------------\n"
     ]
    }
   ],
   "source": [
    "\"\"\"\n",
    "This code sample shows Prebuilt Document operations with the Azure Form Recognizer client library. \n",
    "The async versions of the samples require Python 3.6 or later.\n",
    "\n",
    "To learn more, please visit the documentation - Quickstart: Form Recognizer Python client library SDKs\n",
    "https://learn.microsoft.com/azure/applied-ai-services/form-recognizer/quickstarts/get-started-v3-sdk-rest-api?view=doc-intel-3.1.0&pivots=programming-language-python\n",
    "\"\"\"\n",
    "\n",
    "from azure.core.credentials import AzureKeyCredential\n",
    "from azure.ai.formrecognizer import DocumentAnalysisClient\n",
    "\n",
    "\"\"\"\n",
    "Remember to remove the key from your code when you're done, and never post it publicly. For production, use\n",
    "secure methods to store and access your credentials. For more information, see \n",
    "https://docs.microsoft.com/en-us/azure/cognitive-services/cognitive-services-security?tabs=command-line%2Ccsharp#environment-variables-and-application-configuration\n",
    "\"\"\"\n",
    "endpoint = \"https://1507docuintelli.cognitiveservices.azure.com/\"\n",
    "key = \"2ca4c2433352430f906ee0c520ca69bf\"\n",
    "\n",
    "# sample document\n",
    "formPath = \"./File/MSGeneralDocumentImage.png\"\n",
    "\n",
    "document_analysis_client = DocumentAnalysisClient(\n",
    "        endpoint=endpoint, credential=AzureKeyCredential(key)\n",
    "    )\n",
    "\n",
    "with open(formPath, \"rb\") as fd:\n",
    "    poller = document_analysis_client.begin_analyze_document(\"prebuilt-document\", fd)\n",
    "    result = poller.result()\n",
    "\n",
    "print(\"----Key-value pairs found in document----\")\n",
    "for kv_pair in result.key_value_pairs:\n",
    "    if kv_pair.key and kv_pair.value:\n",
    "        print(\"Key '{}': Value: '{}'\".format(kv_pair.key.content, kv_pair.value.content))\n",
    "    else:\n",
    "        print(\"Key '{}': Value:\".format(kv_pair.key.content))\n",
    "\n",
    "print(\"----------------------------------------\")\n"
   ]
  }
 ],
 "metadata": {
  "kernelspec": {
   "display_name": "Python 3",
   "language": "python",
   "name": "python3"
  },
  "language_info": {
   "codemirror_mode": {
    "name": "ipython",
    "version": 3
   },
   "file_extension": ".py",
   "mimetype": "text/x-python",
   "name": "python",
   "nbconvert_exporter": "python",
   "pygments_lexer": "ipython3",
   "version": "3.12.4"
  }
 },
 "nbformat": 4,
 "nbformat_minor": 2
}
