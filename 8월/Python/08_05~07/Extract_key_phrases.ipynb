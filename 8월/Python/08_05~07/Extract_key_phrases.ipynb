{
 "cells": [
  {
   "cell_type": "code",
   "execution_count": 1,
   "metadata": {},
   "outputs": [
    {
     "name": "stdout",
     "output_type": "stream",
     "text": [
      "In this sample, we want to find the articles that mention Microsoft to read.\n",
      "Key phrases in article #1: D.C. Autumn, beautiful season, clearer view, blue sky, yellow leaves, Washington, DC, trees, city, forests, ground\n",
      "Key phrases in article #2: United States workers, start date, Redmond, WA, past, days, Microsoft, pandemic, end, sight\n",
      "Key phrases in article #3: new coffee shop, Redmond, WA, Employees, Microsoft, campus, workers\n",
      "The articles that mention Microsoft are articles number: 2, 3. Those are the ones I'm interested in reading.\n"
     ]
    }
   ],
   "source": [
    "def sample_extract_key_phrases() -> None:\n",
    "    print(\n",
    "        \"In this sample, we want to find the articles that mention Microsoft to read.\"\n",
    "    )\n",
    "    articles_that_mention_microsoft = []\n",
    "    # [START extract_key_phrases]\n",
    "    import os\n",
    "    from azure.core.credentials import AzureKeyCredential\n",
    "    from azure.ai.textanalytics import TextAnalyticsClient\n",
    "\n",
    "    endpoint = 'https://1507-lang.cognitiveservices.azure.com/'\n",
    "    key = 'bcfb222993374595a37709f55cbe6b5c'\n",
    "\n",
    "    text_analytics_client = TextAnalyticsClient(endpoint=endpoint, credential=AzureKeyCredential(key))\n",
    "    articles = [\n",
    "        \"\"\"\n",
    "        Washington, D.C. Autumn in DC is a uniquely beautiful season. The leaves fall from the trees\n",
    "        in a city chock-full of forests, leaving yellow leaves on the ground and a clearer view of the\n",
    "        blue sky above...\n",
    "        \"\"\",\n",
    "        \"\"\"\n",
    "        Redmond, WA. In the past few days, Microsoft has decided to further postpone the start date of\n",
    "        its United States workers, due to the pandemic that rages with no end in sight...\n",
    "        \"\"\",\n",
    "        \"\"\"\n",
    "        Redmond, WA. Employees at Microsoft can be excited about the new coffee shop that will open on campus\n",
    "        once workers no longer have to work remotely...\n",
    "        \"\"\"\n",
    "    ]\n",
    "\n",
    "    result = text_analytics_client.extract_key_phrases(articles)\n",
    "    for idx, doc in enumerate(result):\n",
    "        if not doc.is_error:\n",
    "            print(\"Key phrases in article #{}: {}\".format(\n",
    "                idx + 1,\n",
    "                \", \".join(doc.key_phrases)\n",
    "            ))\n",
    "    # [END extract_key_phrases]\n",
    "            if \"Microsoft\" in doc.key_phrases:\n",
    "                articles_that_mention_microsoft.append(str(idx + 1))\n",
    "\n",
    "    print(\n",
    "        \"The articles that mention Microsoft are articles number: {}. Those are the ones I'm interested in reading.\".format(\n",
    "            \", \".join(articles_that_mention_microsoft)\n",
    "        )\n",
    "    )\n",
    "\n",
    "\n",
    "if __name__ == '__main__':\n",
    "    sample_extract_key_phrases()"
   ]
  }
 ],
 "metadata": {
  "kernelspec": {
   "display_name": "Python 3",
   "language": "python",
   "name": "python3"
  },
  "language_info": {
   "codemirror_mode": {
    "name": "ipython",
    "version": 3
   },
   "file_extension": ".py",
   "mimetype": "text/x-python",
   "name": "python",
   "nbconvert_exporter": "python",
   "pygments_lexer": "ipython3",
   "version": "3.12.4"
  }
 },
 "nbformat": 4,
 "nbformat_minor": 2
}
