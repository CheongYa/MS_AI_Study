{
 "cells": [
  {
   "cell_type": "code",
   "execution_count": 2,
   "metadata": {},
   "outputs": [
    {
     "name": "stdout",
     "output_type": "stream",
     "text": [
      "Running on local URL:  http://127.0.0.1:7862\n",
      "\n",
      "Could not create share link. Please check your internet connection or our status page: https://status.gradio.app.\n"
     ]
    },
    {
     "data": {
      "text/html": [
       "<div><iframe src=\"http://127.0.0.1:7862/\" width=\"100%\" height=\"500\" allow=\"autoplay; camera; microphone; clipboard-read; clipboard-write;\" frameborder=\"0\" allowfullscreen></iframe></div>"
      ],
      "text/plain": [
       "<IPython.core.display.HTML object>"
      ]
     },
     "metadata": {},
     "output_type": "display_data"
    },
    {
     "data": {
      "text/plain": []
     },
     "execution_count": 2,
     "metadata": {},
     "output_type": "execute_result"
    }
   ],
   "source": [
    "import gradio as gr\n",
    "import cv2\n",
    "from PIL import Image\n",
    "\n",
    "# Haar Cascade 분류기 파일 경로\n",
    "cascPath = cv2.data.haarcascades + 'haarcascade_frontalface_default.xml'\n",
    "faceCascade = cv2.CascadeClassifier(cascPath)\n",
    "\n",
    "def detect_faces(image):\n",
    "    # 이미지를 OpenCV 형식으로 변환\n",
    "    image = cv2.cvtColor(image, cv2.COLOR_RGB2BGR)\n",
    "    # 그레이스케일로 변환\n",
    "    gray = cv2.cvtColor(image, cv2.COLOR_BGR2GRAY)\n",
    "    # 얼굴을 검출합니다\n",
    "    faces = faceCascade.detectMultiScale(gray, \n",
    "                                         scaleFactor=1.1, \n",
    "                                         minNeighbors=5, \n",
    "                                         minSize=(30, 30), \n",
    "                                         flags=cv2.CASCADE_SCALE_IMAGE)\n",
    "    # 검출된 얼굴에 사각형 그리기\n",
    "    for(x, y, w, h) in faces:\n",
    "        cv2.rectangle(image, (x, y), (x+w, y+h), (0, 255, 0), 2)\n",
    "\n",
    "    # 이미지를 다시 RGB로 변환\n",
    "    image = cv2.cvtColor(image, cv2.COLOR_BGR2RGB)\n",
    "    # 이미지를 PIL 형식으로 변환\n",
    "    return Image.fromarray(image)\n",
    "\n",
    "with gr.Blocks() as demo:\n",
    "    with gr.Row():\n",
    "        input_image = gr.Image(type=\"numpy\")\n",
    "        output_image = gr.Image(type=\"pil\", interactive=False)\n",
    "    \n",
    "    # 버튼을 추가하여 클릭 시 얼굴 감지 함수 실행\n",
    "    detect_button = gr.Button(\"Detect Faces\")\n",
    "    detect_button.click(fn=detect_faces, inputs=input_image, outputs=output_image)\n",
    "    \n",
    "demo.launch(share=True)\n"
   ]
  }
 ],
 "metadata": {
  "kernelspec": {
   "display_name": "Python 3",
   "language": "python",
   "name": "python3"
  },
  "language_info": {
   "codemirror_mode": {
    "name": "ipython",
    "version": 3
   },
   "file_extension": ".py",
   "mimetype": "text/x-python",
   "name": "python",
   "nbconvert_exporter": "python",
   "pygments_lexer": "ipython3",
   "version": "3.12.4"
  }
 },
 "nbformat": 4,
 "nbformat_minor": 2
}
