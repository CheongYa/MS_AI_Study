{
 "cells": [
  {
   "cell_type": "code",
   "execution_count": 1,
   "metadata": {},
   "outputs": [
    {
     "name": "stderr",
     "output_type": "stream",
     "text": [
      "c:\\Users\\chch4\\AppData\\Local\\Programs\\Python\\Python312\\Lib\\site-packages\\tqdm\\auto.py:21: TqdmWarning: IProgress not found. Please update jupyter and ipywidgets. See https://ipywidgets.readthedocs.io/en/stable/user_install.html\n",
      "  from .autonotebook import tqdm as notebook_tqdm\n"
     ]
    },
    {
     "name": "stdout",
     "output_type": "stream",
     "text": [
      "Running on local URL:  http://127.0.0.1:7862\n",
      "\n",
      "To create a public link, set `share=True` in `launch()`.\n"
     ]
    },
    {
     "data": {
      "text/html": [
       "<div><iframe src=\"http://127.0.0.1:7862/\" width=\"100%\" height=\"500\" allow=\"autoplay; camera; microphone; clipboard-read; clipboard-write;\" frameborder=\"0\" allowfullscreen></iframe></div>"
      ],
      "text/plain": [
       "<IPython.core.display.HTML object>"
      ]
     },
     "metadata": {},
     "output_type": "display_data"
    },
    {
     "data": {
      "text/plain": []
     },
     "execution_count": 1,
     "metadata": {},
     "output_type": "execute_result"
    }
   ],
   "source": [
    "import requests\n",
    "from azure.ai.vision.imageanalysis import ImageAnalysisClient\n",
    "from azure.ai.vision.imageanalysis.models import VisualFeatures\n",
    "from azure.core.credentials import AzureKeyCredential\n",
    "import gradio as gr\n",
    "from PIL import Image, ImageDraw, ImageFont\n",
    "\n",
    "def request_vision(image_path):\n",
    "    features = \"SmartCrops\"\n",
    "    endpoint = f\"https://1507-computervision-we.cognitiveservices.azure.com/computervision/imageanalysis:analyze?\"\n",
    "    api_key = \"450e09da0b934eb2bc950eb9f51fa754\"\n",
    "\n",
    "    headers = {\n",
    "        \"Content-Type\": \"application/octet-stream\",\n",
    "        \"Ocp-Apim-Subscription-Key\": api_key\n",
    "    }\n",
    "    params ={\n",
    "        \"api-version\": \"2024-02-01\",\n",
    "        \"features\": features,\n",
    "        \"smartcrops-aspect-ratios\": \"1,1.8,1.4\"\n",
    "    }\n",
    "\n",
    "    with open(image_path, 'rb') as image:\n",
    "        image_data = image.read()\n",
    "\n",
    "    response = requests.post(endpoint, \n",
    "                             headers=headers,\n",
    "                             params=params,\n",
    "                             data=image_data)\n",
    "\n",
    "    response_json = response.json()\n",
    "    print(response_json)\n",
    "\n",
    "    return response_json\n",
    "\n",
    "def change_image(image_path):\n",
    "\n",
    "    if image_path is None:\n",
    "        return None\n",
    "    \n",
    "    image = Image.open(image_path)\n",
    "    draw = ImageDraw.Draw(image)\n",
    "    try:\n",
    "        font = ImageFont.truetype(\"NanumGothic.ttf\", 30)\n",
    "    except IOError:\n",
    "        # Arial 폰트가 없으면 기본 폰트를 사용합니다.\n",
    "        font = ImageFont.load_default()\n",
    "    \n",
    "    # request_vision을 통해 데이터를 받아 온다.\n",
    "    # 받은 데이터를 파싱해서 image에 그린다.\n",
    "\n",
    "    response_json = request_vision(image_path)\n",
    "    # 받은 데이터를 파싱해서 image에 그린다.  \n",
    "    if \"objectsResult\" in response_json and \"values\" in response_json[\"objectsResult\"]:  \n",
    "        for obj in response_json[\"objectsResult\"][\"values\"]:  \n",
    "            box = obj[\"boundingBox\"]  \n",
    "            x, y, w, h = box[\"x\"], box[\"y\"], box[\"w\"], box[\"h\"]  \n",
    "            print(x, y, w, h)\n",
    "            draw.rectangle([(x, y), (x + w, y + h)], outline=\"red\", width=2)  \n",
    "            if \"tags\" in obj:  \n",
    "                for tag in obj[\"tags\"]:  \n",
    "                    draw.text((x, y - 10), tag[\"name\"], fill=\"red\", font=font)  \n",
    "\n",
    "    if \"tagsResult\" in response_json and \"values\" in response_json[\"tagsResult\"]:  \n",
    "        for obj in response_json[\"tagsResult\"][\"values\"]:  \n",
    "            print(obj['name'], int(obj['confidence']*100))\n",
    "\n",
    "    if \"smartCropsResult\" in response_json and \"values\" in response_json[\"smartCropsResult\"]:  \n",
    "        for obj in response_json[\"smartCropsResult\"][\"values\"]:  \n",
    "            box = obj[\"boundingBox\"]  \n",
    "            x, y, w, h = box[\"x\"], box[\"y\"], box[\"w\"], box[\"h\"]  \n",
    "            print(x, y, w, h)\n",
    "            draw.rectangle([(x, y), (x + w, y + h)], outline=\"red\", width=2)  \n",
    "            draw.text((x, y - 10), str(obj['aspectRatio']), fill=\"red\", font=font)  \n",
    "\n",
    "\n",
    "    return image\n",
    "\n",
    "with gr.Blocks() as demo:\n",
    "\n",
    "    input_image = gr.Image(label=\"이미지 선택\", type=\"filepath\", width=800)\n",
    "    output_image = gr.Image(label=\"출력 이미지\", type=\"pil\", width=800, interactive=False)\n",
    "\n",
    "    input_image.change(fn=change_image, inputs=[input_image], outputs=[output_image])\n",
    "\n",
    "demo.launch()"
   ]
  },
  {
   "cell_type": "code",
   "execution_count": 2,
   "metadata": {},
   "outputs": [
    {
     "name": "stdout",
     "output_type": "stream",
     "text": [
      "Running on local URL:  http://127.0.0.1:7863\n",
      "\n",
      "To create a public link, set `share=True` in `launch()`.\n"
     ]
    },
    {
     "data": {
      "text/html": [
       "<div><iframe src=\"http://127.0.0.1:7863/\" width=\"100%\" height=\"500\" allow=\"autoplay; camera; microphone; clipboard-read; clipboard-write;\" frameborder=\"0\" allowfullscreen></iframe></div>"
      ],
      "text/plain": [
       "<IPython.core.display.HTML object>"
      ]
     },
     "metadata": {},
     "output_type": "display_data"
    },
    {
     "data": {
      "text/plain": []
     },
     "execution_count": 2,
     "metadata": {},
     "output_type": "execute_result"
    },
    {
     "name": "stdout",
     "output_type": "stream",
     "text": [
      "{'modelVersion': '2023-10-01', 'metadata': {'width': 1024, 'height': 1024}, 'smartCropsResult': {'values': [{'aspectRatio': 1.0, 'boundingBox': {'x': 0, 'y': 0, 'w': 924, 'h': 924}}, {'aspectRatio': 1.8, 'boundingBox': {'x': 0, 'y': 48, 'w': 924, 'h': 512}}, {'aspectRatio': 1.4, 'boundingBox': {'x': 0, 'y': 0, 'w': 948, 'h': 676}}]}}\n",
      "0 0 924 924\n",
      "0 48 924 512\n",
      "0 0 948 676\n"
     ]
    }
   ],
   "source": [
    "import requests\n",
    "from azure.ai.vision.imageanalysis import ImageAnalysisClient\n",
    "from azure.ai.vision.imageanalysis.models import VisualFeatures\n",
    "from azure.core.credentials import AzureKeyCredential\n",
    "import gradio as gr\n",
    "from PIL import Image, ImageDraw, ImageFont\n",
    "import io\n",
    "\n",
    "def request_background_removal(image_path):\n",
    "    endpoint = 'https://1507-computervision-we.cognitiveservices.azure.com/computervision/imageanalysis:segment?'\n",
    "    api_key = '450e09da0b934eb2bc950eb9f51fa754'  # 여기에 Azure API 키를 추가하세요.\n",
    "\n",
    "    headers = {\n",
    "        \"Content-Type\": \"application/octet-stream\",\n",
    "        \"Ocp-Apim-Subscription-Key\": api_key\n",
    "    }\n",
    "\n",
    "    params = {\n",
    "        'api-version': '2023-02-01-preview',\n",
    "        'mode': 'backgroundRemoval'\n",
    "    }\n",
    "\n",
    "    with open(image_path, 'rb') as image:\n",
    "        image_data = image.read()\n",
    "\n",
    "    response = requests.post(endpoint,\n",
    "                             headers=headers,\n",
    "                             params=params,  # 'parmas'에서 'params'로 수정\n",
    "                             data=image_data)\n",
    "    \n",
    "    if response.status_code == 200:\n",
    "        return response.content\n",
    "    else:\n",
    "        print(f\"Error: {response.status_code}\")\n",
    "        return None\n",
    "\n",
    "def change_image(image_path):\n",
    "    image_data = request_background_removal(image_path=image_path)\n",
    "    if image_data:\n",
    "        image = Image.open(io.BytesIO(image_data))\n",
    "        return image\n",
    "    else:\n",
    "        return None\n",
    "\n",
    "with gr.Blocks() as demo2:\n",
    "\n",
    "    input_image = gr.Image(label=\"이미지 선택\", type=\"filepath\", width=800)\n",
    "    output_image = gr.Image(label=\"출력 이미지\", type=\"pil\", width=800, interactive=False)\n",
    "\n",
    "    input_image.change(fn=change_image, inputs=[input_image], outputs=[output_image])\n",
    "\n",
    "demo2.launch()\n"
   ]
  }
 ],
 "metadata": {
  "kernelspec": {
   "display_name": "Python 3",
   "language": "python",
   "name": "python3"
  },
  "language_info": {
   "codemirror_mode": {
    "name": "ipython",
    "version": 3
   },
   "file_extension": ".py",
   "mimetype": "text/x-python",
   "name": "python",
   "nbconvert_exporter": "python",
   "pygments_lexer": "ipython3",
   "version": "3.12.4"
  }
 },
 "nbformat": 4,
 "nbformat_minor": 2
}
