{
 "cells": [
  {
   "cell_type": "code",
   "execution_count": null,
   "metadata": {},
   "outputs": [],
   "source": [
    "import requests\n",
    "from azure.ai.vision.imageanalysis import ImageAnalysisClient\n",
    "from azure.ai.vision.imageanalysis.models import VisualFeatures\n",
    "from azure.core.credentials import AzureKeyCredential"
   ]
  },
  {
   "cell_type": "code",
   "execution_count": null,
   "metadata": {},
   "outputs": [],
   "source": [
    "endpoint = 'https://1507-computervision-we.cognitiveservices.azure.com/'\n",
    "api_key = '450e09da0b934eb2bc950eb9f51fa754'\n",
    "\n",
    "client = ImageAnalysisClient(\n",
    "    endpoint=endpoint,\n",
    "    credential=AzureKeyCredential(api_key)\n",
    ")\n",
    "\n",
    "result = client.analyze_from_url(\n",
    "    image_url=\"https://learn.microsoft.com/azure/ai-services/computer-vision/media/quickstarts/presentation.png\",\n",
    "    visual_features=[VisualFeatures.CAPTION, VisualFeatures.READ],\n",
    "    gender_neutral_caption=True,  # Optional (default is False)\n",
    ")\n",
    "\n",
    "print(result)"
   ]
  },
  {
   "cell_type": "code",
   "execution_count": 18,
   "metadata": {},
   "outputs": [
    {
     "name": "stdout",
     "output_type": "stream",
     "text": [
      "Running on local URL:  http://127.0.0.1:7877\n",
      "\n",
      "To create a public link, set `share=True` in `launch()`.\n"
     ]
    },
    {
     "data": {
      "text/html": [
       "<div><iframe src=\"http://127.0.0.1:7877/\" width=\"100%\" height=\"500\" allow=\"autoplay; camera; microphone; clipboard-read; clipboard-write;\" frameborder=\"0\" allowfullscreen></iframe></div>"
      ],
      "text/plain": [
       "<IPython.core.display.HTML object>"
      ]
     },
     "metadata": {},
     "output_type": "display_data"
    },
    {
     "data": {
      "text/plain": []
     },
     "execution_count": 18,
     "metadata": {},
     "output_type": "execute_result"
    },
    {
     "name": "stdout",
     "output_type": "stream",
     "text": [
      "{'modelVersion': '2023-10-01', 'metadata': {'width': 1300, 'height': 866}, 'tagsResult': {'values': [{'name': 'transport', 'confidence': 0.995858907699585}, {'name': 'watercraft', 'confidence': 0.9915329217910767}, {'name': 'naval architecture', 'confidence': 0.9682797789573669}, {'name': 'vehicle', 'confidence': 0.9534655809402466}, {'name': 'boat', 'confidence': 0.9487149715423584}, {'name': 'ship', 'confidence': 0.9366865158081055}, {'name': 'yacht', 'confidence': 0.8746330738067627}]}, 'objectsResult': {'values': [{'boundingBox': {'x': 339, 'y': 209, 'w': 889, 'h': 470}, 'tags': [{'name': 'cruiser', 'confidence': 0.705}]}, {'boundingBox': {'x': 62, 'y': 302, 'w': 906, 'h': 383}, 'tags': [{'name': 'Vehicle', 'confidence': 0.533}]}]}, 'smartCropsResult': {'values': [{'aspectRatio': 1.65, 'boundingBox': {'x': 54, 'y': 36, 'w': 1192, 'h': 722}}]}}\n",
      "339 209 889 470\n",
      "62 302 906 383\n",
      "transport 99\n",
      "watercraft 99\n",
      "naval architecture 96\n",
      "vehicle 95\n",
      "boat 94\n",
      "ship 93\n",
      "yacht 87\n",
      "54 36 1192 722\n"
     ]
    }
   ],
   "source": [
    "import gradio as gr\n",
    "from PIL import Image, ImageDraw, ImageFont\n",
    "\n",
    "def request_vision(image_path):\n",
    "    features = 'objects,tags,SmartCrops'\n",
    "    endpoint = f'https://1507-computervision-we.cognitiveservices.azure.com/computervision/imageanalysis:analyze?api-version=2024-02-01&model-name=kitchendetection&features={features}'\n",
    "    api_key = '450e09da0b934eb2bc950eb9f51fa754'\n",
    "\n",
    "    headers = {\n",
    "        'Content-Type':'application/octet-stream',\n",
    "        'Ocp-Apim-Subscription-Key':api_key\n",
    "    }\n",
    "\n",
    "    with open(image_path, 'rb') as image:\n",
    "        image_data = image.read()\n",
    "\n",
    "    response = requests.post(endpoint,\n",
    "                             headers=headers,\n",
    "                             data=image_data)\n",
    "    \n",
    "    response_json = response.json()\n",
    "    print(response_json)\n",
    "\n",
    "    return response_json\n",
    "\n",
    "def change_image(image_path):\n",
    "    if image_path is None:\n",
    "        return None\n",
    "    \n",
    "    image = Image.open(image_path)\n",
    "    draw = ImageDraw.Draw(image)\n",
    "    try:\n",
    "        font = ImageFont.truetype(\"NanumGothic.ttf\", 30)\n",
    "    except IOError:\n",
    "        font = ImageFont.load_default()\n",
    "\n",
    "    response_json = request_vision(image_path)\n",
    "    # 받은 데이터를 파싱해서 image에 그린다.  \n",
    "    if \"objectsResult\" in response_json and \"values\" in response_json[\"objectsResult\"]:  \n",
    "        for obj in response_json[\"objectsResult\"][\"values\"]:  \n",
    "            box = obj[\"boundingBox\"]  \n",
    "            x, y, w, h = box[\"x\"], box[\"y\"], box[\"w\"], box[\"h\"]  \n",
    "            print(x, y, w, h)\n",
    "            draw.rectangle([(x, y), (x + w, y + h)], outline=\"red\", width=2)  \n",
    "            if \"tags\" in obj:  \n",
    "                for tag in obj[\"tags\"]:  \n",
    "                    draw.text((x, y - 10), tag[\"name\"], fill=\"red\")\n",
    "    \n",
    "    if \"tagsResult\" in response_json and \"values\" in response_json[\"tagsResult\"]:\n",
    "        for obj in response_json[\"tagsResult\"][\"values\"]:\n",
    "            print(obj['name'], int(obj['confidence']*100))\n",
    "\n",
    "    if \"smartCropsResult\" in response_json and \"values\" in response_json[\"smartCropsResult\"]:  \n",
    "        for obj in response_json[\"smartCropsResult\"][\"values\"]:  \n",
    "            box = obj[\"boundingBox\"]  \n",
    "            x, y, w, h = box[\"x\"], box[\"y\"], box[\"w\"], box[\"h\"]  \n",
    "            print(x, y, w, h)\n",
    "            draw.rectangle([(x, y), (x + w, y + h)], outline=\"red\", width=2)  \n",
    "            draw.text((x, y - 10), str(obj['aspectRatio']), fill=\"red\", font=font)  \n",
    "                    \n",
    "    return image\n",
    "\n",
    "with gr.Blocks() as demo:\n",
    "    input_image = gr.Image(label=\"이미지 선택\", type=\"filepath\", width=800)\n",
    "    output_image = gr.Image(label=\"출력 이미지\", type=\"pil\", width=800, interactive=False)\n",
    "\n",
    "    input_image.change(fn=change_image, inputs=[input_image], outputs=[output_image])\n",
    "\n",
    "demo.launch()"
   ]
  }
 ],
 "metadata": {
  "kernelspec": {
   "display_name": "Python 3",
   "language": "python",
   "name": "python3"
  },
  "language_info": {
   "codemirror_mode": {
    "name": "ipython",
    "version": 3
   },
   "file_extension": ".py",
   "mimetype": "text/x-python",
   "name": "python",
   "nbconvert_exporter": "python",
   "pygments_lexer": "ipython3",
   "version": "3.12.4"
  }
 },
 "nbformat": 4,
 "nbformat_minor": 2
}
