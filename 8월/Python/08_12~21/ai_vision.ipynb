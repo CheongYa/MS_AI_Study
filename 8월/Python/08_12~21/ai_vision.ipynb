{
 "cells": [
  {
   "cell_type": "code",
   "execution_count": 2,
   "metadata": {},
   "outputs": [],
   "source": [
    "import requests\n",
    "from azure.ai.vision.imageanalysis import ImageAnalysisClient\n",
    "from azure.ai.vision.imageanalysis.models import VisualFeatures\n",
    "from azure.core.credentials import AzureKeyCredential"
   ]
  },
  {
   "cell_type": "code",
   "execution_count": null,
   "metadata": {},
   "outputs": [],
   "source": [
    "endpoint = 'https://1507-computervision-we.cognitiveservices.azure.com/'\n",
    "api_key = '450e09da0b934eb2bc950eb9f51fa754'\n",
    "\n",
    "client = ImageAnalysisClient(\n",
    "    endpoint=endpoint,\n",
    "    credential=AzureKeyCredential(api_key)\n",
    ")\n",
    "\n",
    "result = client.analyze_from_url(\n",
    "    image_url=\"https://learn.microsoft.com/azure/ai-services/computer-vision/media/quickstarts/presentation.png\",\n",
    "    visual_features=[VisualFeatures.CAPTION, VisualFeatures.READ],\n",
    "    gender_neutral_caption=True,  # Optional (default is False)\n",
    ")\n",
    "\n",
    "print(result)"
   ]
  },
  {
   "cell_type": "code",
   "execution_count": 3,
   "metadata": {},
   "outputs": [
    {
     "name": "stdout",
     "output_type": "stream",
     "text": [
      "Running on local URL:  http://127.0.0.1:7861\n",
      "\n",
      "To create a public link, set `share=True` in `launch()`.\n"
     ]
    },
    {
     "data": {
      "text/html": [
       "<div><iframe src=\"http://127.0.0.1:7861/\" width=\"100%\" height=\"500\" allow=\"autoplay; camera; microphone; clipboard-read; clipboard-write;\" frameborder=\"0\" allowfullscreen></iframe></div>"
      ],
      "text/plain": [
       "<IPython.core.display.HTML object>"
      ]
     },
     "metadata": {},
     "output_type": "display_data"
    },
    {
     "data": {
      "text/plain": []
     },
     "execution_count": 3,
     "metadata": {},
     "output_type": "execute_result"
    },
    {
     "name": "stdout",
     "output_type": "stream",
     "text": [
      "{'modelVersion': '2023-10-01', 'metadata': {'width': 816, 'height': 612}, 'tagsResult': {'values': [{'name': 'tool', 'confidence': 0.9927400946617126}, {'name': 'scissors', 'confidence': 0.9893608093261719}, {'name': 'office instrument', 'confidence': 0.863634467124939}, {'name': 'indoor', 'confidence': 0.701828122138977}, {'name': 'blue', 'confidence': 0.6598926782608032}]}, 'objectsResult': {'values': [{'boundingBox': {'x': 206, 'y': 123, 'w': 431, 'h': 351}, 'tags': [{'name': 'Scissors', 'confidence': 0.899}]}]}, 'smartCropsResult': {'values': [{'aspectRatio': 1.34, 'boundingBox': {'x': 34, 'y': 26, 'w': 748, 'h': 560}}]}}\n",
      "206 123 431 351\n",
      "tool 99\n",
      "scissors 98\n",
      "office instrument 86\n",
      "indoor 70\n",
      "blue 65\n",
      "34 26 748 560\n"
     ]
    }
   ],
   "source": [
    "import gradio as gr\n",
    "from PIL import Image, ImageDraw, ImageFont\n",
    "\n",
    "def request_vision(image_path):\n",
    "    features = 'objects,tags,SmartCrops'\n",
    "    endpoint = f'https://1507-computervision-we.cognitiveservices.azure.com/computervision/imageanalysis:analyze?api-version=2024-02-01&model-name=kitchendetection&features={features}'\n",
    "    api_key = '450e09da0b934eb2bc950eb9f51fa754'\n",
    "\n",
    "    headers = {\n",
    "        'Content-Type':'application/octet-stream',\n",
    "        'Ocp-Apim-Subscription-Key':api_key\n",
    "    }\n",
    "\n",
    "    with open(image_path, 'rb') as image:\n",
    "        image_data = image.read()\n",
    "\n",
    "    response = requests.post(endpoint,\n",
    "                             headers=headers,\n",
    "                             data=image_data)\n",
    "    \n",
    "    response_json = response.json()\n",
    "    print(response_json)\n",
    "\n",
    "    return response_json\n",
    "\n",
    "def change_image(image_path):\n",
    "    if image_path is None:\n",
    "        return None\n",
    "    \n",
    "    image = Image.open(image_path)\n",
    "    draw = ImageDraw.Draw(image)\n",
    "    try:\n",
    "        font = ImageFont.truetype(\"NanumGothic.ttf\", 30)\n",
    "    except IOError:\n",
    "        font = ImageFont.load_default()\n",
    "\n",
    "    response_json = request_vision(image_path)\n",
    "    # 받은 데이터를 파싱해서 image에 그린다.  \n",
    "    if \"objectsResult\" in response_json and \"values\" in response_json[\"objectsResult\"]:  \n",
    "        for obj in response_json[\"objectsResult\"][\"values\"]:  \n",
    "            box = obj[\"boundingBox\"]  \n",
    "            x, y, w, h = box[\"x\"], box[\"y\"], box[\"w\"], box[\"h\"]  \n",
    "            print(x, y, w, h)\n",
    "            draw.rectangle([(x, y), (x + w, y + h)], outline=\"red\", width=2)  \n",
    "            if \"tags\" in obj:  \n",
    "                for tag in obj[\"tags\"]:  \n",
    "                    draw.text((x, y - 10), tag[\"name\"], fill=\"red\")\n",
    "    \n",
    "    if \"tagsResult\" in response_json and \"values\" in response_json[\"tagsResult\"]:\n",
    "        for obj in response_json[\"tagsResult\"][\"values\"]:\n",
    "            print(obj['name'], int(obj['confidence']*100))\n",
    "\n",
    "    if \"smartCropsResult\" in response_json and \"values\" in response_json[\"smartCropsResult\"]:  \n",
    "        for obj in response_json[\"smartCropsResult\"][\"values\"]:  \n",
    "            box = obj[\"boundingBox\"]  \n",
    "            x, y, w, h = box[\"x\"], box[\"y\"], box[\"w\"], box[\"h\"]  \n",
    "            print(x, y, w, h)\n",
    "            draw.rectangle([(x, y), (x + w, y + h)], outline=\"red\", width=2)  \n",
    "            draw.text((x, y - 10), str(obj['aspectRatio']), fill=\"red\", font=font)  \n",
    "                    \n",
    "    return image\n",
    "\n",
    "with gr.Blocks() as demo:\n",
    "    input_image = gr.Image(label=\"이미지 선택\", type=\"filepath\", width=800)\n",
    "    output_image = gr.Image(label=\"출력 이미지\", type=\"pil\", width=800, interactive=False)\n",
    "\n",
    "    input_image.change(fn=change_image, inputs=[input_image], outputs=[output_image])\n",
    "\n",
    "demo.launch()"
   ]
  }
 ],
 "metadata": {
  "kernelspec": {
   "display_name": "Python 3",
   "language": "python",
   "name": "python3"
  },
  "language_info": {
   "codemirror_mode": {
    "name": "ipython",
    "version": 3
   },
   "file_extension": ".py",
   "mimetype": "text/x-python",
   "name": "python",
   "nbconvert_exporter": "python",
   "pygments_lexer": "ipython3",
   "version": "3.12.4"
  }
 },
 "nbformat": 4,
 "nbformat_minor": 2
}
