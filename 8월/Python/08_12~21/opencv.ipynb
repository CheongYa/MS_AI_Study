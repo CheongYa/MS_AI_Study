{
 "cells": [
  {
   "cell_type": "code",
   "execution_count": null,
   "metadata": {},
   "outputs": [],
   "source": [
    "import gradio as gr\n",
    "import cv2\n",
    "\n",
    "# Haar Cascade 분류기 파일 경로\n",
    "# https://github.com/kipr/opencv/blob/master/data/haarcascades/haarcascade_frontalface_default.xml\n",
    "cascPath = cv2.data.haarcascades + 'haarcascade_frontalface_default.xml'\n",
    "faceCascade = cv2.CascadeClassifier(cascPath)"
   ]
  },
  {
   "cell_type": "code",
   "execution_count": null,
   "metadata": {},
   "outputs": [],
   "source": [
    "def detect_faces(image):\n",
    "    # 이미지를 OpenCV 형식으로 변환\n",
    "    image = cv2.cvtColor(image, cv2.COLOR_RGB2BGR)\n",
    "    # 그레이스케일로 변환\n",
    "    gray = cv2.cvtColor(image, cv2.COLOR_BGR2GRAY)\n",
    "    # 얼굴을 검출합니다\n",
    "    faces = faceCascade.detectMultiScale(gray, \n",
    "                                         scaleFactor=1.1, \n",
    "                                         minNeighbors=5, \n",
    "                                         minSize=(30, 30), \n",
    "                                         flags=cv2.CASCADE_SCALE_IMAGE)\n",
    "    # 검출된 얼굴에 사각형 그리기\n",
    "    for(x, y, w, h) in faces:\n",
    "        cv2.rectangle(image, (x, y), (x+w, y+h), (0, 255, 0), 2)\n",
    "\n",
    "    # 이미지를 다시 RGB로 변환\n",
    "    image = cv2.cvtColor(image, cv2.COLOR_BGR2RGB)\n",
    "\n",
    "    return image"
   ]
  },
  {
   "cell_type": "code",
   "execution_count": 7,
   "metadata": {},
   "outputs": [
    {
     "name": "stdout",
     "output_type": "stream",
     "text": [
      "Running on local URL:  http://127.0.0.1:7863\n",
      "\n",
      "Could not create share link. Please check your internet connection or our status page: https://status.gradio.app.\n"
     ]
    },
    {
     "data": {
      "text/html": [
       "<div><iframe src=\"http://127.0.0.1:7863/\" width=\"100%\" height=\"500\" allow=\"autoplay; camera; microphone; clipboard-read; clipboard-write;\" frameborder=\"0\" allowfullscreen></iframe></div>"
      ],
      "text/plain": [
       "<IPython.core.display.HTML object>"
      ]
     },
     "metadata": {},
     "output_type": "display_data"
    },
    {
     "data": {
      "text/plain": []
     },
     "execution_count": 7,
     "metadata": {},
     "output_type": "execute_result"
    }
   ],
   "source": [
    "# Gradio Blocks 인터페이스를 정의합니다.\n",
    "with gr.Blocks() as demo:\n",
    "    with gr.Row():\n",
    "        webcam_input = gr.Image(sources=\"webcam\", streaming=True)\n",
    "        output_image = gr.Image(streaming=True)\n",
    "\n",
    "    def update(image):\n",
    "        return detect_faces(image)\n",
    "    \n",
    "    webcam_input.stream(fn=update, inputs=webcam_input, outputs=output_image)\n",
    "    \n",
    "demo.launch(share=True)"
   ]
  }
 ],
 "metadata": {
  "kernelspec": {
   "display_name": "Python 3",
   "language": "python",
   "name": "python3"
  },
  "language_info": {
   "codemirror_mode": {
    "name": "ipython",
    "version": 3
   },
   "file_extension": ".py",
   "mimetype": "text/x-python",
   "name": "python",
   "nbconvert_exporter": "python",
   "pygments_lexer": "ipython3",
   "version": "3.12.4"
  }
 },
 "nbformat": 4,
 "nbformat_minor": 2
}
